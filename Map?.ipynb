{
 "cells": [
  {
   "cell_type": "code",
   "execution_count": 36,
   "id": "0c0208d5-5ad3-426f-92af-e7b8ca64f9a4",
   "metadata": {},
   "outputs": [],
   "source": [
    "import pandas as pd\n",
    "import folium\n",
    "import geopandas as gpd\n",
    "import folium.plugins as plugins"
   ]
  },
  {
   "cell_type": "code",
   "execution_count": 5,
   "id": "6da5da48-1572-41e7-884c-e7ec195aea17",
   "metadata": {},
   "outputs": [
    {
     "data": {
      "text/html": [
       "<div>\n",
       "<style scoped>\n",
       "    .dataframe tbody tr th:only-of-type {\n",
       "        vertical-align: middle;\n",
       "    }\n",
       "\n",
       "    .dataframe tbody tr th {\n",
       "        vertical-align: top;\n",
       "    }\n",
       "\n",
       "    .dataframe thead th {\n",
       "        text-align: right;\n",
       "    }\n",
       "</style>\n",
       "<table border=\"1\" class=\"dataframe\">\n",
       "  <thead>\n",
       "    <tr style=\"text-align: right;\">\n",
       "      <th></th>\n",
       "      <th>Month</th>\n",
       "      <th>Day</th>\n",
       "      <th>Year</th>\n",
       "      <th>AverageTemperature</th>\n",
       "      <th>AverageTemperatureUncertainty</th>\n",
       "      <th>Country</th>\n",
       "    </tr>\n",
       "  </thead>\n",
       "  <tbody>\n",
       "    <tr>\n",
       "      <th>0</th>\n",
       "      <td>1</td>\n",
       "      <td>1</td>\n",
       "      <td>1970</td>\n",
       "      <td>20.963</td>\n",
       "      <td>0.203</td>\n",
       "      <td>Argentina</td>\n",
       "    </tr>\n",
       "    <tr>\n",
       "      <th>1</th>\n",
       "      <td>2</td>\n",
       "      <td>1</td>\n",
       "      <td>1970</td>\n",
       "      <td>21.538</td>\n",
       "      <td>0.230</td>\n",
       "      <td>Argentina</td>\n",
       "    </tr>\n",
       "    <tr>\n",
       "      <th>2</th>\n",
       "      <td>3</td>\n",
       "      <td>1</td>\n",
       "      <td>1970</td>\n",
       "      <td>18.698</td>\n",
       "      <td>0.225</td>\n",
       "      <td>Argentina</td>\n",
       "    </tr>\n",
       "    <tr>\n",
       "      <th>3</th>\n",
       "      <td>4</td>\n",
       "      <td>1</td>\n",
       "      <td>1970</td>\n",
       "      <td>16.784</td>\n",
       "      <td>0.252</td>\n",
       "      <td>Argentina</td>\n",
       "    </tr>\n",
       "    <tr>\n",
       "      <th>4</th>\n",
       "      <td>5</td>\n",
       "      <td>1</td>\n",
       "      <td>1970</td>\n",
       "      <td>11.408</td>\n",
       "      <td>0.192</td>\n",
       "      <td>Argentina</td>\n",
       "    </tr>\n",
       "  </tbody>\n",
       "</table>\n",
       "</div>"
      ],
      "text/plain": [
       "   Month  Day  Year  AverageTemperature  AverageTemperatureUncertainty  \\\n",
       "0      1    1  1970              20.963                          0.203   \n",
       "1      2    1  1970              21.538                          0.230   \n",
       "2      3    1  1970              18.698                          0.225   \n",
       "3      4    1  1970              16.784                          0.252   \n",
       "4      5    1  1970              11.408                          0.192   \n",
       "\n",
       "     Country  \n",
       "0  Argentina  \n",
       "1  Argentina  \n",
       "2  Argentina  \n",
       "3  Argentina  \n",
       "4  Argentina  "
      ]
     },
     "execution_count": 5,
     "metadata": {},
     "output_type": "execute_result"
    }
   ],
   "source": [
    "#Read csv\n",
    "global_temps_df = pd.read_csv(\"New Files/global_temps_country_filtered_2.csv\")\n",
    "\n",
    "global_temps_df.head()"
   ]
  },
  {
   "cell_type": "code",
   "execution_count": 28,
   "id": "2d8731e5-f558-41fe-bbdf-92a45a4373c4",
   "metadata": {},
   "outputs": [],
   "source": [
    "#pull out july temps for Argentina\n",
    "july_arg_df = global_temps_df.loc[(global_temps_df[\"Month\"]==7) & (global_temps_df[\"Country\"]==\"Argentina\") & (global_temps_df[\"Year\"]<2024)]\n",
    "\n",
    "#Drop Duplicates\n",
    "july_arg_df = july_arg_df.drop_duplicates(subset=[\"Year\"])"
   ]
  },
  {
   "cell_type": "code",
   "execution_count": 35,
   "id": "7370c740-ef23-47a1-8892-9d28607092a7",
   "metadata": {},
   "outputs": [
    {
     "ename": "SyntaxError",
     "evalue": "invalid syntax (2520438362.py, line 2)",
     "output_type": "error",
     "traceback": [
      "\u001b[0;36m  Cell \u001b[0;32mIn[35], line 2\u001b[0;36m\u001b[0m\n\u001b[0;31m    base_map = folium.Map (location=[-34.5037, -58.3816], control_scale=True, zoom_start=10, tiles=\"Buenos Aires\", attr=\"<a href=\"/map.html?lat=10.123&lng=20.567&zoom=13\">\")\u001b[0m\n\u001b[0m                                                                                                                                           ^\u001b[0m\n\u001b[0;31mSyntaxError\u001b[0m\u001b[0;31m:\u001b[0m invalid syntax\n"
     ]
    }
   ],
   "source": [
    "#Create base map\n",
    "base_map = folium.Map (location=[-34.5037, -58.3816], control_scale=True, zoom_start=10, tiles=\"Buenos Aires\", attr=<a href=\"http://www.openstreetmap.org/copyright\">OpenStreetMap</a>\")\n",
    "\n",
    "base_map"
   ]
  },
  {
   "cell_type": "code",
   "execution_count": null,
   "id": "9db91269-0ee0-4891-8e47-aff62546aa27",
   "metadata": {},
   "outputs": [],
   "source": []
  }
 ],
 "metadata": {
  "kernelspec": {
   "display_name": "Python 3 (ipykernel)",
   "language": "python",
   "name": "python3"
  },
  "language_info": {
   "codemirror_mode": {
    "name": "ipython",
    "version": 3
   },
   "file_extension": ".py",
   "mimetype": "text/x-python",
   "name": "python",
   "nbconvert_exporter": "python",
   "pygments_lexer": "ipython3",
   "version": "3.11.5"
  }
 },
 "nbformat": 4,
 "nbformat_minor": 5
}
