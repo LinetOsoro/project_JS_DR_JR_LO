{
 "cells": [
  {
   "cell_type": "code",
<<<<<<< HEAD
   "execution_count": 68,
=======
   "execution_count": 2,
>>>>>>> 1cba73f5fc7313de7e4ca1869a015425970a165f
   "id": "9b19de4c",
   "metadata": {},
   "outputs": [
    {
     "name": "stdout",
     "output_type": "stream",
     "text": [
      "Requirement already satisfied: bottleneck in /Users/jennifersavage/anaconda3/lib/python3.11/site-packages (1.3.8)\n",
      "Requirement already satisfied: numpy in /Users/jennifersavage/anaconda3/lib/python3.11/site-packages (from bottleneck) (1.26.4)\n",
      "Note: you may need to restart the kernel to use updated packages.\n"
     ]
    },
    {
     "name": "stderr",
     "output_type": "stream",
     "text": [
      "WARNING: Retrying (Retry(total=4, connect=None, read=None, redirect=None, status=None)) after connection broken by 'NewConnectionError('<pip._vendor.urllib3.connection.HTTPSConnection object at 0x000001C67808FDD0>: Failed to establish a new connection: [Errno 11001] getaddrinfo failed')': /simple/bottleneck/\n",
      "WARNING: Retrying (Retry(total=3, connect=None, read=None, redirect=None, status=None)) after connection broken by 'NewConnectionError('<pip._vendor.urllib3.connection.HTTPSConnection object at 0x000001C678099750>: Failed to establish a new connection: [Errno 11001] getaddrinfo failed')': /simple/bottleneck/\n"
     ]
    }
   ],
   "source": [
    "pip install --upgrade bottleneck"
   ]
  },
  {
   "cell_type": "code",
<<<<<<< HEAD
   "execution_count": 69,
=======
   "execution_count": 3,
>>>>>>> 1cba73f5fc7313de7e4ca1869a015425970a165f
   "id": "68ae24fe",
   "metadata": {},
   "outputs": [
    {
     "name": "stdout",
     "output_type": "stream",
     "text": [
      "Requirement already satisfied: kaleido in /Users/jennifersavage/anaconda3/lib/python3.11/site-packages (0.2.1)\n",
      "Note: you may need to restart the kernel to use updated packages.\n"
     ]
    }
   ],
   "source": [
    "pip install -U kaleido"
   ]
  },
  {
   "cell_type": "code",
<<<<<<< HEAD
   "execution_count": 70,
=======
   "execution_count": 7,
>>>>>>> 1cba73f5fc7313de7e4ca1869a015425970a165f
   "id": "32f5e98b",
   "metadata": {},
   "outputs": [
    {
<<<<<<< HEAD
     "ename": "SyntaxError",
     "evalue": "invalid syntax (1684445376.py, line 10)",
     "output_type": "error",
     "traceback": [
      "\u001b[1;36m  Cell \u001b[1;32mIn[70], line 10\u001b[1;36m\u001b[0m\n\u001b[1;33m    import plotly.offline as pyo warnings\u001b[0m\n\u001b[1;37m                                 ^\u001b[0m\n\u001b[1;31mSyntaxError\u001b[0m\u001b[1;31m:\u001b[0m invalid syntax\n"
     ]
=======
     "data": {
      "text/html": [
       "<div>\n",
       "<style scoped>\n",
       "    .dataframe tbody tr th:only-of-type {\n",
       "        vertical-align: middle;\n",
       "    }\n",
       "\n",
       "    .dataframe tbody tr th {\n",
       "        vertical-align: top;\n",
       "    }\n",
       "\n",
       "    .dataframe thead th {\n",
       "        text-align: right;\n",
       "    }\n",
       "</style>\n",
       "<table border=\"1\" class=\"dataframe\">\n",
       "  <thead>\n",
       "    <tr style=\"text-align: right;\">\n",
       "      <th></th>\n",
       "      <th>month</th>\n",
       "      <th>day</th>\n",
       "      <th>year</th>\n",
       "      <th>AverageTemperature</th>\n",
       "      <th>AverageTemperatureUncertainty</th>\n",
       "      <th>Country</th>\n",
       "    </tr>\n",
       "  </thead>\n",
       "  <tbody>\n",
       "    <tr>\n",
       "      <th>0</th>\n",
       "      <td>1</td>\n",
       "      <td>1</td>\n",
       "      <td>1900</td>\n",
       "      <td>-2.573</td>\n",
       "      <td>0.443</td>\n",
       "      <td>United States</td>\n",
       "    </tr>\n",
       "    <tr>\n",
       "      <th>1</th>\n",
       "      <td>2</td>\n",
       "      <td>1</td>\n",
       "      <td>1900</td>\n",
       "      <td>-2.912</td>\n",
       "      <td>0.533</td>\n",
       "      <td>United States</td>\n",
       "    </tr>\n",
       "    <tr>\n",
       "      <th>2</th>\n",
       "      <td>3</td>\n",
       "      <td>1</td>\n",
       "      <td>1900</td>\n",
       "      <td>2.636</td>\n",
       "      <td>0.358</td>\n",
       "      <td>United States</td>\n",
       "    </tr>\n",
       "    <tr>\n",
       "      <th>3</th>\n",
       "      <td>4</td>\n",
       "      <td>1</td>\n",
       "      <td>1900</td>\n",
       "      <td>8.091</td>\n",
       "      <td>0.263</td>\n",
       "      <td>United States</td>\n",
       "    </tr>\n",
       "    <tr>\n",
       "      <th>4</th>\n",
       "      <td>5</td>\n",
       "      <td>1</td>\n",
       "      <td>1900</td>\n",
       "      <td>14.317</td>\n",
       "      <td>0.239</td>\n",
       "      <td>United States</td>\n",
       "    </tr>\n",
       "  </tbody>\n",
       "</table>\n",
       "</div>"
      ],
      "text/plain": [
       "   month  day  year  AverageTemperature  AverageTemperatureUncertainty  \\\n",
       "0      1    1  1900              -2.573                          0.443   \n",
       "1      2    1  1900              -2.912                          0.533   \n",
       "2      3    1  1900               2.636                          0.358   \n",
       "3      4    1  1900               8.091                          0.263   \n",
       "4      5    1  1900              14.317                          0.239   \n",
       "\n",
       "         Country  \n",
       "0  United States  \n",
       "1  United States  \n",
       "2  United States  \n",
       "3  United States  \n",
       "4  United States  "
      ]
     },
     "execution_count": 7,
     "metadata": {},
     "output_type": "execute_result"
>>>>>>> 1cba73f5fc7313de7e4ca1869a015425970a165f
    }
   ],
   "source": [
    "from pandas import DataFrame\n",
    "from pandas import Series\n",
    "import pandas as pd\n",
    "import numpy as np\n",
    "from scipy.stats import linregress\n",
    "import seaborn as sns\n",
    "import matplotlib.pyplot as plt\n",
    "import plotly.express as px\n",
    "import plotly.graph_objects as go\n",
    "import plotly.offline as pyo warnings\n",
    "import warnings\n",
    "\n",
    "# Suppress all warnings\n",
    "warnings.filterwarnings(\"ignore\")\n",
    "\n",
    "# Suppress specific warnings if necessary\n",
    "# warnings.filterwarnings(\"ignore\", category=DeprecationWarning)\n",
    "# warnings.filterwarnings(\"ignore\", category=FutureWarning)\n",
    "\n",
    "# Set pandas option\n",
    "pd.options.mode.copy_on_write = True\n",
    "\n",
    "# Load data\n",
    "meat_pop_df  = pd.read_csv(\"New Files/meat_totals.csv\")\n",
    "us_temps_df = pd.read_csv(\"New Files/global_temps_country.csv\")\n",
    "global_temps_df = pd.read_csv(\"New Files/global_temps.csv\")\n",
    "filtered_global_temp_df = pd.read_csv(\"New Files/global_temps_country_filtered.csv\")\n",
    "crop_production_df = pd.read_csv(\"New Files/crop_production.csv\")\n",
    "pork_prices_df = pd.read_csv(\"New Files/pork_prices.csv\")\n",
    "beef_prices_df = pd.read_csv(\"New Files/beef_prices.csv\")\n",
    "methane_levels_df = pd.read_csv(\"New Files/methane_levels_annual.csv\")\n",
    "greenhouse_gas_df = pd.read_csv(\"New Files/Greenhouse_gas.csv\")\n"
   ]
  },
  {
   "cell_type": "code",
<<<<<<< HEAD
=======
   "execution_count": 5,
   "id": "029482d9",
   "metadata": {},
   "outputs": [
    {
     "ename": "NameError",
     "evalue": "name 'meat_totals_df' is not defined",
     "output_type": "error",
     "traceback": [
      "\u001b[0;31m---------------------------------------------------------------------------\u001b[0m",
      "\u001b[0;31mNameError\u001b[0m                                 Traceback (most recent call last)",
      "Cell \u001b[0;32mIn[5], line 2\u001b[0m\n\u001b[1;32m      1\u001b[0m \u001b[38;5;66;03m# Look at Data types and modify if necessary\u001b[39;00m\n\u001b[0;32m----> 2\u001b[0m meat_totals_df\u001b[38;5;241m.\u001b[39mdtypes\n",
      "\u001b[0;31mNameError\u001b[0m: name 'meat_totals_df' is not defined"
     ]
    }
   ],
   "source": [
    "# Look at Data types and modify if necessary\n",
    "meat_totals_df.dtypes"
   ]
  },
  {
   "cell_type": "code",
>>>>>>> 1cba73f5fc7313de7e4ca1869a015425970a165f
   "execution_count": null,
   "id": "968b7049",
   "metadata": {},
   "outputs": [],
   "source": [
    "#Find total red meat overall and make new column\n",
    "meat_pop_df[\"total_red_meat\"] = meat_pop_df[\"total_red_commercial\"]+meat_pop_df[\"total_red_federal\"]\n",
    "\n",
    "meat_pop_df.head()"
   ]
  },
  {
   "cell_type": "code",
   "execution_count": null,
   "id": "ff452f5a",
   "metadata": {},
   "outputs": [],
   "source": [
    "#Look for only 1977 and after because null values before that\n",
    "meat_pop_1977_df = meat_pop_df.loc[meat_pop_df[\"Year\"]>=1977]\n",
    "\n",
    "#Pull only columns needed\n",
    "meat_pop_1977_df = meat_pop_1977_df[[\"Month\", \"Year\", \"total_red_commercial\", \"total_red_federal\", \"total_red_meat\"]]\n",
    "\n",
    "#Drop Null Values\n",
    "\n",
    "meat_pop_1977_df = meat_pop_1977_df.dropna()\n",
    "\n",
    "meat_pop_1977_df.head()"
   ]
  },
  {
   "cell_type": "code",
<<<<<<< HEAD
   "execution_count": null,
   "id": "3234dafc",
   "metadata": {},
   "outputs": [],
=======
   "execution_count": 8,
   "id": "3234dafc",
   "metadata": {},
   "outputs": [
    {
     "data": {
      "text/plain": [
       "month                              int64\n",
       "day                                int64\n",
       "year                               int64\n",
       "AverageTemperature               float64\n",
       "AverageTemperatureUncertainty    float64\n",
       "Country                           object\n",
       "dtype: object"
      ]
     },
     "execution_count": 8,
     "metadata": {},
     "output_type": "execute_result"
    }
   ],
>>>>>>> 1cba73f5fc7313de7e4ca1869a015425970a165f
   "source": [
    "#Drop Null Values to convert Dtypes\n",
    "us_temps_df = us_temps_df.dropna()\n",
    "#Change Data Types\n",
    "us_temps_df[\"month\"] = us_temps_df[\"month\"].astype(\"int64\")\n",
    "us_temps_df.dtypes"
   ]
  },
  {
   "cell_type": "code",
<<<<<<< HEAD
   "execution_count": null,
   "id": "bd4986b2",
   "metadata": {},
   "outputs": [],
=======
   "execution_count": 9,
   "id": "bd4986b2",
   "metadata": {},
   "outputs": [
    {
     "data": {
      "text/html": [
       "<div>\n",
       "<style scoped>\n",
       "    .dataframe tbody tr th:only-of-type {\n",
       "        vertical-align: middle;\n",
       "    }\n",
       "\n",
       "    .dataframe tbody tr th {\n",
       "        vertical-align: top;\n",
       "    }\n",
       "\n",
       "    .dataframe thead th {\n",
       "        text-align: right;\n",
       "    }\n",
       "</style>\n",
       "<table border=\"1\" class=\"dataframe\">\n",
       "  <thead>\n",
       "    <tr style=\"text-align: right;\">\n",
       "      <th></th>\n",
       "      <th>Year</th>\n",
       "      <th>Month</th>\n",
       "      <th>AverageTemperature</th>\n",
       "    </tr>\n",
       "  </thead>\n",
       "  <tbody>\n",
       "    <tr>\n",
       "      <th>893</th>\n",
       "      <td>1977</td>\n",
       "      <td>1</td>\n",
       "      <td>-5.601</td>\n",
       "    </tr>\n",
       "    <tr>\n",
       "      <th>894</th>\n",
       "      <td>1977</td>\n",
       "      <td>2</td>\n",
       "      <td>0.271</td>\n",
       "    </tr>\n",
       "    <tr>\n",
       "      <th>895</th>\n",
       "      <td>1977</td>\n",
       "      <td>3</td>\n",
       "      <td>2.918</td>\n",
       "    </tr>\n",
       "    <tr>\n",
       "      <th>896</th>\n",
       "      <td>1977</td>\n",
       "      <td>4</td>\n",
       "      <td>9.153</td>\n",
       "    </tr>\n",
       "    <tr>\n",
       "      <th>897</th>\n",
       "      <td>1977</td>\n",
       "      <td>5</td>\n",
       "      <td>14.556</td>\n",
       "    </tr>\n",
       "  </tbody>\n",
       "</table>\n",
       "</div>"
      ],
      "text/plain": [
       "     Year  Month  AverageTemperature\n",
       "893  1977      1              -5.601\n",
       "894  1977      2               0.271\n",
       "895  1977      3               2.918\n",
       "896  1977      4               9.153\n",
       "897  1977      5              14.556"
      ]
     },
     "execution_count": 9,
     "metadata": {},
     "output_type": "execute_result"
    }
   ],
>>>>>>> 1cba73f5fc7313de7e4ca1869a015425970a165f
   "source": [
    "#Rename to match meat data frame\n",
    "us_temps_df = us_temps_df.rename(columns={\"year\":\"Year\", \"month\":\"Month\"})\n",
    "\n",
    "us_temps_df.dtypes\n",
    "# #Filter to 1977\n",
    "us_temps_1977_df = us_temps_df.loc[us_temps_df[\"Year\"]>=1977]\n",
    "\n",
    "\n",
    "#reduce\n",
    "us_temps_1977_df = us_temps_1977_df[[\"Year\", \"Month\", \"AverageTemperature\"]]\n",
    "us_temps_1977_df.head()"
   ]
  },
  {
   "cell_type": "code",
   "execution_count": null,
   "id": "5042d84c",
   "metadata": {},
   "outputs": [],
   "source": [
    "#Merge!\n",
    "\n",
    "us_temps_meat_df = pd.merge(meat_pop_1977_df, us_temps_1977_df, left_on = [\"Year\", \"Month\"], right_on = [\"Year\", \"Month\"], how = \"inner\")\n",
    "\n",
    "us_temps_meat_df.head()"
   ]
  },
  {
   "cell_type": "code",
   "execution_count": null,
   "id": "bf8dfc8b",
   "metadata": {},
   "outputs": [],
   "source": [
    "outliers_df = us_temps_meat_df.loc[us_temps_meat_df[\"total_red_meat\"]>10000]\n",
    "\n",
    "filtered_df = us_temps_meat_df[us_temps_meat_df[\"total_red_meat\"]<=10000]\n",
    "\n",
    "filtered_df.head()"
   ]
  },
  {
   "cell_type": "code",
   "execution_count": null,
   "id": "0cc2137b",
   "metadata": {},
   "outputs": [],
   "source": [
    "#Find Averages of total_red_meat\n",
    "average_df = filtered_df.groupby(\"Year\")[\"total_red_meat\"].mean()\n",
    "\n",
    "average_df = pd.DataFrame(average_df)\n",
    "\n",
    "average_df.head()"
   ]
  },
  {
   "cell_type": "code",
   "execution_count": null,
   "id": "b933652b",
   "metadata": {},
   "outputs": [],
   "source": [
    "# production of red meat\n",
    "\n",
    "#Scatter plot\n",
    "x = average_df.index\n",
    "y = average_df[\"total_red_meat\"]\n",
    "(slope, intercept, rvalue, pvalue, stderr) = linregress(x, y)\n",
    "regress_values = x * slope + intercept\n",
    "line_eq = \"y = \" + str(round(slope,2)) + \"x + \" + str(round(intercept,2))\n",
    "fig, ax = plt.subplots()\n",
    "plt.xlabel(\"Year\")\n",
    "plt.ylabel(\"Weight (millions of pounds)\")\n",
    "plt.title(\"Red Meat Population by Year 1977 - 2024\")\n",
    "plt.scatter(x,y, marker=\"o\", facecolors=\"green\", edgecolors=\"black\")\n",
    "plt.plot(x, regress_values, \"r-\")\n",
    "plt.annotate(line_eq,(1980, 7500),fontsize=15,color=\"red\")\n",
    "\n",
    "# Save the plot\n",
    "# plt.savefig(\"red_meat_population_scatter_regression.png\")\n",
    "\n",
    "plt.show()"
   ]
  },
  {
   "cell_type": "code",
   "execution_count": null,
   "id": "cdbe36a2",
   "metadata": {},
   "outputs": [],
   "source": [
    "# production of red meat using seaborn\n",
    "\n",
    "# Scatter plot with regression line \n",
    "sns.set(style=\"whitegrid\")\n",
    "plt.figure(figsize=(10, 6))\n",
    "sns.scatterplot(data=average_df, x=average_df.index, y=\"total_red_meat\", color=\"green\", edgecolor=\"black\")\n",
    "sns.regplot(data=average_df, x=average_df.index, y=\"total_red_meat\", scatter=False, color=\"red\")\n",
    "\n",
    "# Adding regression equation\n",
    "x = average_df.index\n",
    "y = average_df[\"total_red_meat\"]\n",
    "(slope, intercept, rvalue, pvalue, stderr) = linregress(x, y)\n",
    "line_eq = f'y = {slope:.2f}x + {intercept:.2f}'\n",
    "plt.annotate(line_eq, xy=(0.05, 0.9), xycoords='axes fraction', fontsize=12, color='red')\n",
    "\n",
    "# Adding labels and title\n",
    "plt.xlabel(\"Year\")\n",
    "plt.ylabel(\"Weight (millions of pounds)\")\n",
    "plt.title(\"Red Meat Population by Year 1977 - 2024\")\n",
    "\n",
    "# Save the plot\n",
    "# plt.savefig(\"red_meat_population_regression.png\")\n",
    "\n",
    "plt.tight_layout()\n",
    "plt.show()"
   ]
  },
  {
   "cell_type": "code",
   "execution_count": null,
   "id": "a59ed45d",
   "metadata": {},
   "outputs": [],
   "source": [
    "# production of red meat using plotly\n",
    "\n",
    "# Scatter plot with regression line using Plotly Express\n",
    "fig = px.scatter(average_df, x=average_df.index, y=\"total_red_meat\", trendline=\"ols\", \n",
    "                 trendline_color_override=\"red\", labels={\"index\": \"Year\", \"total_red_meat\": \"Weight (millions of pounds)\"},\n",
    "                 title=\"Red Meat Population by Year 1977 - 2024\")\n",
    "fig.update_traces(marker=dict(color='green', line=dict(color='black', width=1.5)))\n",
    "\n",
    "# Display equation of the regression line\n",
    "fig.add_annotation(\n",
    "    x=0.05,\n",
    "    y=0.9,\n",
    "    xref=\"paper\",\n",
    "    yref=\"paper\",\n",
    "    text=f\"y = {slope:.2f}x + {intercept:.2f}\",\n",
    "    showarrow=False,\n",
    "    font=dict(color=\"red\", size=12)\n",
    ")\n",
    "\n",
    "# Show the plot\n",
    "fig.show()\n",
    "\n",
    "# Save the plot as an image\n",
    "# fig.write_image(\"red_meat_population_regression_plotly.png\")"
   ]
  },
  {
   "cell_type": "code",
   "execution_count": null,
   "id": "a136802e",
   "metadata": {},
   "outputs": [],
   "source": [
    "# Calculating US Avg temp Vs Red Meat population by Decade using seaborn\n",
    "#Scatter plot\n",
    "x = filtered_df[\"Year\"]\n",
    "y = filtered_df[\"AverageTemperature\"]\n",
    "(slope, intercept, rvalue, pvalue, stderr) = linregress(x, y)\n",
    "regress_values = x * slope + intercept\n",
    "line_eq = \"y = \" + str(round(slope,2)) + \"x + \" + str(round(intercept,2))\n",
    "fig, ax = plt.subplots()\n",
    "plt.xlabel(\"Year\")\n",
    "plt.ylabel(\"Weight (millions of pounds)\")\n",
    "plt.title(\"US Temps vs Red Meat Population 1977 - 2024\")\n",
    "plt.scatter(x,y, marker=\"o\", facecolors=\"green\", edgecolors=\"black\")\n",
    "plt.plot(x, regress_values, \"r-\")\n",
    "plt.annotate(line_eq, (1977, 55), fontsize=15, color=\"red\")\n",
    "\n",
    "# Save the plot\n",
    "# plt.savefig(\"us_temps_vs_red_meat_population.png\")\n",
    "\n",
    "plt.show()"
   ]
  },
  {
   "cell_type": "code",
   "execution_count": null,
   "id": "45f73878",
   "metadata": {},
   "outputs": [],
   "source": [
    "# Calculating US Avg temp Vs Red Meat population by Decade using seaborn\n",
    "\n",
    "# Scatter plot with regression line using Seaborn\n",
    "sns.set(style=\"whitegrid\")\n",
    "plt.figure(figsize=(10, 6))\n",
    "sns.scatterplot(data=filtered_df, x=\"Year\", y=\"AverageTemperature\", color=\"green\", edgecolor=\"black\")\n",
    "\n",
    "# Calculate regression line\n",
    "x = filtered_df[\"Year\"]\n",
    "y = filtered_df[\"AverageTemperature\"]\n",
    "(slope, intercept, rvalue, pvalue, stderr) = linregress(x, y)\n",
    "regress_values = x * slope + intercept\n",
    "\n",
    "# Plot regression line\n",
    "plt.plot(x, regress_values, \"r-\")\n",
    "\n",
    "# Adding regression equation\n",
    "line_eq = f'y = {slope:.2f}x + {intercept:.2f}'\n",
    "plt.annotate(line_eq, xy=(1977, 55), fontsize=12, color='red')\n",
    "\n",
    "# Adding labels and title\n",
    "plt.xlabel(\"Year\")\n",
    "plt.ylabel(\"Average Temperature (°F)\")\n",
    "plt.title(\"US Temperatures vs Red Meat Population 1977 - 2024\")\n",
    "\n",
    "plt.tight_layout()\n",
    "\n",
    "# Save the plot\n",
    "# plt.savefig(\"us_temps_vs_red_meat_population.png\")\n",
    "\n",
    "plt.show()"
   ]
  },
  {
   "cell_type": "code",
   "execution_count": null,
   "id": "721ee751",
   "metadata": {},
   "outputs": [],
   "source": [
    "# Calculating the Average temp Vs Red Meat population by Decade using seaborn\n",
    "\n",
    "# Calculate the decade for each year\n",
    "filtered_df[\"Decade\"] = (filtered_df[\"Year\"] // 10) * 10\n",
    "\n",
    "# Set the style\n",
    "sns.set(style=\"whitegrid\")\n",
    "\n",
    "# Create a scatter plot with regression line for each decade\n",
    "plt.figure(figsize=(12, 8))\n",
    "for decade in filtered_df[\"Decade\"].unique():\n",
    "    decade_data = filtered_df[filtered_df[\"Decade\"] == decade]\n",
    "    sns.regplot(data=decade_data, x=\"Year\", y=\"AverageTemperature\", scatter=True, color=\"green\", label=f\"{decade}s\")\n",
    "\n",
    "# Adding labels and title\n",
    "plt.xlabel(\"Year\")\n",
    "plt.ylabel(\"Average Temperature (°F)\")\n",
    "plt.title(\"US Temperatures vs Red Meat Population by Decade\")\n",
    "\n",
    "# Add legend\n",
    "plt.legend()\n",
    "\n",
    "# Save the plot\n",
    "# plt.savefig(\"average_temperature_regression_per_decade.png\")\n",
    "\n",
    "plt.tight_layout()\n",
    "plt.show()"
   ]
  },
  {
   "cell_type": "code",
   "execution_count": null,
   "id": "2b608437",
<<<<<<< HEAD
   "metadata": {},
=======
   "metadata": {
    "scrolled": true
   },
>>>>>>> 1cba73f5fc7313de7e4ca1869a015425970a165f
   "outputs": [],
   "source": [
    "# Calculating the Average temp Vs Red Meat population by Decade using plotly\n",
    "\n",
    "# Calculate the decade for each year\n",
    "filtered_df[\"Decade\"] = (filtered_df[\"Year\"] // 10) * 10\n",
    "\n",
    "# Set the style\n",
    "sns.set(style=\"whitegrid\")\n",
    "\n",
    "# Create a scatter plot with regression line for each decade\n",
    "fig = px.scatter(filtered_df, x=\"Year\", y=\"AverageTemperature\", color=\"Decade\", trendline=\"ols\", \n",
    "                 labels={\"Year\": \"Year\", \"AverageTemperature\": \"Average Temperature (°F)\", \"Decade\": \"Decade\"},\n",
    "                 title=\"US Temperatures vs Red Meat Population by Decade\")\n",
    "fig.update_traces(marker=dict(size=8))\n",
    "fig.update_traces(line=dict(color='green', width=2))\n",
    "\n",
    "# Update layout\n",
    "fig.update_layout(\n",
    "    legend_title_text=\"Decade\",\n",
    "    xaxis_title=\"Year\",\n",
    "    yaxis_title=\"Average Temperature (°F)\",\n",
    ")\n",
    "\n",
    "# Show the plot\n",
    "fig.show()\n",
    "\n",
    "# Save the plot as an image\n",
    "# fig.write_image(\"average_temperature_regression_per_decade_plotly.png\")"
   ]
  },
  {
   "cell_type": "code",
   "execution_count": null,
<<<<<<< HEAD
=======
   "id": "b0a96ae6-94f7-4cb5-80a8-c5bf9f2c86fe",
   "metadata": {},
   "outputs": [],
   "source": [
    "filtered_df.head()"
   ]
  },
  {
   "cell_type": "code",
   "execution_count": 41,
>>>>>>> 1cba73f5fc7313de7e4ca1869a015425970a165f
   "id": "148e5c68",
   "metadata": {},
   "outputs": [],
   "source": [
    "# Calculating avergae temp per decade using seaborn boxplot\n",
    "\n",
    "# Calculate the decade for each year\n",
    "filtered_df[\"Decade\"] = (filtered_df[\"Year\"] // 10) * 10\n",
    "\n",
    "# Set the style\n",
    "sns.set(style=\"whitegrid\")\n",
    "\n",
    "# Create a box plot\n",
    "plt.figure(figsize=(12, 8))\n",
    "sns.boxplot(data=filtered_df, x=\"Decade\", y=\"AverageTemperature\", color=\"skyblue\")\n",
    "\n",
    "# Adding labels and title\n",
    "plt.xlabel(\"Decade\")\n",
    "plt.ylabel(\"Average Temperature (°F)\")\n",
    "plt.title(\"Distribution of Average Temperatures by Decade\")\n",
    "\n",
    "# Save the plot\n",
    "# plt.savefig(\"average_temperature_boxplot_per_decade.png\")\n",
    "\n",
    "plt.tight_layout()\n",
    "plt.show()"
   ]
  },
  {
   "cell_type": "code",
   "execution_count": null,
   "id": "941ae776",
   "metadata": {},
<<<<<<< HEAD
   "outputs": [],
=======
   "outputs": [
    {
     "data": {
      "application/vnd.plotly.v1+json": {
       "config": {
        "plotlyServerURL": "https://plot.ly"
       },
       "data": [
        {
         "alignmentgroup": "True",
         "hovertemplate": "Decade=%{x}<br>Average Temperature (°F)=%{y}<extra></extra>",
         "legendgroup": "2010",
         "marker": {
          "color": "#636efa"
         },
         "name": "2010",
         "notched": false,
         "offsetgroup": "2010",
         "orientation": "v",
         "showlegend": true,
         "type": "box",
         "x": [
          2010,
          2010,
          2010,
          2010,
          2010,
          2010,
          2010,
          2010,
          2010,
          2010,
          2010,
          2010,
          2010,
          2010,
          2010,
          2010,
          2010,
          2010,
          2010,
          2010,
          2010,
          2010,
          2010,
          2010,
          2010,
          2010,
          2010,
          2010,
          2010,
          2010,
          2010,
          2010,
          2010,
          2010,
          2010,
          2010,
          2010,
          2010,
          2010,
          2010,
          2010,
          2010,
          2010,
          2010,
          2010
         ],
         "x0": " ",
         "xaxis": "x",
         "y": [
          18.273,
          21.168,
          22.074,
          20.198,
          14.073,
          6.97,
          2.289,
          -1.216,
          -2.155,
          -1.261,
          3.33,
          9.688,
          17.036,
          21.422,
          23.008,
          19.954,
          15.422,
          10.196,
          6.024,
          0.582,
          -2.268,
          -0.635,
          2.966,
          10.49,
          17.148,
          21.915,
          22.722,
          19.578,
          13.759,
          8.582,
          3.462,
          -1.881,
          -3.507,
          -2.942,
          3.601,
          10.913,
          17.384,
          21.703,
          22.078,
          19.885,
          14.174,
          9.55,
          3.436,
          -2.105,
          -3.61
         ],
         "y0": " ",
         "yaxis": "y"
        },
        {
         "alignmentgroup": "True",
         "hovertemplate": "Decade=%{x}<br>Average Temperature (°F)=%{y}<extra></extra>",
         "legendgroup": "2000",
         "marker": {
          "color": "#EF553B"
         },
         "name": "2000",
         "notched": false,
         "offsetgroup": "2000",
         "orientation": "v",
         "showlegend": true,
         "type": "box",
         "x": [
          2000,
          2000,
          2000,
          2000,
          2000,
          2000,
          2000,
          2000,
          2000,
          2000,
          2000,
          2000,
          2000,
          2000,
          2000,
          2000,
          2000,
          2000,
          2000,
          2000,
          2000,
          2000,
          2000,
          2000,
          2000,
          2000,
          2000,
          2000,
          2000,
          2000,
          2000,
          2000,
          2000,
          2000,
          2000,
          2000,
          2000,
          2000,
          2000,
          2000,
          2000,
          2000,
          2000,
          2000,
          2000,
          2000,
          2000,
          2000,
          2000,
          2000,
          2000,
          2000,
          2000,
          2000,
          2000,
          2000,
          2000,
          2000,
          2000,
          2000,
          2000,
          2000,
          2000,
          2000,
          2000,
          2000,
          2000,
          2000,
          2000,
          2000,
          2000,
          2000,
          2000,
          2000,
          2000,
          2000,
          2000,
          2000,
          2000,
          2000,
          2000,
          2000,
          2000,
          2000,
          2000,
          2000,
          2000,
          2000,
          2000,
          2000,
          2000,
          2000,
          2000,
          2000,
          2000,
          2000,
          2000,
          2000,
          2000,
          2000,
          2000,
          2000,
          2000,
          2000,
          2000,
          2000,
          2000,
          2000,
          2000,
          2000,
          2000,
          2000,
          2000,
          2000,
          2000,
          2000,
          2000,
          2000,
          2000,
          2000
         ],
         "x0": " ",
         "xaxis": "x",
         "y": [
          -3.178,
          4.251,
          8.534,
          17.167,
          20.436,
          21.463,
          18.962,
          14.884,
          8.172,
          2.833,
          -0.31,
          -3.569,
          -2.532,
          3.62,
          9.164,
          16.567,
          20.543,
          21.69,
          19.381,
          13.723,
          7.902,
          2.828,
          -1.586,
          -3.883,
          -1.748,
          4.502,
          10.932,
          17.365,
          22.118,
          22.352,
          19.705,
          15.101,
          8.476,
          4.446,
          -2.24,
          -2.959,
          -0.167,
          3.4,
          9.608,
          15.992,
          21.079,
          22.911,
          19.933,
          15.155,
          9.85,
          2.794,
          -0.574,
          -0.287,
          -1.572,
          3.65,
          10.489,
          17.73,
          21.353,
          22.478,
          19.511,
          14.204,
          8.797,
          3.548,
          0.408,
          -1.884,
          -0.93,
          4.191,
          10.67,
          16.468,
          20.175,
          21.663,
          19.228,
          15.247,
          9.388,
          5.178,
          -1.427,
          -3.841,
          -1.072,
          3.35,
          11.466,
          16.299,
          21.833,
          22.499,
          18.871,
          14.443,
          9.014,
          3.438,
          -1.26,
          -1.82,
          -0.369,
          3.919,
          9.288,
          17.518,
          20.901,
          22.675,
          20.052,
          13.908,
          9.211,
          2.08,
          -0.223,
          -1.166,
          -1.06,
          5.233,
          9.586,
          16.925,
          21.653,
          21.907,
          19.357,
          14.728,
          9.274,
          2.606,
          -0.73,
          -2.052,
          -3.459,
          1.608,
          10.134,
          16.525,
          21.263,
          21.605,
          19.294,
          15.085,
          8.929,
          5.146,
          2.005,
          -2.338
         ],
         "y0": " ",
         "yaxis": "y"
        },
        {
         "alignmentgroup": "True",
         "hovertemplate": "Decade=%{x}<br>Average Temperature (°F)=%{y}<extra></extra>",
         "legendgroup": "1990",
         "marker": {
          "color": "#00cc96"
         },
         "name": "1990",
         "notched": false,
         "offsetgroup": "1990",
         "orientation": "v",
         "showlegend": true,
         "type": "box",
         "x": [
          1990,
          1990,
          1990,
          1990,
          1990,
          1990,
          1990,
          1990,
          1990,
          1990,
          1990,
          1990,
          1990,
          1990,
          1990,
          1990,
          1990,
          1990,
          1990,
          1990,
          1990,
          1990,
          1990,
          1990,
          1990,
          1990,
          1990,
          1990,
          1990,
          1990,
          1990,
          1990,
          1990,
          1990,
          1990,
          1990,
          1990,
          1990,
          1990,
          1990,
          1990,
          1990,
          1990,
          1990,
          1990,
          1990,
          1990,
          1990,
          1990,
          1990,
          1990,
          1990,
          1990,
          1990,
          1990,
          1990,
          1990,
          1990,
          1990,
          1990,
          1990,
          1990,
          1990,
          1990,
          1990,
          1990,
          1990,
          1990,
          1990,
          1990,
          1990,
          1990,
          1990,
          1990,
          1990,
          1990,
          1990,
          1990,
          1990,
          1990,
          1990,
          1990,
          1990,
          1990,
          1990,
          1990,
          1990,
          1990,
          1990,
          1990,
          1990,
          1990,
          1990,
          1990,
          1990,
          1990,
          1990,
          1990,
          1990,
          1990,
          1990,
          1990,
          1990,
          1990,
          1990,
          1990,
          1990,
          1990,
          1990,
          1990,
          1990,
          1990,
          1990,
          1990,
          1990,
          1990,
          1990,
          1990,
          1990,
          1990
         ],
         "x0": " ",
         "xaxis": "x",
         "y": [
          -1.421,
          5.34,
          9.818,
          16.269,
          21.085,
          21.923,
          18.912,
          13.885,
          8.379,
          2.976,
          0.188,
          -2.55,
          -1.027,
          4.521,
          10.435,
          18.384,
          21.299,
          22.626,
          18.771,
          15.193,
          8.865,
          3.317,
          1,
          -1.69,
          -1.794,
          2.947,
          9.233,
          17.458,
          20.642,
          21.597,
          19.042,
          13.906,
          7.08,
          3.757,
          0.219,
          -4.012,
          -2.033,
          1.809,
          8.822,
          15.429,
          20.497,
          21.636,
          19.513,
          14.586,
          7.975,
          2.021,
          -0.887,
          -4.316,
          -1.962,
          2.613,
          10.03,
          16.739,
          21.586,
          21.632,
          18.469,
          13.717,
          7.975,
          3.055,
          0.257,
          -2.139,
          -0.9,
          2.7,
          9.572,
          16.567,
          20.807,
          21.694,
          19.964,
          14.413,
          9.035,
          3.743,
          -2.622,
          -3.729,
          -1.002,
          1.893,
          9.591,
          15.534,
          20.486,
          21.254,
          18.459,
          14.63,
          8.246,
          3.195,
          -2.381,
          -3.498,
          -2.906,
          2.125,
          9.527,
          15.458,
          19.492,
          20.595,
          18.477,
          14.029,
          8.729,
          4.227,
          0.662,
          -1.739,
          -1.032,
          1.478,
          10.154,
          16.607,
          20.866,
          21.616,
          19.335,
          15.076,
          9.144,
          3.496,
          1.043,
          -3.859,
          -3.401,
          3.622,
          9.592,
          17.457,
          20.857,
          21.605,
          19.78,
          13.772,
          9.38,
          4.465,
          -1.747,
          -1.123
         ],
         "y0": " ",
         "yaxis": "y"
        },
        {
         "alignmentgroup": "True",
         "hovertemplate": "Decade=%{x}<br>Average Temperature (°F)=%{y}<extra></extra>",
         "legendgroup": "1980",
         "marker": {
          "color": "#ab63fa"
         },
         "name": "1980",
         "notched": false,
         "offsetgroup": "1980",
         "orientation": "v",
         "showlegend": true,
         "type": "box",
         "x": [
          1980,
          1980,
          1980,
          1980,
          1980,
          1980,
          1980,
          1980,
          1980,
          1980,
          1980,
          1980,
          1980,
          1980,
          1980,
          1980,
          1980,
          1980,
          1980,
          1980,
          1980,
          1980,
          1980,
          1980,
          1980,
          1980,
          1980,
          1980,
          1980,
          1980,
          1980,
          1980,
          1980,
          1980,
          1980,
          1980,
          1980,
          1980,
          1980,
          1980,
          1980,
          1980,
          1980,
          1980,
          1980,
          1980,
          1980,
          1980,
          1980,
          1980,
          1980,
          1980,
          1980,
          1980,
          1980,
          1980,
          1980,
          1980,
          1980,
          1980,
          1980,
          1980,
          1980,
          1980,
          1980,
          1980,
          1980,
          1980,
          1980,
          1980,
          1980,
          1980,
          1980,
          1980,
          1980,
          1980,
          1980,
          1980,
          1980,
          1980,
          1980,
          1980,
          1980,
          1980,
          1980,
          1980,
          1980,
          1980,
          1980,
          1980,
          1980,
          1980,
          1980,
          1980,
          1980,
          1980,
          1980,
          1980,
          1980,
          1980,
          1980,
          1980,
          1980,
          1980,
          1980,
          1980,
          1980,
          1980
         ],
         "x0": " ",
         "xaxis": "x",
         "y": [
          -4.068,
          2.597,
          9.901,
          16.236,
          20.469,
          21.974,
          18.698,
          14.031,
          9.439,
          3.12,
          -2.817,
          -3.103,
          -1.501,
          2.909,
          9.22,
          16.161,
          21.295,
          22.243,
          20.021,
          14.642,
          8.686,
          3.252,
          -1.361,
          -4.263,
          -1.433,
          3.835,
          9.653,
          16.371,
          20.587,
          21.479,
          19.63,
          15.258,
          9.16,
          3.266,
          0.257,
          -2.525,
          -0.583,
          2.504,
          9.691,
          15.92,
          20.188,
          21.544,
          19.789,
          14.245,
          8.394,
          4.471,
          -0.175,
          -1.274,
          -3.015,
          1.545,
          9.435,
          15.271,
          20.02,
          21.758,
          18.462,
          14.656,
          8.709,
          3.677,
          -3.455,
          -4.019,
          -1.29,
          2.373,
          9.514,
          15.677,
          20.886,
          21.264,
          19.035,
          13.769,
          7.175,
          2.553,
          -1.015,
          -4.207,
          -5.138,
          3.759,
          9.854,
          16.346,
          21.763,
          21.787,
          18.284,
          13.011,
          6.625,
          3.227,
          0.026,
          -2.596,
          -1.81,
          4.344,
          9.072,
          16.223,
          20.495,
          21.562,
          19.467,
          13.88,
          10.178,
          4.221,
          0.022,
          -0.996,
          -2.191,
          3.42,
          9.348,
          16.791,
          20.776,
          22.544,
          18.939,
          14.167,
          8.601,
          2.073,
          -1.325,
          -3.517
         ],
         "y0": " ",
         "yaxis": "y"
        },
        {
         "alignmentgroup": "True",
         "hovertemplate": "Decade=%{x}<br>Average Temperature (°F)=%{y}<extra></extra>",
         "legendgroup": "1970",
         "marker": {
          "color": "#FFA15A"
         },
         "name": "1970",
         "notched": false,
         "offsetgroup": "1970",
         "orientation": "v",
         "showlegend": true,
         "type": "box",
         "x": [
          1970,
          1970,
          1970,
          1970,
          1970,
          1970,
          1970,
          1970,
          1970,
          1970,
          1970,
          1970,
          1970,
          1970,
          1970,
          1970,
          1970,
          1970,
          1970,
          1970,
          1970,
          1970,
          1970,
          1970,
          1970,
          1970,
          1970,
          1970,
          1970,
          1970,
          1970,
          1970,
          1970,
          1970,
          1970,
          1970
         ],
         "x0": " ",
         "xaxis": "x",
         "y": [
          -1.355,
          2.972,
          10.821,
          17.086,
          20.371,
          21.439,
          18.514,
          13.758,
          7.974,
          3.175,
          -5.276,
          -6.62,
          -3.127,
          3.186,
          9.73,
          17.028,
          20.653,
          21.733,
          18.872,
          13.89,
          8.736,
          2.819,
          -3.857,
          -4.646,
          -2.326,
          2.694,
          9.815,
          17.025,
          20.909,
          22.083,
          19.741,
          14.556,
          9.153,
          2.918,
          0.271,
          -5.601
         ],
         "y0": " ",
         "yaxis": "y"
        }
       ],
       "layout": {
        "autosize": true,
        "boxmode": "overlay",
        "legend": {
         "title": {
          "text": "Decade"
         },
         "tracegroupgap": 0
        },
        "template": {
         "data": {
          "bar": [
           {
            "error_x": {
             "color": "#2a3f5f"
            },
            "error_y": {
             "color": "#2a3f5f"
            },
            "marker": {
             "line": {
              "color": "#E5ECF6",
              "width": 0.5
             },
             "pattern": {
              "fillmode": "overlay",
              "size": 10,
              "solidity": 0.2
             }
            },
            "type": "bar"
           }
          ],
          "barpolar": [
           {
            "marker": {
             "line": {
              "color": "#E5ECF6",
              "width": 0.5
             },
             "pattern": {
              "fillmode": "overlay",
              "size": 10,
              "solidity": 0.2
             }
            },
            "type": "barpolar"
           }
          ],
          "carpet": [
           {
            "aaxis": {
             "endlinecolor": "#2a3f5f",
             "gridcolor": "white",
             "linecolor": "white",
             "minorgridcolor": "white",
             "startlinecolor": "#2a3f5f"
            },
            "baxis": {
             "endlinecolor": "#2a3f5f",
             "gridcolor": "white",
             "linecolor": "white",
             "minorgridcolor": "white",
             "startlinecolor": "#2a3f5f"
            },
            "type": "carpet"
           }
          ],
          "choropleth": [
           {
            "colorbar": {
             "outlinewidth": 0,
             "ticks": ""
            },
            "type": "choropleth"
           }
          ],
          "contour": [
           {
            "colorbar": {
             "outlinewidth": 0,
             "ticks": ""
            },
            "colorscale": [
             [
              0,
              "#0d0887"
             ],
             [
              0.1111111111111111,
              "#46039f"
             ],
             [
              0.2222222222222222,
              "#7201a8"
             ],
             [
              0.3333333333333333,
              "#9c179e"
             ],
             [
              0.4444444444444444,
              "#bd3786"
             ],
             [
              0.5555555555555556,
              "#d8576b"
             ],
             [
              0.6666666666666666,
              "#ed7953"
             ],
             [
              0.7777777777777778,
              "#fb9f3a"
             ],
             [
              0.8888888888888888,
              "#fdca26"
             ],
             [
              1,
              "#f0f921"
             ]
            ],
            "type": "contour"
           }
          ],
          "contourcarpet": [
           {
            "colorbar": {
             "outlinewidth": 0,
             "ticks": ""
            },
            "type": "contourcarpet"
           }
          ],
          "heatmap": [
           {
            "colorbar": {
             "outlinewidth": 0,
             "ticks": ""
            },
            "colorscale": [
             [
              0,
              "#0d0887"
             ],
             [
              0.1111111111111111,
              "#46039f"
             ],
             [
              0.2222222222222222,
              "#7201a8"
             ],
             [
              0.3333333333333333,
              "#9c179e"
             ],
             [
              0.4444444444444444,
              "#bd3786"
             ],
             [
              0.5555555555555556,
              "#d8576b"
             ],
             [
              0.6666666666666666,
              "#ed7953"
             ],
             [
              0.7777777777777778,
              "#fb9f3a"
             ],
             [
              0.8888888888888888,
              "#fdca26"
             ],
             [
              1,
              "#f0f921"
             ]
            ],
            "type": "heatmap"
           }
          ],
          "heatmapgl": [
           {
            "colorbar": {
             "outlinewidth": 0,
             "ticks": ""
            },
            "colorscale": [
             [
              0,
              "#0d0887"
             ],
             [
              0.1111111111111111,
              "#46039f"
             ],
             [
              0.2222222222222222,
              "#7201a8"
             ],
             [
              0.3333333333333333,
              "#9c179e"
             ],
             [
              0.4444444444444444,
              "#bd3786"
             ],
             [
              0.5555555555555556,
              "#d8576b"
             ],
             [
              0.6666666666666666,
              "#ed7953"
             ],
             [
              0.7777777777777778,
              "#fb9f3a"
             ],
             [
              0.8888888888888888,
              "#fdca26"
             ],
             [
              1,
              "#f0f921"
             ]
            ],
            "type": "heatmapgl"
           }
          ],
          "histogram": [
           {
            "marker": {
             "pattern": {
              "fillmode": "overlay",
              "size": 10,
              "solidity": 0.2
             }
            },
            "type": "histogram"
           }
          ],
          "histogram2d": [
           {
            "colorbar": {
             "outlinewidth": 0,
             "ticks": ""
            },
            "colorscale": [
             [
              0,
              "#0d0887"
             ],
             [
              0.1111111111111111,
              "#46039f"
             ],
             [
              0.2222222222222222,
              "#7201a8"
             ],
             [
              0.3333333333333333,
              "#9c179e"
             ],
             [
              0.4444444444444444,
              "#bd3786"
             ],
             [
              0.5555555555555556,
              "#d8576b"
             ],
             [
              0.6666666666666666,
              "#ed7953"
             ],
             [
              0.7777777777777778,
              "#fb9f3a"
             ],
             [
              0.8888888888888888,
              "#fdca26"
             ],
             [
              1,
              "#f0f921"
             ]
            ],
            "type": "histogram2d"
           }
          ],
          "histogram2dcontour": [
           {
            "colorbar": {
             "outlinewidth": 0,
             "ticks": ""
            },
            "colorscale": [
             [
              0,
              "#0d0887"
             ],
             [
              0.1111111111111111,
              "#46039f"
             ],
             [
              0.2222222222222222,
              "#7201a8"
             ],
             [
              0.3333333333333333,
              "#9c179e"
             ],
             [
              0.4444444444444444,
              "#bd3786"
             ],
             [
              0.5555555555555556,
              "#d8576b"
             ],
             [
              0.6666666666666666,
              "#ed7953"
             ],
             [
              0.7777777777777778,
              "#fb9f3a"
             ],
             [
              0.8888888888888888,
              "#fdca26"
             ],
             [
              1,
              "#f0f921"
             ]
            ],
            "type": "histogram2dcontour"
           }
          ],
          "mesh3d": [
           {
            "colorbar": {
             "outlinewidth": 0,
             "ticks": ""
            },
            "type": "mesh3d"
           }
          ],
          "parcoords": [
           {
            "line": {
             "colorbar": {
              "outlinewidth": 0,
              "ticks": ""
             }
            },
            "type": "parcoords"
           }
          ],
          "pie": [
           {
            "automargin": true,
            "type": "pie"
           }
          ],
          "scatter": [
           {
            "fillpattern": {
             "fillmode": "overlay",
             "size": 10,
             "solidity": 0.2
            },
            "type": "scatter"
           }
          ],
          "scatter3d": [
           {
            "line": {
             "colorbar": {
              "outlinewidth": 0,
              "ticks": ""
             }
            },
            "marker": {
             "colorbar": {
              "outlinewidth": 0,
              "ticks": ""
             }
            },
            "type": "scatter3d"
           }
          ],
          "scattercarpet": [
           {
            "marker": {
             "colorbar": {
              "outlinewidth": 0,
              "ticks": ""
             }
            },
            "type": "scattercarpet"
           }
          ],
          "scattergeo": [
           {
            "marker": {
             "colorbar": {
              "outlinewidth": 0,
              "ticks": ""
             }
            },
            "type": "scattergeo"
           }
          ],
          "scattergl": [
           {
            "marker": {
             "colorbar": {
              "outlinewidth": 0,
              "ticks": ""
             }
            },
            "type": "scattergl"
           }
          ],
          "scattermapbox": [
           {
            "marker": {
             "colorbar": {
              "outlinewidth": 0,
              "ticks": ""
             }
            },
            "type": "scattermapbox"
           }
          ],
          "scatterpolar": [
           {
            "marker": {
             "colorbar": {
              "outlinewidth": 0,
              "ticks": ""
             }
            },
            "type": "scatterpolar"
           }
          ],
          "scatterpolargl": [
           {
            "marker": {
             "colorbar": {
              "outlinewidth": 0,
              "ticks": ""
             }
            },
            "type": "scatterpolargl"
           }
          ],
          "scatterternary": [
           {
            "marker": {
             "colorbar": {
              "outlinewidth": 0,
              "ticks": ""
             }
            },
            "type": "scatterternary"
           }
          ],
          "surface": [
           {
            "colorbar": {
             "outlinewidth": 0,
             "ticks": ""
            },
            "colorscale": [
             [
              0,
              "#0d0887"
             ],
             [
              0.1111111111111111,
              "#46039f"
             ],
             [
              0.2222222222222222,
              "#7201a8"
             ],
             [
              0.3333333333333333,
              "#9c179e"
             ],
             [
              0.4444444444444444,
              "#bd3786"
             ],
             [
              0.5555555555555556,
              "#d8576b"
             ],
             [
              0.6666666666666666,
              "#ed7953"
             ],
             [
              0.7777777777777778,
              "#fb9f3a"
             ],
             [
              0.8888888888888888,
              "#fdca26"
             ],
             [
              1,
              "#f0f921"
             ]
            ],
            "type": "surface"
           }
          ],
          "table": [
           {
            "cells": {
             "fill": {
              "color": "#EBF0F8"
             },
             "line": {
              "color": "white"
             }
            },
            "header": {
             "fill": {
              "color": "#C8D4E3"
             },
             "line": {
              "color": "white"
             }
            },
            "type": "table"
           }
          ]
         },
         "layout": {
          "annotationdefaults": {
           "arrowcolor": "#2a3f5f",
           "arrowhead": 0,
           "arrowwidth": 1
          },
          "autotypenumbers": "strict",
          "coloraxis": {
           "colorbar": {
            "outlinewidth": 0,
            "ticks": ""
           }
          },
          "colorscale": {
           "diverging": [
            [
             0,
             "#8e0152"
            ],
            [
             0.1,
             "#c51b7d"
            ],
            [
             0.2,
             "#de77ae"
            ],
            [
             0.3,
             "#f1b6da"
            ],
            [
             0.4,
             "#fde0ef"
            ],
            [
             0.5,
             "#f7f7f7"
            ],
            [
             0.6,
             "#e6f5d0"
            ],
            [
             0.7,
             "#b8e186"
            ],
            [
             0.8,
             "#7fbc41"
            ],
            [
             0.9,
             "#4d9221"
            ],
            [
             1,
             "#276419"
            ]
           ],
           "sequential": [
            [
             0,
             "#0d0887"
            ],
            [
             0.1111111111111111,
             "#46039f"
            ],
            [
             0.2222222222222222,
             "#7201a8"
            ],
            [
             0.3333333333333333,
             "#9c179e"
            ],
            [
             0.4444444444444444,
             "#bd3786"
            ],
            [
             0.5555555555555556,
             "#d8576b"
            ],
            [
             0.6666666666666666,
             "#ed7953"
            ],
            [
             0.7777777777777778,
             "#fb9f3a"
            ],
            [
             0.8888888888888888,
             "#fdca26"
            ],
            [
             1,
             "#f0f921"
            ]
           ],
           "sequentialminus": [
            [
             0,
             "#0d0887"
            ],
            [
             0.1111111111111111,
             "#46039f"
            ],
            [
             0.2222222222222222,
             "#7201a8"
            ],
            [
             0.3333333333333333,
             "#9c179e"
            ],
            [
             0.4444444444444444,
             "#bd3786"
            ],
            [
             0.5555555555555556,
             "#d8576b"
            ],
            [
             0.6666666666666666,
             "#ed7953"
            ],
            [
             0.7777777777777778,
             "#fb9f3a"
            ],
            [
             0.8888888888888888,
             "#fdca26"
            ],
            [
             1,
             "#f0f921"
            ]
           ]
          },
          "colorway": [
           "#636efa",
           "#EF553B",
           "#00cc96",
           "#ab63fa",
           "#FFA15A",
           "#19d3f3",
           "#FF6692",
           "#B6E880",
           "#FF97FF",
           "#FECB52"
          ],
          "font": {
           "color": "#2a3f5f"
          },
          "geo": {
           "bgcolor": "white",
           "lakecolor": "white",
           "landcolor": "#E5ECF6",
           "showlakes": true,
           "showland": true,
           "subunitcolor": "white"
          },
          "hoverlabel": {
           "align": "left"
          },
          "hovermode": "closest",
          "mapbox": {
           "style": "light"
          },
          "paper_bgcolor": "white",
          "plot_bgcolor": "#E5ECF6",
          "polar": {
           "angularaxis": {
            "gridcolor": "white",
            "linecolor": "white",
            "ticks": ""
           },
           "bgcolor": "#E5ECF6",
           "radialaxis": {
            "gridcolor": "white",
            "linecolor": "white",
            "ticks": ""
           }
          },
          "scene": {
           "xaxis": {
            "backgroundcolor": "#E5ECF6",
            "gridcolor": "white",
            "gridwidth": 2,
            "linecolor": "white",
            "showbackground": true,
            "ticks": "",
            "zerolinecolor": "white"
           },
           "yaxis": {
            "backgroundcolor": "#E5ECF6",
            "gridcolor": "white",
            "gridwidth": 2,
            "linecolor": "white",
            "showbackground": true,
            "ticks": "",
            "zerolinecolor": "white"
           },
           "zaxis": {
            "backgroundcolor": "#E5ECF6",
            "gridcolor": "white",
            "gridwidth": 2,
            "linecolor": "white",
            "showbackground": true,
            "ticks": "",
            "zerolinecolor": "white"
           }
          },
          "shapedefaults": {
           "line": {
            "color": "#2a3f5f"
           }
          },
          "ternary": {
           "aaxis": {
            "gridcolor": "white",
            "linecolor": "white",
            "ticks": ""
           },
           "baxis": {
            "gridcolor": "white",
            "linecolor": "white",
            "ticks": ""
           },
           "bgcolor": "#E5ECF6",
           "caxis": {
            "gridcolor": "white",
            "linecolor": "white",
            "ticks": ""
           }
          },
          "title": {
           "x": 0.05
          },
          "xaxis": {
           "automargin": true,
           "gridcolor": "white",
           "linecolor": "white",
           "ticks": "",
           "title": {
            "standoff": 15
           },
           "zerolinecolor": "white",
           "zerolinewidth": 2
          },
          "yaxis": {
           "automargin": true,
           "gridcolor": "white",
           "linecolor": "white",
           "ticks": "",
           "title": {
            "standoff": 15
           },
           "zerolinecolor": "white",
           "zerolinewidth": 2
          }
         }
        },
        "title": {
         "text": "Distribution of Average Temperatures by Decade"
        },
        "xaxis": {
         "anchor": "y",
         "autorange": true,
         "categoryarray": [
          2010,
          2000,
          1990,
          1980,
          1970
         ],
         "categoryorder": "array",
         "domain": [
          0,
          1
         ],
         "range": [
          1965,
          2015
         ],
         "title": {
          "text": "Decade"
         },
         "type": "linear"
        },
        "yaxis": {
         "anchor": "x",
         "autorange": true,
         "domain": [
          0,
          1
         ],
         "range": [
          -8.266,
          24.654
         ],
         "title": {
          "text": "Average Temperature (°F)"
         },
         "type": "linear"
        }
       }
      },
      "image/png": "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",
      "text/html": [
       "<div>                            <div id=\"32a74769-f44f-4f03-a79c-a28aa63ad608\" class=\"plotly-graph-div\" style=\"height:525px; width:100%;\"></div>            <script type=\"text/javascript\">                require([\"plotly\"], function(Plotly) {                    window.PLOTLYENV=window.PLOTLYENV || {};                                    if (document.getElementById(\"32a74769-f44f-4f03-a79c-a28aa63ad608\")) {                    Plotly.newPlot(                        \"32a74769-f44f-4f03-a79c-a28aa63ad608\",                        [{\"alignmentgroup\":\"True\",\"hovertemplate\":\"Decade=%{x}<br>Average Temperature (\\u00b0F)=%{y}<extra></extra>\",\"legendgroup\":\"2010\",\"marker\":{\"color\":\"#636efa\"},\"name\":\"2010\",\"notched\":false,\"offsetgroup\":\"2010\",\"orientation\":\"v\",\"showlegend\":true,\"x\":[2010,2010,2010,2010,2010,2010,2010,2010,2010,2010,2010,2010,2010,2010,2010,2010,2010,2010,2010,2010,2010,2010,2010,2010,2010,2010,2010,2010,2010,2010,2010,2010,2010,2010,2010,2010,2010,2010,2010,2010,2010,2010,2010,2010,2010],\"x0\":\" \",\"xaxis\":\"x\",\"y\":[18.273,21.168,22.074,20.198,14.073,6.97,2.289,-1.216,-2.155,-1.261,3.33,9.688,17.036,21.422,23.008,19.954,15.422,10.196,6.024,0.582,-2.268,-0.635,2.966,10.49,17.148,21.915,22.722,19.578,13.759,8.582,3.462,-1.881,-3.507,-2.942,3.601,10.913,17.384,21.703,22.078,19.885,14.174,9.55,3.436,-2.105,-3.61],\"y0\":\" \",\"yaxis\":\"y\",\"type\":\"box\"},{\"alignmentgroup\":\"True\",\"hovertemplate\":\"Decade=%{x}<br>Average Temperature (\\u00b0F)=%{y}<extra></extra>\",\"legendgroup\":\"2000\",\"marker\":{\"color\":\"#EF553B\"},\"name\":\"2000\",\"notched\":false,\"offsetgroup\":\"2000\",\"orientation\":\"v\",\"showlegend\":true,\"x\":[2000,2000,2000,2000,2000,2000,2000,2000,2000,2000,2000,2000,2000,2000,2000,2000,2000,2000,2000,2000,2000,2000,2000,2000,2000,2000,2000,2000,2000,2000,2000,2000,2000,2000,2000,2000,2000,2000,2000,2000,2000,2000,2000,2000,2000,2000,2000,2000,2000,2000,2000,2000,2000,2000,2000,2000,2000,2000,2000,2000,2000,2000,2000,2000,2000,2000,2000,2000,2000,2000,2000,2000,2000,2000,2000,2000,2000,2000,2000,2000,2000,2000,2000,2000,2000,2000,2000,2000,2000,2000,2000,2000,2000,2000,2000,2000,2000,2000,2000,2000,2000,2000,2000,2000,2000,2000,2000,2000,2000,2000,2000,2000,2000,2000,2000,2000,2000,2000,2000,2000],\"x0\":\" \",\"xaxis\":\"x\",\"y\":[-3.178,4.251,8.534,17.167,20.436,21.463,18.962,14.884,8.172,2.833,-0.31,-3.569,-2.532,3.62,9.164,16.567,20.543,21.69,19.381,13.723,7.902,2.828,-1.586,-3.883,-1.748,4.502,10.932,17.365,22.118,22.352,19.705,15.101,8.476,4.446,-2.24,-2.959,-0.167,3.4,9.608,15.992,21.079,22.911,19.933,15.155,9.85,2.794,-0.574,-0.287,-1.572,3.65,10.489,17.73,21.353,22.478,19.511,14.204,8.797,3.548,0.408,-1.884,-0.93,4.191,10.67,16.468,20.175,21.663,19.228,15.247,9.388,5.178,-1.427,-3.841,-1.072,3.35,11.466,16.299,21.833,22.499,18.871,14.443,9.014,3.438,-1.26,-1.82,-0.369,3.919,9.288,17.518,20.901,22.675,20.052,13.908,9.211,2.08,-0.223,-1.166,-1.06,5.233,9.586,16.925,21.653,21.907,19.357,14.728,9.274,2.606,-0.73,-2.052,-3.459,1.608,10.134,16.525,21.263,21.605,19.294,15.085,8.929,5.146,2.005,-2.338],\"y0\":\" \",\"yaxis\":\"y\",\"type\":\"box\"},{\"alignmentgroup\":\"True\",\"hovertemplate\":\"Decade=%{x}<br>Average Temperature (\\u00b0F)=%{y}<extra></extra>\",\"legendgroup\":\"1990\",\"marker\":{\"color\":\"#00cc96\"},\"name\":\"1990\",\"notched\":false,\"offsetgroup\":\"1990\",\"orientation\":\"v\",\"showlegend\":true,\"x\":[1990,1990,1990,1990,1990,1990,1990,1990,1990,1990,1990,1990,1990,1990,1990,1990,1990,1990,1990,1990,1990,1990,1990,1990,1990,1990,1990,1990,1990,1990,1990,1990,1990,1990,1990,1990,1990,1990,1990,1990,1990,1990,1990,1990,1990,1990,1990,1990,1990,1990,1990,1990,1990,1990,1990,1990,1990,1990,1990,1990,1990,1990,1990,1990,1990,1990,1990,1990,1990,1990,1990,1990,1990,1990,1990,1990,1990,1990,1990,1990,1990,1990,1990,1990,1990,1990,1990,1990,1990,1990,1990,1990,1990,1990,1990,1990,1990,1990,1990,1990,1990,1990,1990,1990,1990,1990,1990,1990,1990,1990,1990,1990,1990,1990,1990,1990,1990,1990,1990,1990],\"x0\":\" \",\"xaxis\":\"x\",\"y\":[-1.421,5.34,9.818,16.269,21.085,21.923,18.912,13.885,8.379,2.976,0.188,-2.55,-1.027,4.521,10.435,18.384,21.299,22.626,18.771,15.193,8.865,3.317,1.0,-1.69,-1.794,2.947,9.233,17.458,20.642,21.597,19.042,13.906,7.08,3.757,0.219,-4.012,-2.033,1.809,8.822,15.429,20.497,21.636,19.513,14.586,7.975,2.021,-0.887,-4.316,-1.962,2.613,10.03,16.739,21.586,21.632,18.469,13.717,7.975,3.055,0.257,-2.139,-0.9,2.7,9.572,16.567,20.807,21.694,19.964,14.413,9.035,3.743,-2.622,-3.729,-1.002,1.893,9.591,15.534,20.486,21.254,18.459,14.63,8.246,3.195,-2.381,-3.498,-2.906,2.125,9.527,15.458,19.492,20.595,18.477,14.029,8.729,4.227,0.662,-1.739,-1.032,1.478,10.154,16.607,20.866,21.616,19.335,15.076,9.144,3.496,1.043,-3.859,-3.401,3.622,9.592,17.457,20.857,21.605,19.78,13.772,9.38,4.465,-1.747,-1.123],\"y0\":\" \",\"yaxis\":\"y\",\"type\":\"box\"},{\"alignmentgroup\":\"True\",\"hovertemplate\":\"Decade=%{x}<br>Average Temperature (\\u00b0F)=%{y}<extra></extra>\",\"legendgroup\":\"1980\",\"marker\":{\"color\":\"#ab63fa\"},\"name\":\"1980\",\"notched\":false,\"offsetgroup\":\"1980\",\"orientation\":\"v\",\"showlegend\":true,\"x\":[1980,1980,1980,1980,1980,1980,1980,1980,1980,1980,1980,1980,1980,1980,1980,1980,1980,1980,1980,1980,1980,1980,1980,1980,1980,1980,1980,1980,1980,1980,1980,1980,1980,1980,1980,1980,1980,1980,1980,1980,1980,1980,1980,1980,1980,1980,1980,1980,1980,1980,1980,1980,1980,1980,1980,1980,1980,1980,1980,1980,1980,1980,1980,1980,1980,1980,1980,1980,1980,1980,1980,1980,1980,1980,1980,1980,1980,1980,1980,1980,1980,1980,1980,1980,1980,1980,1980,1980,1980,1980,1980,1980,1980,1980,1980,1980,1980,1980,1980,1980,1980,1980,1980,1980,1980,1980,1980,1980],\"x0\":\" \",\"xaxis\":\"x\",\"y\":[-4.068,2.597,9.901,16.236,20.469,21.974,18.698,14.031,9.439,3.12,-2.817,-3.103,-1.501,2.909,9.22,16.161,21.295,22.243,20.021,14.642,8.686,3.252,-1.361,-4.263,-1.433,3.835,9.653,16.371,20.587,21.479,19.63,15.258,9.16,3.266,0.257,-2.525,-0.583,2.504,9.691,15.92,20.188,21.544,19.789,14.245,8.394,4.471,-0.175,-1.274,-3.015,1.545,9.435,15.271,20.02,21.758,18.462,14.656,8.709,3.677,-3.455,-4.019,-1.29,2.373,9.514,15.677,20.886,21.264,19.035,13.769,7.175,2.553,-1.015,-4.207,-5.138,3.759,9.854,16.346,21.763,21.787,18.284,13.011,6.625,3.227,0.026,-2.596,-1.81,4.344,9.072,16.223,20.495,21.562,19.467,13.88,10.178,4.221,0.022,-0.996,-2.191,3.42,9.348,16.791,20.776,22.544,18.939,14.167,8.601,2.073,-1.325,-3.517],\"y0\":\" \",\"yaxis\":\"y\",\"type\":\"box\"},{\"alignmentgroup\":\"True\",\"hovertemplate\":\"Decade=%{x}<br>Average Temperature (\\u00b0F)=%{y}<extra></extra>\",\"legendgroup\":\"1970\",\"marker\":{\"color\":\"#FFA15A\"},\"name\":\"1970\",\"notched\":false,\"offsetgroup\":\"1970\",\"orientation\":\"v\",\"showlegend\":true,\"x\":[1970,1970,1970,1970,1970,1970,1970,1970,1970,1970,1970,1970,1970,1970,1970,1970,1970,1970,1970,1970,1970,1970,1970,1970,1970,1970,1970,1970,1970,1970,1970,1970,1970,1970,1970,1970],\"x0\":\" \",\"xaxis\":\"x\",\"y\":[-1.355,2.972,10.821,17.086,20.371,21.439,18.514,13.758,7.974,3.175,-5.276,-6.62,-3.127,3.186,9.73,17.028,20.653,21.733,18.872,13.89,8.736,2.819,-3.857,-4.646,-2.326,2.694,9.815,17.025,20.909,22.083,19.741,14.556,9.153,2.918,0.271,-5.601],\"y0\":\" \",\"yaxis\":\"y\",\"type\":\"box\"}],                        {\"template\":{\"data\":{\"histogram2dcontour\":[{\"type\":\"histogram2dcontour\",\"colorbar\":{\"outlinewidth\":0,\"ticks\":\"\"},\"colorscale\":[[0.0,\"#0d0887\"],[0.1111111111111111,\"#46039f\"],[0.2222222222222222,\"#7201a8\"],[0.3333333333333333,\"#9c179e\"],[0.4444444444444444,\"#bd3786\"],[0.5555555555555556,\"#d8576b\"],[0.6666666666666666,\"#ed7953\"],[0.7777777777777778,\"#fb9f3a\"],[0.8888888888888888,\"#fdca26\"],[1.0,\"#f0f921\"]]}],\"choropleth\":[{\"type\":\"choropleth\",\"colorbar\":{\"outlinewidth\":0,\"ticks\":\"\"}}],\"histogram2d\":[{\"type\":\"histogram2d\",\"colorbar\":{\"outlinewidth\":0,\"ticks\":\"\"},\"colorscale\":[[0.0,\"#0d0887\"],[0.1111111111111111,\"#46039f\"],[0.2222222222222222,\"#7201a8\"],[0.3333333333333333,\"#9c179e\"],[0.4444444444444444,\"#bd3786\"],[0.5555555555555556,\"#d8576b\"],[0.6666666666666666,\"#ed7953\"],[0.7777777777777778,\"#fb9f3a\"],[0.8888888888888888,\"#fdca26\"],[1.0,\"#f0f921\"]]}],\"heatmap\":[{\"type\":\"heatmap\",\"colorbar\":{\"outlinewidth\":0,\"ticks\":\"\"},\"colorscale\":[[0.0,\"#0d0887\"],[0.1111111111111111,\"#46039f\"],[0.2222222222222222,\"#7201a8\"],[0.3333333333333333,\"#9c179e\"],[0.4444444444444444,\"#bd3786\"],[0.5555555555555556,\"#d8576b\"],[0.6666666666666666,\"#ed7953\"],[0.7777777777777778,\"#fb9f3a\"],[0.8888888888888888,\"#fdca26\"],[1.0,\"#f0f921\"]]}],\"heatmapgl\":[{\"type\":\"heatmapgl\",\"colorbar\":{\"outlinewidth\":0,\"ticks\":\"\"},\"colorscale\":[[0.0,\"#0d0887\"],[0.1111111111111111,\"#46039f\"],[0.2222222222222222,\"#7201a8\"],[0.3333333333333333,\"#9c179e\"],[0.4444444444444444,\"#bd3786\"],[0.5555555555555556,\"#d8576b\"],[0.6666666666666666,\"#ed7953\"],[0.7777777777777778,\"#fb9f3a\"],[0.8888888888888888,\"#fdca26\"],[1.0,\"#f0f921\"]]}],\"contourcarpet\":[{\"type\":\"contourcarpet\",\"colorbar\":{\"outlinewidth\":0,\"ticks\":\"\"}}],\"contour\":[{\"type\":\"contour\",\"colorbar\":{\"outlinewidth\":0,\"ticks\":\"\"},\"colorscale\":[[0.0,\"#0d0887\"],[0.1111111111111111,\"#46039f\"],[0.2222222222222222,\"#7201a8\"],[0.3333333333333333,\"#9c179e\"],[0.4444444444444444,\"#bd3786\"],[0.5555555555555556,\"#d8576b\"],[0.6666666666666666,\"#ed7953\"],[0.7777777777777778,\"#fb9f3a\"],[0.8888888888888888,\"#fdca26\"],[1.0,\"#f0f921\"]]}],\"surface\":[{\"type\":\"surface\",\"colorbar\":{\"outlinewidth\":0,\"ticks\":\"\"},\"colorscale\":[[0.0,\"#0d0887\"],[0.1111111111111111,\"#46039f\"],[0.2222222222222222,\"#7201a8\"],[0.3333333333333333,\"#9c179e\"],[0.4444444444444444,\"#bd3786\"],[0.5555555555555556,\"#d8576b\"],[0.6666666666666666,\"#ed7953\"],[0.7777777777777778,\"#fb9f3a\"],[0.8888888888888888,\"#fdca26\"],[1.0,\"#f0f921\"]]}],\"mesh3d\":[{\"type\":\"mesh3d\",\"colorbar\":{\"outlinewidth\":0,\"ticks\":\"\"}}],\"scatter\":[{\"fillpattern\":{\"fillmode\":\"overlay\",\"size\":10,\"solidity\":0.2},\"type\":\"scatter\"}],\"parcoords\":[{\"type\":\"parcoords\",\"line\":{\"colorbar\":{\"outlinewidth\":0,\"ticks\":\"\"}}}],\"scatterpolargl\":[{\"type\":\"scatterpolargl\",\"marker\":{\"colorbar\":{\"outlinewidth\":0,\"ticks\":\"\"}}}],\"bar\":[{\"error_x\":{\"color\":\"#2a3f5f\"},\"error_y\":{\"color\":\"#2a3f5f\"},\"marker\":{\"line\":{\"color\":\"#E5ECF6\",\"width\":0.5},\"pattern\":{\"fillmode\":\"overlay\",\"size\":10,\"solidity\":0.2}},\"type\":\"bar\"}],\"scattergeo\":[{\"type\":\"scattergeo\",\"marker\":{\"colorbar\":{\"outlinewidth\":0,\"ticks\":\"\"}}}],\"scatterpolar\":[{\"type\":\"scatterpolar\",\"marker\":{\"colorbar\":{\"outlinewidth\":0,\"ticks\":\"\"}}}],\"histogram\":[{\"marker\":{\"pattern\":{\"fillmode\":\"overlay\",\"size\":10,\"solidity\":0.2}},\"type\":\"histogram\"}],\"scattergl\":[{\"type\":\"scattergl\",\"marker\":{\"colorbar\":{\"outlinewidth\":0,\"ticks\":\"\"}}}],\"scatter3d\":[{\"type\":\"scatter3d\",\"line\":{\"colorbar\":{\"outlinewidth\":0,\"ticks\":\"\"}},\"marker\":{\"colorbar\":{\"outlinewidth\":0,\"ticks\":\"\"}}}],\"scattermapbox\":[{\"type\":\"scattermapbox\",\"marker\":{\"colorbar\":{\"outlinewidth\":0,\"ticks\":\"\"}}}],\"scatterternary\":[{\"type\":\"scatterternary\",\"marker\":{\"colorbar\":{\"outlinewidth\":0,\"ticks\":\"\"}}}],\"scattercarpet\":[{\"type\":\"scattercarpet\",\"marker\":{\"colorbar\":{\"outlinewidth\":0,\"ticks\":\"\"}}}],\"carpet\":[{\"aaxis\":{\"endlinecolor\":\"#2a3f5f\",\"gridcolor\":\"white\",\"linecolor\":\"white\",\"minorgridcolor\":\"white\",\"startlinecolor\":\"#2a3f5f\"},\"baxis\":{\"endlinecolor\":\"#2a3f5f\",\"gridcolor\":\"white\",\"linecolor\":\"white\",\"minorgridcolor\":\"white\",\"startlinecolor\":\"#2a3f5f\"},\"type\":\"carpet\"}],\"table\":[{\"cells\":{\"fill\":{\"color\":\"#EBF0F8\"},\"line\":{\"color\":\"white\"}},\"header\":{\"fill\":{\"color\":\"#C8D4E3\"},\"line\":{\"color\":\"white\"}},\"type\":\"table\"}],\"barpolar\":[{\"marker\":{\"line\":{\"color\":\"#E5ECF6\",\"width\":0.5},\"pattern\":{\"fillmode\":\"overlay\",\"size\":10,\"solidity\":0.2}},\"type\":\"barpolar\"}],\"pie\":[{\"automargin\":true,\"type\":\"pie\"}]},\"layout\":{\"autotypenumbers\":\"strict\",\"colorway\":[\"#636efa\",\"#EF553B\",\"#00cc96\",\"#ab63fa\",\"#FFA15A\",\"#19d3f3\",\"#FF6692\",\"#B6E880\",\"#FF97FF\",\"#FECB52\"],\"font\":{\"color\":\"#2a3f5f\"},\"hovermode\":\"closest\",\"hoverlabel\":{\"align\":\"left\"},\"paper_bgcolor\":\"white\",\"plot_bgcolor\":\"#E5ECF6\",\"polar\":{\"bgcolor\":\"#E5ECF6\",\"angularaxis\":{\"gridcolor\":\"white\",\"linecolor\":\"white\",\"ticks\":\"\"},\"radialaxis\":{\"gridcolor\":\"white\",\"linecolor\":\"white\",\"ticks\":\"\"}},\"ternary\":{\"bgcolor\":\"#E5ECF6\",\"aaxis\":{\"gridcolor\":\"white\",\"linecolor\":\"white\",\"ticks\":\"\"},\"baxis\":{\"gridcolor\":\"white\",\"linecolor\":\"white\",\"ticks\":\"\"},\"caxis\":{\"gridcolor\":\"white\",\"linecolor\":\"white\",\"ticks\":\"\"}},\"coloraxis\":{\"colorbar\":{\"outlinewidth\":0,\"ticks\":\"\"}},\"colorscale\":{\"sequential\":[[0.0,\"#0d0887\"],[0.1111111111111111,\"#46039f\"],[0.2222222222222222,\"#7201a8\"],[0.3333333333333333,\"#9c179e\"],[0.4444444444444444,\"#bd3786\"],[0.5555555555555556,\"#d8576b\"],[0.6666666666666666,\"#ed7953\"],[0.7777777777777778,\"#fb9f3a\"],[0.8888888888888888,\"#fdca26\"],[1.0,\"#f0f921\"]],\"sequentialminus\":[[0.0,\"#0d0887\"],[0.1111111111111111,\"#46039f\"],[0.2222222222222222,\"#7201a8\"],[0.3333333333333333,\"#9c179e\"],[0.4444444444444444,\"#bd3786\"],[0.5555555555555556,\"#d8576b\"],[0.6666666666666666,\"#ed7953\"],[0.7777777777777778,\"#fb9f3a\"],[0.8888888888888888,\"#fdca26\"],[1.0,\"#f0f921\"]],\"diverging\":[[0,\"#8e0152\"],[0.1,\"#c51b7d\"],[0.2,\"#de77ae\"],[0.3,\"#f1b6da\"],[0.4,\"#fde0ef\"],[0.5,\"#f7f7f7\"],[0.6,\"#e6f5d0\"],[0.7,\"#b8e186\"],[0.8,\"#7fbc41\"],[0.9,\"#4d9221\"],[1,\"#276419\"]]},\"xaxis\":{\"gridcolor\":\"white\",\"linecolor\":\"white\",\"ticks\":\"\",\"title\":{\"standoff\":15},\"zerolinecolor\":\"white\",\"automargin\":true,\"zerolinewidth\":2},\"yaxis\":{\"gridcolor\":\"white\",\"linecolor\":\"white\",\"ticks\":\"\",\"title\":{\"standoff\":15},\"zerolinecolor\":\"white\",\"automargin\":true,\"zerolinewidth\":2},\"scene\":{\"xaxis\":{\"backgroundcolor\":\"#E5ECF6\",\"gridcolor\":\"white\",\"linecolor\":\"white\",\"showbackground\":true,\"ticks\":\"\",\"zerolinecolor\":\"white\",\"gridwidth\":2},\"yaxis\":{\"backgroundcolor\":\"#E5ECF6\",\"gridcolor\":\"white\",\"linecolor\":\"white\",\"showbackground\":true,\"ticks\":\"\",\"zerolinecolor\":\"white\",\"gridwidth\":2},\"zaxis\":{\"backgroundcolor\":\"#E5ECF6\",\"gridcolor\":\"white\",\"linecolor\":\"white\",\"showbackground\":true,\"ticks\":\"\",\"zerolinecolor\":\"white\",\"gridwidth\":2}},\"shapedefaults\":{\"line\":{\"color\":\"#2a3f5f\"}},\"annotationdefaults\":{\"arrowcolor\":\"#2a3f5f\",\"arrowhead\":0,\"arrowwidth\":1},\"geo\":{\"bgcolor\":\"white\",\"landcolor\":\"#E5ECF6\",\"subunitcolor\":\"white\",\"showland\":true,\"showlakes\":true,\"lakecolor\":\"white\"},\"title\":{\"x\":0.05},\"mapbox\":{\"style\":\"light\"}}},\"xaxis\":{\"anchor\":\"y\",\"domain\":[0.0,1.0],\"title\":{\"text\":\"Decade\"},\"categoryorder\":\"array\",\"categoryarray\":[2010,2000,1990,1980,1970]},\"yaxis\":{\"anchor\":\"x\",\"domain\":[0.0,1.0],\"title\":{\"text\":\"Average Temperature (\\u00b0F)\"}},\"legend\":{\"title\":{\"text\":\"Decade\"},\"tracegroupgap\":0},\"title\":{\"text\":\"Distribution of Average Temperatures by Decade\"},\"boxmode\":\"overlay\"},                        {\"responsive\": true}                    ).then(function(){\n",
       "                            \n",
       "var gd = document.getElementById('32a74769-f44f-4f03-a79c-a28aa63ad608');\n",
       "var x = new MutationObserver(function (mutations, observer) {{\n",
       "        var display = window.getComputedStyle(gd).display;\n",
       "        if (!display || display === 'none') {{\n",
       "            console.log([gd, 'removed!']);\n",
       "            Plotly.purge(gd);\n",
       "            observer.disconnect();\n",
       "        }}\n",
       "}});\n",
       "\n",
       "// Listen for the removal of the full notebook cells\n",
       "var notebookContainer = gd.closest('#notebook-container');\n",
       "if (notebookContainer) {{\n",
       "    x.observe(notebookContainer, {childList: true});\n",
       "}}\n",
       "\n",
       "// Listen for the clearing of the current output cell\n",
       "var outputEl = gd.closest('.output');\n",
       "if (outputEl) {{\n",
       "    x.observe(outputEl, {childList: true});\n",
       "}}\n",
       "\n",
       "                        })                };                });            </script>        </div>"
      ]
     },
     "metadata": {},
     "output_type": "display_data"
    }
   ],
>>>>>>> 1cba73f5fc7313de7e4ca1869a015425970a165f
   "source": [
    "# Calculate the decade for each year\n",
    "filtered_df[\"Decade\"] = (filtered_df[\"Year\"] // 10) * 10\n",
    "\n",
    "# Create the box plot using Plotly Express\n",
    "fig = px.box(filtered_df, x=\"Decade\", y=\"AverageTemperature\", color=\"Decade\",\n",
    "             labels={\"Decade\": \"Decade\", \"AverageTemperature\": \"Average Temperature (°F)\"},\n",
    "             title=\"Distribution of Average Temperatures by Decade\")\n",
    "\n",
    "# Update layout\n",
    "fig.update_layout(\n",
    "    xaxis_title=\"Decade\",\n",
    "    yaxis_title=\"Average Temperature (°F)\",\n",
    ")\n",
    "\n",
    "# Show the plot\n",
    "fig.show()\n",
    "\n",
    "# Save the plot as an image\n",
    "# fig.write_image(\"average_temperature_boxplot_per_decade_plotly.png\")\n"
   ]
  },
  {
   "cell_type": "code",
   "execution_count": null,
   "id": "a40641a9",
   "metadata": {},
   "outputs": [],
   "source": [
    "#Clean Global Temps\n",
    "#Drop Null\n",
    "global_temps_df = global_temps_df.dropna()\n",
    "\n",
    "global_temps_df.head()"
   ]
  },
  {
   "cell_type": "code",
   "execution_count": null,
   "id": "2f5373cd",
   "metadata": {},
   "outputs": [],
   "source": [
    "july_df = global_temps_df.loc[global_temps_df[\"Month\"]==7]\n",
    "#july_df = july_df.sort_values(by=\"Year\")\n",
    "\n",
    "august_df = global_temps_df.loc[global_temps_df[\"Month\"]==8]\n",
    "\n",
    "june_df = global_temps_df.loc[global_temps_df[\"Month\"]==6]\n",
    "\n",
    "july_df.head()"
   ]
  },
  {
   "cell_type": "code",
   "execution_count": null,
   "id": "9d909a84",
   "metadata": {},
   "outputs": [],
   "source": [
    "# Land average temp for June, july August \n",
    "fig = plt.figure()\n",
    "\n",
    "for frame in [june_df, july_df, august_df]:\n",
    "    plt.plot(frame[\"Year\"], frame[\"LandAverageTemperature\"])\n",
    "\n",
    "plt.xlabel(\"Year\")\n",
    "plt.ylabel(\"Land Average Temperature\")\n",
    "plt.title(\"Monthly Land Average Temperature Over the Years\")\n",
    "plt.legend([\"June\", \"July\", \"August\"])\n",
    "\n",
    "# Save the plot\n",
    "# plt.savefig(\"monthly_land_average_temperature.png\")\n",
    "\n",
    "plt.show()"
   ]
  },
  {
   "cell_type": "code",
   "execution_count": null,
   "id": "85347179",
   "metadata": {},
   "outputs": [],
   "source": [
    "# Land average temp for June, july August using Seaborn\n",
    "# Concatenate the data frames and add a \"Month\" column to use seaborn \n",
    "june_df[\"Month\"] = \"June\"\n",
    "july_df[\"Month\"] = \"July\"\n",
    "august_df[\"Month\"] = \"August\"\n",
    "concatenated_df = pd.concat([june_df, july_df, august_df], ignore_index=True)\n",
    "\n",
    "# Create the plot using Seaborn\n",
    "plt.figure(figsize=(10, 6))\n",
    "sns.lineplot(data=concatenated_df, x=\"Year\", y=\"LandAverageTemperature\", hue=\"Month\", palette=\"muted\")\n",
    "\n",
    "# Adding labels and title\n",
    "plt.xlabel(\"Year\")\n",
    "plt.ylabel(\"Land Average Temperature\")\n",
    "plt.title(\"Monthly Land Average Temperature Over the Years\")\n",
    "\n",
    "# Save the plot\n",
    "# plt.savefig(\"monthly_land_average_temperature_seaborn.png\")\n",
    "\n",
    "plt.show()"
   ]
  },
  {
   "cell_type": "code",
   "execution_count": null,
   "id": "be4432e8",
   "metadata": {},
   "outputs": [],
   "source": [
    "# Land average temp for June, july August using plotly \n",
    "\n",
    "# Concatenate the data frames and add a \"Month\" column\n",
    "june_df[\"Month\"] = \"June\"\n",
    "july_df[\"Month\"] = \"July\"\n",
    "august_df[\"Month\"] = \"August\"\n",
    "concatenated_df = pd.concat([june_df, july_df, august_df], ignore_index=True)\n",
    "\n",
    "# Create the interactive plot using Plotly\n",
    "fig = px.line(concatenated_df, x=\"Year\", y=\"LandAverageTemperature\", color=\"Month\",\n",
    "              title=\"Monthly Land Average Temperature Over the Years\")\n",
    "fig.update_xaxes(title=\"Year\")\n",
    "fig.update_yaxes(title=\"Land Average Temperature\")\n",
    "\n",
    "# Save the plot as an image file\n",
    "# fig.write_image(\"monthly_land_average_temperature_plotly.png\")\n",
    "\n",
    "fig.show()"
   ]
  },
  {
   "cell_type": "code",
   "execution_count": null,
   "id": "c586bfb0",
   "metadata": {},
   "outputs": [],
   "source": [
    "# Average temps accross the globe \n",
    "# Define the mapping for renaming the columns filtered_global_temp_df\n",
    "\n",
    "new_column_names = {\n",
    "    'dt': 'Date',\n",
    "    'AverageTemperature': 'Avg_Temperature',\n",
    "    'AverageTemperatureUncertainty' : 'Avg_temp_uncertainty',\n",
    "    'Country': 'Country'\n",
    "}\n",
    "\n",
    "# Rename the columns\n",
    "filtered_global_temp_df.rename(columns=new_column_names, inplace=True)\n",
    "\n",
    "\n",
    "# Convert the 'Date' column to datetime format\n",
    "filtered_global_temp_df['Date'] = pd.to_datetime(filtered_global_temp_df['Date'])\n",
    "\n",
    "# Extract year and month from the 'Date' column\n",
    "filtered_global_temp_df['Year'] = filtered_global_temp_df['Date'].dt.year\n",
    "filtered_global_temp_df['Month'] = filtered_global_temp_df['Date'].dt.month\n",
    "\n",
    "filtered_global_temp_df.head()"
   ]
  },
  {
   "cell_type": "code",
   "execution_count": null,
   "id": "6e73a5e1",
   "metadata": {},
   "outputs": [],
   "source": [
    "# Create the interactive plot using Plotly to compare countires temp by year grouped by decade \n",
    "fig = px.line(filtered_global_temp_df, x='Year', y='Avg_Temperature', color='Country', title='Average Temperature by Year and Country')\n",
    "fig.update_xaxes(title='Year')\n",
    "fig.update_yaxes(title='Average Temperature')\n",
    "\n",
    "# Save the plot as an image file\n",
    "# fig.write_image(\"average_temperature_by_year_and_country_plotly.png\")"
   ]
  },
  {
   "cell_type": "code",
   "execution_count": null,
   "id": "d867dfa4",
   "metadata": {},
   "outputs": [],
   "source": [
    "# Create a plot using Seaborn to compare countires temp by year grouped by decade \n",
    "\n",
    "# Set the style\n",
    "sns.set(style=\"whitegrid\")\n",
    "\n",
    "# Create the line plot using Seaborn\n",
    "plt.figure(figsize=(12, 6))\n",
    "sns.lineplot(data=filtered_global_temp_df, x='Year', y='Avg_Temperature', hue='Country')\n",
    "\n",
    "# Move the legend to the bottom\n",
    "plt.legend(bbox_to_anchor=(1.05, 0), loc='lower left', borderaxespad=0.)\n",
    "\n",
    "plt.xlabel('Year')\n",
    "plt.ylabel('Average Temperature')\n",
    "plt.title('Average Temperature by Year and Country')\n",
    "\n",
    "# Save the plot as an image file\n",
    "# plt.savefig(\"average_temperature_by_year_and_country_seaborn.png\")\n",
    "\n",
    "# Show the plot\n",
    "plt.show()"
   ]
  },
  {
   "cell_type": "code",
   "execution_count": null,
   "id": "2e1760e4",
   "metadata": {},
   "outputs": [],
   "source": [
    "# Define the mapping for renaming the columns  for crop_production_df.head()\n",
    "new_column_names = {\n",
    "    'index': 'Index',\n",
    "    'LOCATION': 'Location',\n",
    "    'INDICATOR': 'Indicator',\n",
    "    'SUBJECT': 'Subject',\n",
    "    'MEASURE': 'Measure',\n",
    "    'FREQUENCY': 'Frequency',\n",
    "    'TIME': 'Year',\n",
    "    'VALUE': 'Value'\n",
    "}\n",
    "\n",
    "# Rename the columns\n",
    "crop_production_df.rename(columns=new_column_names, inplace=True)\n",
    "\n",
    "# Drop rows with NaN values\n",
    "crop_production_df.dropna(inplace=True)\n",
    "\n",
    "crop_production_df.head()\n"
   ]
  },
  {
   "cell_type": "code",
   "execution_count": null,
   "id": "f1ec1ac1",
   "metadata": {},
   "outputs": [],
   "source": [
    "unique_location = crop_production_df['Location'].unique()\n",
    "print(unique_location)"
   ]
  },
  {
   "cell_type": "code",
   "execution_count": null,
   "id": "eac5acf3",
   "metadata": {},
   "outputs": [],
   "source": [
    "unique_subject = crop_production_df['Subject'].unique()\n",
    "print(unique_subject)"
   ]
  },
  {
   "cell_type": "code",
   "execution_count": null,
   "id": "48a51a19",
   "metadata": {},
   "outputs": [],
   "source": [
    "# Define a function to remove outliers using IQR method\n",
    "def remove_outliers_iqr(data, threshold=1.5):\n",
    "    q1 = np.percentile(data, 25)\n",
    "    q3 = np.percentile(data, 75)\n",
    "    iqr = q3 - q1\n",
    "    lower_bound = q1 - threshold * iqr\n",
    "    upper_bound = q3 + threshold * iqr\n",
    "    return data[(data >= lower_bound) & (data <= upper_bound)]\n",
    "\n",
    "# Apply the function to remove outliers from the 'Value' column\n",
    "crop_production_df['Value'] = remove_outliers_iqr(crop_production_df['Value'])"
   ]
  },
  {
   "cell_type": "code",
   "execution_count": null,
   "id": "3d89574d",
   "metadata": {},
   "outputs": [],
   "source": [
    "\n",
    "# Define a color palette for each subject\n",
    "color_palette = {'RICE': 'blue', 'WHEAT': 'green', 'MAIZE': 'orange', 'SOYBEAN': 'red'}\n",
    "\n",
    "# Filter data for each subject and create individual bar graphs\n",
    "for subject in ['RICE', 'WHEAT', 'MAIZE', 'SOYBEAN']:\n",
    "    subject_data = crop_production_df[crop_production_df['Subject'] == subject]\n",
    "    \n",
    "    # Create a bar graph for the current subject\n",
    "    plt.figure(figsize=(10, 6))  # Adjust figure size as needed\n",
    "    plt.bar(subject_data['Year'], subject_data['Value'], color=color_palette[subject])\n",
    "    \n",
    "    # Add labels and title\n",
    "    plt.title(f\"{subject} Production Over Years\")\n",
    "    plt.xlabel('Year')\n",
    "    plt.ylabel('Production')\n",
    "    plt.xticks(rotation=45)  # Rotate x-axis labels for better readability\n",
    "    \n",
    "    # Show or save the plot\n",
    "    plt.show()  \n",
    "    \n",
    "    # Save the plot as an image file\n",
    "    # plt.savefig(f\"{subject}_production_bar.png\")  "
   ]
  },
  {
   "cell_type": "code",
   "execution_count": null,
   "id": "33964365",
   "metadata": {},
   "outputs": [],
   "source": [
    "# Production of each crop over the years using Plotly\n",
    "    \n",
    "# Define a color palette for each subject\n",
    "color_palette = {'RICE': 'blue', 'WHEAT': 'green', 'MAIZE': 'orange', 'SOYBEAN': 'red'}\n",
    "\n",
    "# Filter data for each subject and create individual bar charts\n",
    "fig = go.Figure()\n",
    "\n",
    "for subject in ['RICE', 'WHEAT', 'MAIZE', 'SOYBEAN']:\n",
    "    subject_data = crop_production_df[(crop_production_df['Subject'] == subject) & (crop_production_df['Year'] >= 1990)]\n",
    "    \n",
    "    # Add a trace for the current subject\n",
    "    fig.add_trace(go.Bar(x=subject_data['Year'], y=subject_data['Value'],\n",
    "                         name=subject,\n",
    "                         marker_color=color_palette[subject]))\n",
    "\n",
    "# Update layout\n",
    "fig.update_layout(title='Crop Production Over Years (Starting from 1990)',\n",
    "                  xaxis_title='Year',\n",
    "                  yaxis_title='Production',\n",
    "                  barmode='group')  # To group bars for each year\n",
    "\n",
    "# Show the plot\n",
    "fig.show()\n",
    "\n",
    "# Save the plot as an image file\n",
    "# fig.write_image(\"crop_production_over_years_starting_from_1990_bar_plotly.png\")\n"
   ]
  },
  {
   "cell_type": "code",
   "execution_count": null,
   "id": "9e84da48",
   "metadata": {},
   "outputs": [],
   "source": [
    "# using ploty to compare crop production by decade\n",
    "\n",
    "# Define a color palette for each subject\n",
    "color_palette = {'RICE': 'blue', 'WHEAT': 'green', 'MAIZE': 'orange', 'SOYBEAN': 'red'}\n",
    "\n",
    "# Define a function to get decade from year\n",
    "def get_decade(year):\n",
    "    return str(year // 10 * 10) + \"s\"\n",
    "\n",
    "# Apply the function to create a new column 'Decade'\n",
    "crop_production_df['Decade'] = crop_production_df['Year'].apply(get_decade)\n",
    "\n",
    "# Filter data for each subject and create individual bar graphs\n",
    "for subject in ['RICE', 'WHEAT', 'MAIZE', 'SOYBEAN']:\n",
    "    subject_data = crop_production_df[crop_production_df['Subject'] == subject]\n",
    "    \n",
    "    # Create a bar graph for the current subject using Plotly\n",
    "    fig = px.bar(subject_data, x='Decade', y='Value', color='Decade', color_discrete_map=color_palette,\n",
    "                 title=f\"{subject} Production Over Decades\", labels={'Decade': 'Decade', 'Value': 'Production'})\n",
    "    \n",
    "    # Show the plot\n",
    "    fig.show()\n",
    "    \n",
    "    # Save the plot as an image file\n",
    "    # fig.write_image(f\"{subject}_production_bar_plotly.png\")\n"
   ]
  },
  {
   "cell_type": "code",
   "execution_count": null,
   "id": "f48146b7",
   "metadata": {},
   "outputs": [],
   "source": [
    "# crop production after 1980..\n",
    "\n",
    "# Define a color palette for each subject\n",
    "color_palette = {'RICE': 'blue', 'WHEAT': 'green', 'MAIZE': 'orange', 'SOYBEAN': 'red'}\n",
    "\n",
    "# Filter the data to include only years after 1980\n",
    "crop_production_df_filtered = crop_production_df[crop_production_df['Year'] >= 1980]\n",
    "\n",
    "# Create a single plot for all subjects\n",
    "plt.figure(figsize=(12, 8))  # Adjust figure size as needed\n",
    "\n",
    "# Group the filtered data by subject\n",
    "grouped_data = crop_production_df_filtered.groupby('Subject')\n",
    "\n",
    "# Iterate through each subject\n",
    "for subject, group_data in grouped_data:\n",
    "    # Plot the data for the current subject\n",
    "    plt.bar(group_data['Year'], group_data['Value'], color=color_palette[subject], label=subject)\n",
    "\n",
    "# Add labels and title\n",
    "plt.title('Production by Subject')\n",
    "plt.xlabel('Year')\n",
    "plt.ylabel('Production')\n",
    "plt.xticks(rotation=45)  # Rotate x-axis labels for better readability\n",
    "plt.legend()\n",
    "\n",
    "# Show or save the plot\n",
    "plt.show()  \n",
    "\n",
    "# Save the combined plot as an image\n",
    "# plt.savefig(\"combined_production_bar.png\")"
   ]
  },
  {
   "cell_type": "code",
   "execution_count": null,
   "id": "5f5400bc",
   "metadata": {},
   "outputs": [],
   "source": [
    "# Crop production by location and subject using \n",
    "# Define a color palette for each subject\n",
    "color_palette = {'RICE': 'blue', 'WHEAT': 'green', 'MAIZE': 'orange', 'SOYBEAN': 'red'}\n",
    "\n",
    "# Group the data by unique location and subject\n",
    "grouped_data = crop_production_df.groupby(['Location', 'Subject'])\n",
    "\n",
    "# Calculate the number of rows and columns for subplots\n",
    "num_locations = len(crop_production_df['Location'].unique())\n",
    "num_subjects = len(crop_production_df['Subject'].unique())\n",
    "num_cols = min(num_subjects, 4)  \n",
    "num_rows = - (- num_locations // num_cols)  \n",
    "\n",
    "# Create subplots\n",
    "fig, axes = plt.subplots(num_rows, num_cols, figsize=(15, 5*num_rows))\n",
    "\n",
    "# Flatten axes if there's only one row\n",
    "if num_rows == 1:\n",
    "    axes = axes[np.newaxis, :]\n",
    "\n",
    "# Iterate through each group\n",
    "for (location, subject), group_data in grouped_data:\n",
    "    # Determine the subplot indices\n",
    "    location_index = np.where(crop_production_df['Location'].unique() == location)[0][0]\n",
    "    subject_index = np.where(crop_production_df['Subject'].unique() == subject)[0][0]\n",
    "    \n",
    "    # Plot the data for the current combination of location and subject\n",
    "    ax = axes[location_index % num_rows, subject_index % num_cols]\n",
    "    for label, df in group_data.groupby('Subject'):\n",
    "        ax.bar(df['Year'], df['Value'], color=color_palette[label], label=label)\n",
    "    \n",
    "    # Add labels and title\n",
    "    ax.set_title(f\"Production in {location} - {subject}\")\n",
    "    ax.set_xlabel('Year')\n",
    "    ax.set_ylabel('Production')\n",
    "    ax.legend()\n",
    "\n",
    "# Adjust layout\n",
    "plt.tight_layout()\n",
    "\n",
    "# Show or save the plot\n",
    "plt.show()  \n",
    "\n",
    "# Save the plot as an image file \n",
    "# plt.savefig(\"combined_production_bar.png\")\n"
   ]
  },
  {
   "cell_type": "code",
   "execution_count": null,
   "id": "14c1677e",
   "metadata": {},
   "outputs": [],
   "source": [
    "# Crop production by Subject\n",
    "\n",
    "# Determine the unique subjects and their count\n",
    "unique_subjects = crop_production_df['Subject'].unique()\n",
    "num_subjects = len(unique_subjects)\n",
    "\n",
    "# Create subplots\n",
    "fig, axes = plt.subplots(num_subjects, 1, figsize=(10, 6*num_subjects), sharex=True)\n",
    "\n",
    "# Iterate through each subject\n",
    "for i, subject in enumerate(unique_subjects):\n",
    "    # Filter data for the current subject\n",
    "    subject_data = crop_production_df[crop_production_df['Subject'] == subject]\n",
    "    \n",
    "    # Group the filtered data by year and location, then sum the production values for each location\n",
    "    subject_production = subject_data.groupby(['Year', 'Location'])['Value'].sum().unstack()\n",
    "    \n",
    "    # Plot the production data for the current subject\n",
    "    subject_production.plot(ax=axes[i], marker='o', linestyle='-')\n",
    "    \n",
    "    # Add labels and title\n",
    "    axes[i].set_title(f\"Production of {subject} by Country Over Years\")\n",
    "    axes[i].set_ylabel('Production')\n",
    "    axes[i].legend(title='Location')\n",
    "\n",
    "# Add common x-axis label\n",
    "axes[-1].set_xlabel('Year')\n",
    "\n",
    "# Adjust layout\n",
    "# plt.tight_layout()\n",
    "\n",
    "# Show or save the plot\n",
    "plt.show()\n",
    "\n",
    "# Save the plot as an image file \n",
    "# plt.savefig(\"Crop_production_by_country_over_years.png\") "
   ]
  },
  {
   "cell_type": "code",
   "execution_count": null,
   "id": "8b61b0eb",
   "metadata": {},
   "outputs": [],
   "source": [
    "# Crop production by Subject and location using seaborn \n",
    "\n",
    "# Set Seaborn style\n",
    "sns.set_style(\"whitegrid\")\n",
    "\n",
    "# Create the plot using Seaborn's lineplot\n",
    "plt.figure(figsize=(12, 8))\n",
    "sns.lineplot(data=crop_production_df, x='Year', y='Value', hue='Location', style='Subject', markers=True, dashes=False)\n",
    "\n",
    "# Add title and labels\n",
    "plt.title('Production by Crops and Location Over Years')\n",
    "plt.xlabel('Year')\n",
    "plt.ylabel('Production')\n",
    "plt.legend(title='Location')\n",
    "\n",
    "# Show or save the plot\n",
    "plt.show()\n",
    "\n",
    "# Save the plot as an image file \n",
    "# plt.savefig(\"Crop_production_by_country_over_years_seaborn.png\") "
   ]
  },
  {
   "cell_type": "code",
   "execution_count": null,
   "id": "615f0b7b",
   "metadata": {},
   "outputs": [],
   "source": [
    "# Load pork prices df\n",
    "# Drop the 'Day' column\n",
    "pork_prices_df.drop(columns=['Day'], inplace=True)\n",
    "\n",
    "# Define the mapping for renaming the columns\n",
    "new_column_names = {\n",
    "    'Month': 'Month',\n",
    "    'Year': 'Year',\n",
    "    'Byproduct': 'Byproduct',\n",
    "    'Gross_farm_value': 'Gross_Farm_Value',\n",
    "    'Net_farm_value': 'Net_Farm_Value',\n",
    "    'Wholesale_value': 'Wholesale_Value',\n",
    "    'Retail_value': 'Retail_Value',\n",
    "    'Total': 'Total',\n",
    "    'Farm_wholesale': 'Farm_Wholesale',\n",
    "    'Wholesale_retail': 'Wholesale_Retail'\n",
    "}\n",
    "\n",
    "# Rename the columns\n",
    "pork_prices_df.rename(columns=new_column_names, inplace=True)\n",
    "\n",
    "# Drop rows with NaN values\n",
    "pork_prices_df.dropna(inplace=True)\n",
    "\n",
    "# Display the modified DataFrame\n",
    "pork_prices_df.head()"
   ]
  },
  {
   "cell_type": "code",
   "execution_count": 71,
   "id": "b8fc9869",
   "metadata": {},
   "outputs": [
    {
     "name": "stdout",
     "output_type": "stream",
     "text": [
      "Statistics for Byproduct (Pork):\n",
      "Mean: 5.935185185185184\n",
      "Median: 5.5\n",
      "Standard Deviation: 2.057510754920059\n"
     ]
    }
   ],
   "source": [
    "# Calculate mean, median, and standard deviation of 'Byproduct'\n",
    "pork_mean_byproduct = pork_prices_df['Byproduct'].mean()\n",
    "pork_median_byproduct = pork_prices_df['Byproduct'].median()\n",
    "pork_std_byproduct = pork_prices_df['Byproduct'].std()\n",
    "\n",
    "# Print the statistics\n",
    "print(\"Statistics for Byproduct (Pork):\")\n",
    "print(\"Mean:\", pork_mean_byproduct)\n",
    "print(\"Median:\", pork_median_byproduct)\n",
    "print(\"Standard Deviation:\", pork_std_byproduct)"
   ]
  },
  {
   "cell_type": "code",
   "execution_count": 72,
   "id": "a9ef6ed4",
   "metadata": {},
   "outputs": [
    {
     "data": {
      "text/html": [
       "<div>\n",
       "<style scoped>\n",
       "    .dataframe tbody tr th:only-of-type {\n",
       "        vertical-align: middle;\n",
       "    }\n",
       "\n",
       "    .dataframe tbody tr th {\n",
       "        vertical-align: top;\n",
       "    }\n",
       "\n",
       "    .dataframe thead th {\n",
       "        text-align: right;\n",
       "    }\n",
       "</style>\n",
       "<table border=\"1\" class=\"dataframe\">\n",
       "  <thead>\n",
       "    <tr style=\"text-align: right;\">\n",
       "      <th></th>\n",
       "      <th>Month</th>\n",
       "      <th>Day</th>\n",
       "      <th>Year</th>\n",
       "      <th>Byproduct</th>\n",
       "      <th>Gross_Farm_Value</th>\n",
       "      <th>Net_Farm_Value</th>\n",
       "      <th>Wholesale_Value</th>\n",
       "      <th>Retail_Value</th>\n",
       "      <th>Total</th>\n",
       "      <th>Farm_Wholesale</th>\n",
       "      <th>Wholesale_Retail</th>\n",
       "      <th>Beef_Retail_Value</th>\n",
       "    </tr>\n",
       "  </thead>\n",
       "  <tbody>\n",
       "    <tr>\n",
       "      <th>210</th>\n",
       "      <td>7</td>\n",
       "      <td>1</td>\n",
       "      <td>1987</td>\n",
       "      <td>19.1</td>\n",
       "      <td>159.0</td>\n",
       "      <td>139.9</td>\n",
       "      <td>163.8</td>\n",
       "      <td>244.0</td>\n",
       "      <td>104.1</td>\n",
       "      <td>23.9</td>\n",
       "      <td>80.2</td>\n",
       "      <td>213.9</td>\n",
       "    </tr>\n",
       "    <tr>\n",
       "      <th>211</th>\n",
       "      <td>8</td>\n",
       "      <td>1</td>\n",
       "      <td>1987</td>\n",
       "      <td>19.4</td>\n",
       "      <td>156.5</td>\n",
       "      <td>137.1</td>\n",
       "      <td>157.0</td>\n",
       "      <td>241.2</td>\n",
       "      <td>104.1</td>\n",
       "      <td>19.9</td>\n",
       "      <td>84.2</td>\n",
       "      <td>213.1</td>\n",
       "    </tr>\n",
       "    <tr>\n",
       "      <th>212</th>\n",
       "      <td>9</td>\n",
       "      <td>1</td>\n",
       "      <td>1987</td>\n",
       "      <td>19.6</td>\n",
       "      <td>158.0</td>\n",
       "      <td>138.4</td>\n",
       "      <td>159.5</td>\n",
       "      <td>241.3</td>\n",
       "      <td>102.9</td>\n",
       "      <td>21.1</td>\n",
       "      <td>81.8</td>\n",
       "      <td>214.5</td>\n",
       "    </tr>\n",
       "    <tr>\n",
       "      <th>213</th>\n",
       "      <td>10</td>\n",
       "      <td>1</td>\n",
       "      <td>1987</td>\n",
       "      <td>20.0</td>\n",
       "      <td>157.9</td>\n",
       "      <td>137.9</td>\n",
       "      <td>159.2</td>\n",
       "      <td>241.5</td>\n",
       "      <td>103.6</td>\n",
       "      <td>21.3</td>\n",
       "      <td>82.3</td>\n",
       "      <td>217.7</td>\n",
       "    </tr>\n",
       "    <tr>\n",
       "      <th>214</th>\n",
       "      <td>11</td>\n",
       "      <td>1</td>\n",
       "      <td>1987</td>\n",
       "      <td>20.0</td>\n",
       "      <td>156.9</td>\n",
       "      <td>136.9</td>\n",
       "      <td>156.8</td>\n",
       "      <td>242.4</td>\n",
       "      <td>105.5</td>\n",
       "      <td>19.9</td>\n",
       "      <td>85.6</td>\n",
       "      <td>218.6</td>\n",
       "    </tr>\n",
       "  </tbody>\n",
       "</table>\n",
       "</div>"
      ],
      "text/plain": [
       "     Month  Day   Year  Byproduct  Gross_Farm_Value  Net_Farm_Value  \\\n",
       "210      7     1  1987       19.1             159.0           139.9   \n",
       "211      8     1  1987       19.4             156.5           137.1   \n",
       "212      9     1  1987       19.6             158.0           138.4   \n",
       "213     10     1  1987       20.0             157.9           137.9   \n",
       "214     11     1  1987       20.0             156.9           136.9   \n",
       "\n",
       "     Wholesale_Value  Retail_Value  Total  Farm_Wholesale  Wholesale_Retail  \\\n",
       "210            163.8         244.0  104.1            23.9              80.2   \n",
       "211            157.0         241.2  104.1            19.9              84.2   \n",
       "212            159.5         241.3  102.9            21.1              81.8   \n",
       "213            159.2         241.5  103.6            21.3              82.3   \n",
       "214            156.8         242.4  105.5            19.9              85.6   \n",
       "\n",
       "     Beef_Retail_Value  \n",
       "210              213.9  \n",
       "211              213.1  \n",
       "212              214.5  \n",
       "213              217.7  \n",
       "214              218.6  "
      ]
     },
     "execution_count": 72,
     "metadata": {},
     "output_type": "execute_result"
    }
   ],
   "source": [
    "# Load beef prices df\n",
    "\n",
    "# Define the mapping for renaming the columns\n",
    "new_column_names = {\n",
    "    'DATE': 'Month',\n",
    "    'Day': 'Day',  # Corrected column name\n",
    "    'Unnamed: 2': 'Year',\n",
    "    'Byproduct': 'Byproduct',\n",
    "    'Gross_farm_value': 'Gross_Farm_Value',\n",
    "    'Net_farm_value': 'Net_Farm_Value',\n",
    "    'Wholesale_value': 'Wholesale_Value',\n",
    "    'Retail_value': 'Retail_Value',\n",
    "    'Total': 'Total',\n",
    "    'Farm_wholesale': 'Farm_Wholesale',\n",
    "    'Wholesale_retail': 'Wholesale_Retail',\n",
    "    'All_fresh_beef_retail_value': 'Beef_Retail_Value'\n",
    "}\n",
    "\n",
    "# Rename the columns\n",
    "beef_prices_df.rename(columns=new_column_names, inplace=True)\n",
    "\n",
    "# Drop rows with NaN values\n",
    "beef_prices_df.dropna(inplace=True)\n",
    "\n",
    "# Display the modified DataFrame\n",
    "beef_prices_df.head()"
   ]
  },
  {
   "cell_type": "code",
   "execution_count": 73,
   "id": "51fe30bc",
   "metadata": {},
   "outputs": [
    {
     "name": "stdout",
     "output_type": "stream",
     "text": [
      "Statistics for Byproduct (Beef):\n",
      "Mean: 23.631050228310496\n",
      "Median: 20.9\n",
      "Standard Deviation: 6.79400693586715\n"
     ]
    }
   ],
   "source": [
    "beef_mean_byproduct = beef_prices_df['Byproduct'].mean()\n",
    "beef_median_byproduct = beef_prices_df['Byproduct'].median()\n",
    "beef_std_byproduct = beef_prices_df['Byproduct'].std()\n",
    "\n",
    "# Print the statistics\n",
    "print(\"Statistics for Byproduct (Beef):\")\n",
    "print(\"Mean:\", beef_mean_byproduct)\n",
    "print(\"Median:\", beef_median_byproduct)\n",
    "print(\"Standard Deviation:\", beef_std_byproduct)"
   ]
  },
  {
   "cell_type": "code",
   "execution_count": 74,
   "id": "0d7817a5",
   "metadata": {},
   "outputs": [
    {
     "data": {
      "application/vnd.plotly.v1+json": {
       "config": {
        "plotlyServerURL": "https://plot.ly"
       },
       "data": [
        {
         "marker": {
          "color": "skyblue"
         },
         "name": "Mean",
         "type": "bar",
         "x": [
          "Pork",
          "Beef"
         ],
         "y": [
          5.935185185185184,
          23.631050228310496
         ]
        },
        {
         "error_y": {
          "array": [
           2.057510754920059,
           6.7940069358671495
          ],
          "type": "data",
          "visible": true
         },
         "marker": {
          "color": "black"
         },
         "mode": "markers",
         "name": "Standard Deviation",
         "type": "scatter",
         "x": [
          "Pork",
          "Beef"
         ],
         "y": [
          5.935185185185184,
          23.631050228310496
         ]
        },
        {
         "marker": {
          "color": "red",
          "size": 10
         },
         "mode": "markers",
         "name": "Median",
         "type": "scatter",
         "x": [
          "Pork",
          "Beef"
         ],
         "y": [
          5.5,
          20.9
         ]
        }
       ],
       "layout": {
        "barmode": "group",
        "template": {
         "data": {
          "bar": [
           {
            "error_x": {
             "color": "#2a3f5f"
            },
            "error_y": {
             "color": "#2a3f5f"
            },
            "marker": {
             "line": {
              "color": "#E5ECF6",
              "width": 0.5
             },
             "pattern": {
              "fillmode": "overlay",
              "size": 10,
              "solidity": 0.2
             }
            },
            "type": "bar"
           }
          ],
          "barpolar": [
           {
            "marker": {
             "line": {
              "color": "#E5ECF6",
              "width": 0.5
             },
             "pattern": {
              "fillmode": "overlay",
              "size": 10,
              "solidity": 0.2
             }
            },
            "type": "barpolar"
           }
          ],
          "carpet": [
           {
            "aaxis": {
             "endlinecolor": "#2a3f5f",
             "gridcolor": "white",
             "linecolor": "white",
             "minorgridcolor": "white",
             "startlinecolor": "#2a3f5f"
            },
            "baxis": {
             "endlinecolor": "#2a3f5f",
             "gridcolor": "white",
             "linecolor": "white",
             "minorgridcolor": "white",
             "startlinecolor": "#2a3f5f"
            },
            "type": "carpet"
           }
          ],
          "choropleth": [
           {
            "colorbar": {
             "outlinewidth": 0,
             "ticks": ""
            },
            "type": "choropleth"
           }
          ],
          "contour": [
           {
            "colorbar": {
             "outlinewidth": 0,
             "ticks": ""
            },
            "colorscale": [
             [
              0,
              "#0d0887"
             ],
             [
              0.1111111111111111,
              "#46039f"
             ],
             [
              0.2222222222222222,
              "#7201a8"
             ],
             [
              0.3333333333333333,
              "#9c179e"
             ],
             [
              0.4444444444444444,
              "#bd3786"
             ],
             [
              0.5555555555555556,
              "#d8576b"
             ],
             [
              0.6666666666666666,
              "#ed7953"
             ],
             [
              0.7777777777777778,
              "#fb9f3a"
             ],
             [
              0.8888888888888888,
              "#fdca26"
             ],
             [
              1,
              "#f0f921"
             ]
            ],
            "type": "contour"
           }
          ],
          "contourcarpet": [
           {
            "colorbar": {
             "outlinewidth": 0,
             "ticks": ""
            },
            "type": "contourcarpet"
           }
          ],
          "heatmap": [
           {
            "colorbar": {
             "outlinewidth": 0,
             "ticks": ""
            },
            "colorscale": [
             [
              0,
              "#0d0887"
             ],
             [
              0.1111111111111111,
              "#46039f"
             ],
             [
              0.2222222222222222,
              "#7201a8"
             ],
             [
              0.3333333333333333,
              "#9c179e"
             ],
             [
              0.4444444444444444,
              "#bd3786"
             ],
             [
              0.5555555555555556,
              "#d8576b"
             ],
             [
              0.6666666666666666,
              "#ed7953"
             ],
             [
              0.7777777777777778,
              "#fb9f3a"
             ],
             [
              0.8888888888888888,
              "#fdca26"
             ],
             [
              1,
              "#f0f921"
             ]
            ],
            "type": "heatmap"
           }
          ],
          "heatmapgl": [
           {
            "colorbar": {
             "outlinewidth": 0,
             "ticks": ""
            },
            "colorscale": [
             [
              0,
              "#0d0887"
             ],
             [
              0.1111111111111111,
              "#46039f"
             ],
             [
              0.2222222222222222,
              "#7201a8"
             ],
             [
              0.3333333333333333,
              "#9c179e"
             ],
             [
              0.4444444444444444,
              "#bd3786"
             ],
             [
              0.5555555555555556,
              "#d8576b"
             ],
             [
              0.6666666666666666,
              "#ed7953"
             ],
             [
              0.7777777777777778,
              "#fb9f3a"
             ],
             [
              0.8888888888888888,
              "#fdca26"
             ],
             [
              1,
              "#f0f921"
             ]
            ],
            "type": "heatmapgl"
           }
          ],
          "histogram": [
           {
            "marker": {
             "pattern": {
              "fillmode": "overlay",
              "size": 10,
              "solidity": 0.2
             }
            },
            "type": "histogram"
           }
          ],
          "histogram2d": [
           {
            "colorbar": {
             "outlinewidth": 0,
             "ticks": ""
            },
            "colorscale": [
             [
              0,
              "#0d0887"
             ],
             [
              0.1111111111111111,
              "#46039f"
             ],
             [
              0.2222222222222222,
              "#7201a8"
             ],
             [
              0.3333333333333333,
              "#9c179e"
             ],
             [
              0.4444444444444444,
              "#bd3786"
             ],
             [
              0.5555555555555556,
              "#d8576b"
             ],
             [
              0.6666666666666666,
              "#ed7953"
             ],
             [
              0.7777777777777778,
              "#fb9f3a"
             ],
             [
              0.8888888888888888,
              "#fdca26"
             ],
             [
              1,
              "#f0f921"
             ]
            ],
            "type": "histogram2d"
           }
          ],
          "histogram2dcontour": [
           {
            "colorbar": {
             "outlinewidth": 0,
             "ticks": ""
            },
            "colorscale": [
             [
              0,
              "#0d0887"
             ],
             [
              0.1111111111111111,
              "#46039f"
             ],
             [
              0.2222222222222222,
              "#7201a8"
             ],
             [
              0.3333333333333333,
              "#9c179e"
             ],
             [
              0.4444444444444444,
              "#bd3786"
             ],
             [
              0.5555555555555556,
              "#d8576b"
             ],
             [
              0.6666666666666666,
              "#ed7953"
             ],
             [
              0.7777777777777778,
              "#fb9f3a"
             ],
             [
              0.8888888888888888,
              "#fdca26"
             ],
             [
              1,
              "#f0f921"
             ]
            ],
            "type": "histogram2dcontour"
           }
          ],
          "mesh3d": [
           {
            "colorbar": {
             "outlinewidth": 0,
             "ticks": ""
            },
            "type": "mesh3d"
           }
          ],
          "parcoords": [
           {
            "line": {
             "colorbar": {
              "outlinewidth": 0,
              "ticks": ""
             }
            },
            "type": "parcoords"
           }
          ],
          "pie": [
           {
            "automargin": true,
            "type": "pie"
           }
          ],
          "scatter": [
           {
            "fillpattern": {
             "fillmode": "overlay",
             "size": 10,
             "solidity": 0.2
            },
            "type": "scatter"
           }
          ],
          "scatter3d": [
           {
            "line": {
             "colorbar": {
              "outlinewidth": 0,
              "ticks": ""
             }
            },
            "marker": {
             "colorbar": {
              "outlinewidth": 0,
              "ticks": ""
             }
            },
            "type": "scatter3d"
           }
          ],
          "scattercarpet": [
           {
            "marker": {
             "colorbar": {
              "outlinewidth": 0,
              "ticks": ""
             }
            },
            "type": "scattercarpet"
           }
          ],
          "scattergeo": [
           {
            "marker": {
             "colorbar": {
              "outlinewidth": 0,
              "ticks": ""
             }
            },
            "type": "scattergeo"
           }
          ],
          "scattergl": [
           {
            "marker": {
             "colorbar": {
              "outlinewidth": 0,
              "ticks": ""
             }
            },
            "type": "scattergl"
           }
          ],
          "scattermapbox": [
           {
            "marker": {
             "colorbar": {
              "outlinewidth": 0,
              "ticks": ""
             }
            },
            "type": "scattermapbox"
           }
          ],
          "scatterpolar": [
           {
            "marker": {
             "colorbar": {
              "outlinewidth": 0,
              "ticks": ""
             }
            },
            "type": "scatterpolar"
           }
          ],
          "scatterpolargl": [
           {
            "marker": {
             "colorbar": {
              "outlinewidth": 0,
              "ticks": ""
             }
            },
            "type": "scatterpolargl"
           }
          ],
          "scatterternary": [
           {
            "marker": {
             "colorbar": {
              "outlinewidth": 0,
              "ticks": ""
             }
            },
            "type": "scatterternary"
           }
          ],
          "surface": [
           {
            "colorbar": {
             "outlinewidth": 0,
             "ticks": ""
            },
            "colorscale": [
             [
              0,
              "#0d0887"
             ],
             [
              0.1111111111111111,
              "#46039f"
             ],
             [
              0.2222222222222222,
              "#7201a8"
             ],
             [
              0.3333333333333333,
              "#9c179e"
             ],
             [
              0.4444444444444444,
              "#bd3786"
             ],
             [
              0.5555555555555556,
              "#d8576b"
             ],
             [
              0.6666666666666666,
              "#ed7953"
             ],
             [
              0.7777777777777778,
              "#fb9f3a"
             ],
             [
              0.8888888888888888,
              "#fdca26"
             ],
             [
              1,
              "#f0f921"
             ]
            ],
            "type": "surface"
           }
          ],
          "table": [
           {
            "cells": {
             "fill": {
              "color": "#EBF0F8"
             },
             "line": {
              "color": "white"
             }
            },
            "header": {
             "fill": {
              "color": "#C8D4E3"
             },
             "line": {
              "color": "white"
             }
            },
            "type": "table"
           }
          ]
         },
         "layout": {
          "annotationdefaults": {
           "arrowcolor": "#2a3f5f",
           "arrowhead": 0,
           "arrowwidth": 1
          },
          "autotypenumbers": "strict",
          "coloraxis": {
           "colorbar": {
            "outlinewidth": 0,
            "ticks": ""
           }
          },
          "colorscale": {
           "diverging": [
            [
             0,
             "#8e0152"
            ],
            [
             0.1,
             "#c51b7d"
            ],
            [
             0.2,
             "#de77ae"
            ],
            [
             0.3,
             "#f1b6da"
            ],
            [
             0.4,
             "#fde0ef"
            ],
            [
             0.5,
             "#f7f7f7"
            ],
            [
             0.6,
             "#e6f5d0"
            ],
            [
             0.7,
             "#b8e186"
            ],
            [
             0.8,
             "#7fbc41"
            ],
            [
             0.9,
             "#4d9221"
            ],
            [
             1,
             "#276419"
            ]
           ],
           "sequential": [
            [
             0,
             "#0d0887"
            ],
            [
             0.1111111111111111,
             "#46039f"
            ],
            [
             0.2222222222222222,
             "#7201a8"
            ],
            [
             0.3333333333333333,
             "#9c179e"
            ],
            [
             0.4444444444444444,
             "#bd3786"
            ],
            [
             0.5555555555555556,
             "#d8576b"
            ],
            [
             0.6666666666666666,
             "#ed7953"
            ],
            [
             0.7777777777777778,
             "#fb9f3a"
            ],
            [
             0.8888888888888888,
             "#fdca26"
            ],
            [
             1,
             "#f0f921"
            ]
           ],
           "sequentialminus": [
            [
             0,
             "#0d0887"
            ],
            [
             0.1111111111111111,
             "#46039f"
            ],
            [
             0.2222222222222222,
             "#7201a8"
            ],
            [
             0.3333333333333333,
             "#9c179e"
            ],
            [
             0.4444444444444444,
             "#bd3786"
            ],
            [
             0.5555555555555556,
             "#d8576b"
            ],
            [
             0.6666666666666666,
             "#ed7953"
            ],
            [
             0.7777777777777778,
             "#fb9f3a"
            ],
            [
             0.8888888888888888,
             "#fdca26"
            ],
            [
             1,
             "#f0f921"
            ]
           ]
          },
          "colorway": [
           "#636efa",
           "#EF553B",
           "#00cc96",
           "#ab63fa",
           "#FFA15A",
           "#19d3f3",
           "#FF6692",
           "#B6E880",
           "#FF97FF",
           "#FECB52"
          ],
          "font": {
           "color": "#2a3f5f"
          },
          "geo": {
           "bgcolor": "white",
           "lakecolor": "white",
           "landcolor": "#E5ECF6",
           "showlakes": true,
           "showland": true,
           "subunitcolor": "white"
          },
          "hoverlabel": {
           "align": "left"
          },
          "hovermode": "closest",
          "mapbox": {
           "style": "light"
          },
          "paper_bgcolor": "white",
          "plot_bgcolor": "#E5ECF6",
          "polar": {
           "angularaxis": {
            "gridcolor": "white",
            "linecolor": "white",
            "ticks": ""
           },
           "bgcolor": "#E5ECF6",
           "radialaxis": {
            "gridcolor": "white",
            "linecolor": "white",
            "ticks": ""
           }
          },
          "scene": {
           "xaxis": {
            "backgroundcolor": "#E5ECF6",
            "gridcolor": "white",
            "gridwidth": 2,
            "linecolor": "white",
            "showbackground": true,
            "ticks": "",
            "zerolinecolor": "white"
           },
           "yaxis": {
            "backgroundcolor": "#E5ECF6",
            "gridcolor": "white",
            "gridwidth": 2,
            "linecolor": "white",
            "showbackground": true,
            "ticks": "",
            "zerolinecolor": "white"
           },
           "zaxis": {
            "backgroundcolor": "#E5ECF6",
            "gridcolor": "white",
            "gridwidth": 2,
            "linecolor": "white",
            "showbackground": true,
            "ticks": "",
            "zerolinecolor": "white"
           }
          },
          "shapedefaults": {
           "line": {
            "color": "#2a3f5f"
           }
          },
          "ternary": {
           "aaxis": {
            "gridcolor": "white",
            "linecolor": "white",
            "ticks": ""
           },
           "baxis": {
            "gridcolor": "white",
            "linecolor": "white",
            "ticks": ""
           },
           "bgcolor": "#E5ECF6",
           "caxis": {
            "gridcolor": "white",
            "linecolor": "white",
            "ticks": ""
           }
          },
          "title": {
           "x": 0.05
          },
          "xaxis": {
           "automargin": true,
           "gridcolor": "white",
           "linecolor": "white",
           "ticks": "",
           "title": {
            "standoff": 15
           },
           "zerolinecolor": "white",
           "zerolinewidth": 2
          },
          "yaxis": {
           "automargin": true,
           "gridcolor": "white",
           "linecolor": "white",
           "ticks": "",
           "title": {
            "standoff": 15
           },
           "zerolinecolor": "white",
           "zerolinewidth": 2
          }
         }
        },
        "title": {
         "text": "Statistics for Byproduct (Pork and Beef)"
        },
        "xaxis": {
         "title": {
          "text": "Byproduct"
         }
        },
        "yaxis": {
         "title": {
          "text": "Value"
         }
        }
       }
      },
      "text/html": [
       "<div>                            <div id=\"ba8fe881-9eb2-4401-ba32-7fa78df43b15\" class=\"plotly-graph-div\" style=\"height:525px; width:100%;\"></div>            <script type=\"text/javascript\">                require([\"plotly\"], function(Plotly) {                    window.PLOTLYENV=window.PLOTLYENV || {};                                    if (document.getElementById(\"ba8fe881-9eb2-4401-ba32-7fa78df43b15\")) {                    Plotly.newPlot(                        \"ba8fe881-9eb2-4401-ba32-7fa78df43b15\",                        [{\"marker\":{\"color\":\"skyblue\"},\"name\":\"Mean\",\"x\":[\"Pork\",\"Beef\"],\"y\":[5.935185185185184,23.631050228310496],\"type\":\"bar\"},{\"error_y\":{\"array\":[2.057510754920059,6.7940069358671495],\"type\":\"data\",\"visible\":true},\"marker\":{\"color\":\"black\"},\"mode\":\"markers\",\"name\":\"Standard Deviation\",\"x\":[\"Pork\",\"Beef\"],\"y\":[5.935185185185184,23.631050228310496],\"type\":\"scatter\"},{\"marker\":{\"color\":\"red\",\"size\":10},\"mode\":\"markers\",\"name\":\"Median\",\"x\":[\"Pork\",\"Beef\"],\"y\":[5.5,20.9],\"type\":\"scatter\"}],                        {\"template\":{\"data\":{\"histogram2dcontour\":[{\"type\":\"histogram2dcontour\",\"colorbar\":{\"outlinewidth\":0,\"ticks\":\"\"},\"colorscale\":[[0.0,\"#0d0887\"],[0.1111111111111111,\"#46039f\"],[0.2222222222222222,\"#7201a8\"],[0.3333333333333333,\"#9c179e\"],[0.4444444444444444,\"#bd3786\"],[0.5555555555555556,\"#d8576b\"],[0.6666666666666666,\"#ed7953\"],[0.7777777777777778,\"#fb9f3a\"],[0.8888888888888888,\"#fdca26\"],[1.0,\"#f0f921\"]]}],\"choropleth\":[{\"type\":\"choropleth\",\"colorbar\":{\"outlinewidth\":0,\"ticks\":\"\"}}],\"histogram2d\":[{\"type\":\"histogram2d\",\"colorbar\":{\"outlinewidth\":0,\"ticks\":\"\"},\"colorscale\":[[0.0,\"#0d0887\"],[0.1111111111111111,\"#46039f\"],[0.2222222222222222,\"#7201a8\"],[0.3333333333333333,\"#9c179e\"],[0.4444444444444444,\"#bd3786\"],[0.5555555555555556,\"#d8576b\"],[0.6666666666666666,\"#ed7953\"],[0.7777777777777778,\"#fb9f3a\"],[0.8888888888888888,\"#fdca26\"],[1.0,\"#f0f921\"]]}],\"heatmap\":[{\"type\":\"heatmap\",\"colorbar\":{\"outlinewidth\":0,\"ticks\":\"\"},\"colorscale\":[[0.0,\"#0d0887\"],[0.1111111111111111,\"#46039f\"],[0.2222222222222222,\"#7201a8\"],[0.3333333333333333,\"#9c179e\"],[0.4444444444444444,\"#bd3786\"],[0.5555555555555556,\"#d8576b\"],[0.6666666666666666,\"#ed7953\"],[0.7777777777777778,\"#fb9f3a\"],[0.8888888888888888,\"#fdca26\"],[1.0,\"#f0f921\"]]}],\"heatmapgl\":[{\"type\":\"heatmapgl\",\"colorbar\":{\"outlinewidth\":0,\"ticks\":\"\"},\"colorscale\":[[0.0,\"#0d0887\"],[0.1111111111111111,\"#46039f\"],[0.2222222222222222,\"#7201a8\"],[0.3333333333333333,\"#9c179e\"],[0.4444444444444444,\"#bd3786\"],[0.5555555555555556,\"#d8576b\"],[0.6666666666666666,\"#ed7953\"],[0.7777777777777778,\"#fb9f3a\"],[0.8888888888888888,\"#fdca26\"],[1.0,\"#f0f921\"]]}],\"contourcarpet\":[{\"type\":\"contourcarpet\",\"colorbar\":{\"outlinewidth\":0,\"ticks\":\"\"}}],\"contour\":[{\"type\":\"contour\",\"colorbar\":{\"outlinewidth\":0,\"ticks\":\"\"},\"colorscale\":[[0.0,\"#0d0887\"],[0.1111111111111111,\"#46039f\"],[0.2222222222222222,\"#7201a8\"],[0.3333333333333333,\"#9c179e\"],[0.4444444444444444,\"#bd3786\"],[0.5555555555555556,\"#d8576b\"],[0.6666666666666666,\"#ed7953\"],[0.7777777777777778,\"#fb9f3a\"],[0.8888888888888888,\"#fdca26\"],[1.0,\"#f0f921\"]]}],\"surface\":[{\"type\":\"surface\",\"colorbar\":{\"outlinewidth\":0,\"ticks\":\"\"},\"colorscale\":[[0.0,\"#0d0887\"],[0.1111111111111111,\"#46039f\"],[0.2222222222222222,\"#7201a8\"],[0.3333333333333333,\"#9c179e\"],[0.4444444444444444,\"#bd3786\"],[0.5555555555555556,\"#d8576b\"],[0.6666666666666666,\"#ed7953\"],[0.7777777777777778,\"#fb9f3a\"],[0.8888888888888888,\"#fdca26\"],[1.0,\"#f0f921\"]]}],\"mesh3d\":[{\"type\":\"mesh3d\",\"colorbar\":{\"outlinewidth\":0,\"ticks\":\"\"}}],\"scatter\":[{\"fillpattern\":{\"fillmode\":\"overlay\",\"size\":10,\"solidity\":0.2},\"type\":\"scatter\"}],\"parcoords\":[{\"type\":\"parcoords\",\"line\":{\"colorbar\":{\"outlinewidth\":0,\"ticks\":\"\"}}}],\"scatterpolargl\":[{\"type\":\"scatterpolargl\",\"marker\":{\"colorbar\":{\"outlinewidth\":0,\"ticks\":\"\"}}}],\"bar\":[{\"error_x\":{\"color\":\"#2a3f5f\"},\"error_y\":{\"color\":\"#2a3f5f\"},\"marker\":{\"line\":{\"color\":\"#E5ECF6\",\"width\":0.5},\"pattern\":{\"fillmode\":\"overlay\",\"size\":10,\"solidity\":0.2}},\"type\":\"bar\"}],\"scattergeo\":[{\"type\":\"scattergeo\",\"marker\":{\"colorbar\":{\"outlinewidth\":0,\"ticks\":\"\"}}}],\"scatterpolar\":[{\"type\":\"scatterpolar\",\"marker\":{\"colorbar\":{\"outlinewidth\":0,\"ticks\":\"\"}}}],\"histogram\":[{\"marker\":{\"pattern\":{\"fillmode\":\"overlay\",\"size\":10,\"solidity\":0.2}},\"type\":\"histogram\"}],\"scattergl\":[{\"type\":\"scattergl\",\"marker\":{\"colorbar\":{\"outlinewidth\":0,\"ticks\":\"\"}}}],\"scatter3d\":[{\"type\":\"scatter3d\",\"line\":{\"colorbar\":{\"outlinewidth\":0,\"ticks\":\"\"}},\"marker\":{\"colorbar\":{\"outlinewidth\":0,\"ticks\":\"\"}}}],\"scattermapbox\":[{\"type\":\"scattermapbox\",\"marker\":{\"colorbar\":{\"outlinewidth\":0,\"ticks\":\"\"}}}],\"scatterternary\":[{\"type\":\"scatterternary\",\"marker\":{\"colorbar\":{\"outlinewidth\":0,\"ticks\":\"\"}}}],\"scattercarpet\":[{\"type\":\"scattercarpet\",\"marker\":{\"colorbar\":{\"outlinewidth\":0,\"ticks\":\"\"}}}],\"carpet\":[{\"aaxis\":{\"endlinecolor\":\"#2a3f5f\",\"gridcolor\":\"white\",\"linecolor\":\"white\",\"minorgridcolor\":\"white\",\"startlinecolor\":\"#2a3f5f\"},\"baxis\":{\"endlinecolor\":\"#2a3f5f\",\"gridcolor\":\"white\",\"linecolor\":\"white\",\"minorgridcolor\":\"white\",\"startlinecolor\":\"#2a3f5f\"},\"type\":\"carpet\"}],\"table\":[{\"cells\":{\"fill\":{\"color\":\"#EBF0F8\"},\"line\":{\"color\":\"white\"}},\"header\":{\"fill\":{\"color\":\"#C8D4E3\"},\"line\":{\"color\":\"white\"}},\"type\":\"table\"}],\"barpolar\":[{\"marker\":{\"line\":{\"color\":\"#E5ECF6\",\"width\":0.5},\"pattern\":{\"fillmode\":\"overlay\",\"size\":10,\"solidity\":0.2}},\"type\":\"barpolar\"}],\"pie\":[{\"automargin\":true,\"type\":\"pie\"}]},\"layout\":{\"autotypenumbers\":\"strict\",\"colorway\":[\"#636efa\",\"#EF553B\",\"#00cc96\",\"#ab63fa\",\"#FFA15A\",\"#19d3f3\",\"#FF6692\",\"#B6E880\",\"#FF97FF\",\"#FECB52\"],\"font\":{\"color\":\"#2a3f5f\"},\"hovermode\":\"closest\",\"hoverlabel\":{\"align\":\"left\"},\"paper_bgcolor\":\"white\",\"plot_bgcolor\":\"#E5ECF6\",\"polar\":{\"bgcolor\":\"#E5ECF6\",\"angularaxis\":{\"gridcolor\":\"white\",\"linecolor\":\"white\",\"ticks\":\"\"},\"radialaxis\":{\"gridcolor\":\"white\",\"linecolor\":\"white\",\"ticks\":\"\"}},\"ternary\":{\"bgcolor\":\"#E5ECF6\",\"aaxis\":{\"gridcolor\":\"white\",\"linecolor\":\"white\",\"ticks\":\"\"},\"baxis\":{\"gridcolor\":\"white\",\"linecolor\":\"white\",\"ticks\":\"\"},\"caxis\":{\"gridcolor\":\"white\",\"linecolor\":\"white\",\"ticks\":\"\"}},\"coloraxis\":{\"colorbar\":{\"outlinewidth\":0,\"ticks\":\"\"}},\"colorscale\":{\"sequential\":[[0.0,\"#0d0887\"],[0.1111111111111111,\"#46039f\"],[0.2222222222222222,\"#7201a8\"],[0.3333333333333333,\"#9c179e\"],[0.4444444444444444,\"#bd3786\"],[0.5555555555555556,\"#d8576b\"],[0.6666666666666666,\"#ed7953\"],[0.7777777777777778,\"#fb9f3a\"],[0.8888888888888888,\"#fdca26\"],[1.0,\"#f0f921\"]],\"sequentialminus\":[[0.0,\"#0d0887\"],[0.1111111111111111,\"#46039f\"],[0.2222222222222222,\"#7201a8\"],[0.3333333333333333,\"#9c179e\"],[0.4444444444444444,\"#bd3786\"],[0.5555555555555556,\"#d8576b\"],[0.6666666666666666,\"#ed7953\"],[0.7777777777777778,\"#fb9f3a\"],[0.8888888888888888,\"#fdca26\"],[1.0,\"#f0f921\"]],\"diverging\":[[0,\"#8e0152\"],[0.1,\"#c51b7d\"],[0.2,\"#de77ae\"],[0.3,\"#f1b6da\"],[0.4,\"#fde0ef\"],[0.5,\"#f7f7f7\"],[0.6,\"#e6f5d0\"],[0.7,\"#b8e186\"],[0.8,\"#7fbc41\"],[0.9,\"#4d9221\"],[1,\"#276419\"]]},\"xaxis\":{\"gridcolor\":\"white\",\"linecolor\":\"white\",\"ticks\":\"\",\"title\":{\"standoff\":15},\"zerolinecolor\":\"white\",\"automargin\":true,\"zerolinewidth\":2},\"yaxis\":{\"gridcolor\":\"white\",\"linecolor\":\"white\",\"ticks\":\"\",\"title\":{\"standoff\":15},\"zerolinecolor\":\"white\",\"automargin\":true,\"zerolinewidth\":2},\"scene\":{\"xaxis\":{\"backgroundcolor\":\"#E5ECF6\",\"gridcolor\":\"white\",\"linecolor\":\"white\",\"showbackground\":true,\"ticks\":\"\",\"zerolinecolor\":\"white\",\"gridwidth\":2},\"yaxis\":{\"backgroundcolor\":\"#E5ECF6\",\"gridcolor\":\"white\",\"linecolor\":\"white\",\"showbackground\":true,\"ticks\":\"\",\"zerolinecolor\":\"white\",\"gridwidth\":2},\"zaxis\":{\"backgroundcolor\":\"#E5ECF6\",\"gridcolor\":\"white\",\"linecolor\":\"white\",\"showbackground\":true,\"ticks\":\"\",\"zerolinecolor\":\"white\",\"gridwidth\":2}},\"shapedefaults\":{\"line\":{\"color\":\"#2a3f5f\"}},\"annotationdefaults\":{\"arrowcolor\":\"#2a3f5f\",\"arrowhead\":0,\"arrowwidth\":1},\"geo\":{\"bgcolor\":\"white\",\"landcolor\":\"#E5ECF6\",\"subunitcolor\":\"white\",\"showland\":true,\"showlakes\":true,\"lakecolor\":\"white\"},\"title\":{\"x\":0.05},\"mapbox\":{\"style\":\"light\"}}},\"title\":{\"text\":\"Statistics for Byproduct (Pork and Beef)\"},\"xaxis\":{\"title\":{\"text\":\"Byproduct\"}},\"yaxis\":{\"title\":{\"text\":\"Value\"}},\"barmode\":\"group\"},                        {\"responsive\": true}                    ).then(function(){\n",
       "                            \n",
       "var gd = document.getElementById('ba8fe881-9eb2-4401-ba32-7fa78df43b15');\n",
       "var x = new MutationObserver(function (mutations, observer) {{\n",
       "        var display = window.getComputedStyle(gd).display;\n",
       "        if (!display || display === 'none') {{\n",
       "            console.log([gd, 'removed!']);\n",
       "            Plotly.purge(gd);\n",
       "            observer.disconnect();\n",
       "        }}\n",
       "}});\n",
       "\n",
       "// Listen for the removal of the full notebook cells\n",
       "var notebookContainer = gd.closest('#notebook-container');\n",
       "if (notebookContainer) {{\n",
       "    x.observe(notebookContainer, {childList: true});\n",
       "}}\n",
       "\n",
       "// Listen for the clearing of the current output cell\n",
       "var outputEl = gd.closest('.output');\n",
       "if (outputEl) {{\n",
       "    x.observe(outputEl, {childList: true});\n",
       "}}\n",
       "\n",
       "                        })                };                });            </script>        </div>"
      ]
     },
     "metadata": {},
     "output_type": "display_data"
    }
   ],
   "source": [
    "import plotly.graph_objects as go\n",
    "\n",
    "# Data\n",
    "categories = ['Pork', 'Beef']\n",
    "means = [5.935185185185184, 23.631050228310496]\n",
    "medians = [5.5, 20.9]\n",
    "std_devs = [2.057510754920059, 6.7940069358671495]\n",
    "\n",
    "# Create the figure\n",
    "fig = go.Figure()\n",
    "\n",
    "# Add mean bars\n",
    "fig.add_trace(go.Bar(\n",
    "    x=categories,\n",
    "    y=means,\n",
    "    name='Mean',\n",
    "    marker_color='skyblue'\n",
    "))\n",
    "\n",
    "# Add standard deviation error bars\n",
    "fig.add_trace(go.Scatter(\n",
    "    x=categories,\n",
    "    y=means,\n",
    "    error_y=dict(\n",
    "        type='data',\n",
    "        array=std_devs,\n",
    "        visible=True\n",
    "    ),\n",
    "    mode='markers',\n",
    "    name='Standard Deviation',\n",
    "    marker=dict(color='black')\n",
    "))\n",
    "\n",
    "# Add median points\n",
    "fig.add_trace(go.Scatter(\n",
    "    x=categories,\n",
    "    y=medians,\n",
    "    mode='markers',\n",
    "    name='Median',\n",
    "    marker=dict(color='red', size=10)\n",
    "))\n",
    "\n",
    "# Update layout\n",
    "fig.update_layout(\n",
    "    title='Statistics for Byproduct (Pork and Beef)',\n",
    "    xaxis_title='Byproduct',\n",
    "    yaxis_title='Value',\n",
    "    barmode='group'\n",
    ")\n",
    "\n",
    "# Save the plot as an image file\n",
    "# fig.write_image(\"statistics_plotly.png\")\n",
    "\n",
    "# Show the plot\n",
    "fig.show()\n"
   ]
  },
  {
   "cell_type": "code",
   "execution_count": 75,
   "id": "62ff55ea",
   "metadata": {},
   "outputs": [
    {
     "data": {
      "text/html": [
       "<div>\n",
       "<style scoped>\n",
       "    .dataframe tbody tr th:only-of-type {\n",
       "        vertical-align: middle;\n",
       "    }\n",
       "\n",
       "    .dataframe tbody tr th {\n",
       "        vertical-align: top;\n",
       "    }\n",
       "\n",
       "    .dataframe thead th {\n",
       "        text-align: right;\n",
       "    }\n",
       "</style>\n",
       "<table border=\"1\" class=\"dataframe\">\n",
       "  <thead>\n",
       "    <tr style=\"text-align: right;\">\n",
       "      <th></th>\n",
       "      <th>year</th>\n",
       "      <th>mean</th>\n",
       "      <th>unc</th>\n",
       "    </tr>\n",
       "  </thead>\n",
       "  <tbody>\n",
       "    <tr>\n",
       "      <th>0</th>\n",
       "      <td>1984</td>\n",
       "      <td>1644.68</td>\n",
       "      <td>0.67</td>\n",
       "    </tr>\n",
       "    <tr>\n",
       "      <th>1</th>\n",
       "      <td>1985</td>\n",
       "      <td>1657.29</td>\n",
       "      <td>0.59</td>\n",
       "    </tr>\n",
       "    <tr>\n",
       "      <th>2</th>\n",
       "      <td>1986</td>\n",
       "      <td>1670.08</td>\n",
       "      <td>0.74</td>\n",
       "    </tr>\n",
       "    <tr>\n",
       "      <th>3</th>\n",
       "      <td>1987</td>\n",
       "      <td>1682.70</td>\n",
       "      <td>0.49</td>\n",
       "    </tr>\n",
       "    <tr>\n",
       "      <th>4</th>\n",
       "      <td>1988</td>\n",
       "      <td>1693.11</td>\n",
       "      <td>0.67</td>\n",
       "    </tr>\n",
       "  </tbody>\n",
       "</table>\n",
       "</div>"
      ],
      "text/plain": [
       "   year     mean   unc\n",
       "0  1984  1644.68  0.67\n",
       "1  1985  1657.29  0.59\n",
       "2  1986  1670.08  0.74\n",
       "3  1987  1682.70  0.49\n",
       "4  1988  1693.11  0.67"
      ]
     },
     "execution_count": 75,
     "metadata": {},
     "output_type": "execute_result"
    }
   ],
   "source": [
    "# Define the mapping for renaming the columns  for methane_levels\n",
    "methane_levels_df.shape\n",
    "methane_levels_df.head()"
   ]
  },
  {
   "cell_type": "code",
   "execution_count": 76,
   "id": "fbe38b28",
   "metadata": {},
   "outputs": [
    {
     "data": {
      "text/html": [
       "<div>\n",
       "<style scoped>\n",
       "    .dataframe tbody tr th:only-of-type {\n",
       "        vertical-align: middle;\n",
       "    }\n",
       "\n",
       "    .dataframe tbody tr th {\n",
       "        vertical-align: top;\n",
       "    }\n",
       "\n",
       "    .dataframe thead th {\n",
       "        text-align: right;\n",
       "    }\n",
       "</style>\n",
       "<table border=\"1\" class=\"dataframe\">\n",
       "  <thead>\n",
       "    <tr style=\"text-align: right;\">\n",
       "      <th></th>\n",
       "      <th>year</th>\n",
       "      <th>mean</th>\n",
       "      <th>category</th>\n",
       "    </tr>\n",
       "  </thead>\n",
       "  <tbody>\n",
       "    <tr>\n",
       "      <th>0</th>\n",
       "      <td>1984</td>\n",
       "      <td>1644.68</td>\n",
       "      <td>Lowest</td>\n",
       "    </tr>\n",
       "    <tr>\n",
       "      <th>1</th>\n",
       "      <td>1985</td>\n",
       "      <td>1657.29</td>\n",
       "      <td>Lowest</td>\n",
       "    </tr>\n",
       "    <tr>\n",
       "      <th>2</th>\n",
       "      <td>1986</td>\n",
       "      <td>1670.08</td>\n",
       "      <td>Lowest</td>\n",
       "    </tr>\n",
       "    <tr>\n",
       "      <th>3</th>\n",
       "      <td>1987</td>\n",
       "      <td>1682.70</td>\n",
       "      <td>Lowest</td>\n",
       "    </tr>\n",
       "    <tr>\n",
       "      <th>4</th>\n",
       "      <td>1988</td>\n",
       "      <td>1693.11</td>\n",
       "      <td>Lowest</td>\n",
       "    </tr>\n",
       "    <tr>\n",
       "      <th>5</th>\n",
       "      <td>1989</td>\n",
       "      <td>1704.54</td>\n",
       "      <td>Lowest</td>\n",
       "    </tr>\n",
       "    <tr>\n",
       "      <th>6</th>\n",
       "      <td>1990</td>\n",
       "      <td>1714.42</td>\n",
       "      <td>Lowest</td>\n",
       "    </tr>\n",
       "    <tr>\n",
       "      <th>7</th>\n",
       "      <td>1991</td>\n",
       "      <td>1724.84</td>\n",
       "      <td>Lowest</td>\n",
       "    </tr>\n",
       "    <tr>\n",
       "      <th>8</th>\n",
       "      <td>1992</td>\n",
       "      <td>1735.47</td>\n",
       "      <td>Lowest</td>\n",
       "    </tr>\n",
       "    <tr>\n",
       "      <th>9</th>\n",
       "      <td>1993</td>\n",
       "      <td>1736.49</td>\n",
       "      <td>Lowest</td>\n",
       "    </tr>\n",
       "    <tr>\n",
       "      <th>10</th>\n",
       "      <td>2014</td>\n",
       "      <td>1822.57</td>\n",
       "      <td>Highest</td>\n",
       "    </tr>\n",
       "    <tr>\n",
       "      <th>11</th>\n",
       "      <td>2015</td>\n",
       "      <td>1834.27</td>\n",
       "      <td>Highest</td>\n",
       "    </tr>\n",
       "    <tr>\n",
       "      <th>12</th>\n",
       "      <td>2016</td>\n",
       "      <td>1843.12</td>\n",
       "      <td>Highest</td>\n",
       "    </tr>\n",
       "    <tr>\n",
       "      <th>13</th>\n",
       "      <td>2017</td>\n",
       "      <td>1849.67</td>\n",
       "      <td>Highest</td>\n",
       "    </tr>\n",
       "    <tr>\n",
       "      <th>14</th>\n",
       "      <td>2018</td>\n",
       "      <td>1857.33</td>\n",
       "      <td>Highest</td>\n",
       "    </tr>\n",
       "    <tr>\n",
       "      <th>15</th>\n",
       "      <td>2019</td>\n",
       "      <td>1866.58</td>\n",
       "      <td>Highest</td>\n",
       "    </tr>\n",
       "    <tr>\n",
       "      <th>16</th>\n",
       "      <td>2020</td>\n",
       "      <td>1878.93</td>\n",
       "      <td>Highest</td>\n",
       "    </tr>\n",
       "    <tr>\n",
       "      <th>17</th>\n",
       "      <td>2021</td>\n",
       "      <td>1895.28</td>\n",
       "      <td>Highest</td>\n",
       "    </tr>\n",
       "    <tr>\n",
       "      <th>18</th>\n",
       "      <td>2022</td>\n",
       "      <td>1911.81</td>\n",
       "      <td>Highest</td>\n",
       "    </tr>\n",
       "    <tr>\n",
       "      <th>19</th>\n",
       "      <td>2023</td>\n",
       "      <td>1922.56</td>\n",
       "      <td>Highest</td>\n",
       "    </tr>\n",
       "  </tbody>\n",
       "</table>\n",
       "</div>"
      ],
      "text/plain": [
       "    year     mean category\n",
       "0   1984  1644.68   Lowest\n",
       "1   1985  1657.29   Lowest\n",
       "2   1986  1670.08   Lowest\n",
       "3   1987  1682.70   Lowest\n",
       "4   1988  1693.11   Lowest\n",
       "5   1989  1704.54   Lowest\n",
       "6   1990  1714.42   Lowest\n",
       "7   1991  1724.84   Lowest\n",
       "8   1992  1735.47   Lowest\n",
       "9   1993  1736.49   Lowest\n",
       "10  2014  1822.57  Highest\n",
       "11  2015  1834.27  Highest\n",
       "12  2016  1843.12  Highest\n",
       "13  2017  1849.67  Highest\n",
       "14  2018  1857.33  Highest\n",
       "15  2019  1866.58  Highest\n",
       "16  2020  1878.93  Highest\n",
       "17  2021  1895.28  Highest\n",
       "18  2022  1911.81  Highest\n",
       "19  2023  1922.56  Highest"
      ]
     },
     "execution_count": 76,
     "metadata": {},
     "output_type": "execute_result"
    }
   ],
   "source": [
    "# Sort the methane_levels DataFrame by mean methane levels to get the lowest and highest 10 years\n",
    "sorted_methane_levels = methane_levels_df.sort_values(by='mean')\n",
    "\n",
    "# Select the lowest 10 years\n",
    "lowest_df = sorted_methane_levels.head(10)[['year', 'mean']]\n",
    "lowest_df['category'] = 'Lowest'\n",
    "\n",
    "# Select the highest 10 years\n",
    "highest_df = sorted_methane_levels.tail(10)[['year', 'mean']]\n",
    "highest_df['category'] = 'Highest'\n",
    "\n",
    "# Concatenate both DataFrames\n",
    "combined_df = pd.concat([lowest_df, highest_df])\n",
    "\n",
    "# Reset index\n",
    "combined_df.reset_index(drop=True, inplace=True)\n",
    "\n",
    "# Print the combined DataFrame\n",
    "combined_df"
   ]
  },
  {
   "cell_type": "code",
   "execution_count": 77,
   "id": "a1f48656",
   "metadata": {},
   "outputs": [
    {
     "data": {
      "image/png": "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",
      "text/plain": [
       "<Figure size 1400x600 with 2 Axes>"
      ]
     },
     "metadata": {},
     "output_type": "display_data"
    }
   ],
   "source": [
    "# Create figure and axes\n",
    "fig, (ax1, ax2) = plt.subplots(1, 2, figsize=(14, 6))\n",
    "\n",
    "# Plot lowest 10 years\n",
    "ax1.barh(lowest_df['year'], lowest_df['mean'], color='skyblue')\n",
    "ax1.set_xlabel('Mean Methane Levels')\n",
    "ax1.set_ylabel('Year')\n",
    "ax1.set_title('Top 10 Years with Lowest Mean Methane Levels')\n",
    "\n",
    "# Plot highest 10 years\n",
    "ax2.barh(highest_df['year'], highest_df['mean'], color='salmon')\n",
    "ax2.set_xlabel('Mean Methane Levels')\n",
    "ax2.set_ylabel('Year')\n",
    "ax2.set_title('Top 10 Years with Highest Mean Methane Levels')\n",
    "\n",
    "# Adjust layout\n",
    "plt.tight_layout()\n",
    "\n",
    "# Save the plot as a PNG file\n",
    "# plt.savefig('methane_levels_side_by_side.png')\n",
    "\n",
    "# Show plot\n",
    "plt.show()"
   ]
  },
  {
   "cell_type": "code",
   "execution_count": 78,
   "id": "89eba18f",
   "metadata": {},
   "outputs": [
    {
     "data": {
      "application/vnd.plotly.v1+json": {
       "config": {
        "plotlyServerURL": "https://plot.ly"
       },
       "data": [
        {
         "marker": {
          "color": "skyblue"
         },
         "name": "Lowest 10 Years",
         "orientation": "h",
         "type": "bar",
         "x": [
          1644.68,
          1657.29,
          1670.08,
          1682.7,
          1693.11,
          1704.54,
          1714.42,
          1724.84,
          1735.47,
          1736.49
         ],
         "y": [
          1984,
          1985,
          1986,
          1987,
          1988,
          1989,
          1990,
          1991,
          1992,
          1993
         ]
        }
       ],
       "layout": {
        "height": 600,
        "template": {
         "data": {
          "bar": [
           {
            "error_x": {
             "color": "#2a3f5f"
            },
            "error_y": {
             "color": "#2a3f5f"
            },
            "marker": {
             "line": {
              "color": "#E5ECF6",
              "width": 0.5
             },
             "pattern": {
              "fillmode": "overlay",
              "size": 10,
              "solidity": 0.2
             }
            },
            "type": "bar"
           }
          ],
          "barpolar": [
           {
            "marker": {
             "line": {
              "color": "#E5ECF6",
              "width": 0.5
             },
             "pattern": {
              "fillmode": "overlay",
              "size": 10,
              "solidity": 0.2
             }
            },
            "type": "barpolar"
           }
          ],
          "carpet": [
           {
            "aaxis": {
             "endlinecolor": "#2a3f5f",
             "gridcolor": "white",
             "linecolor": "white",
             "minorgridcolor": "white",
             "startlinecolor": "#2a3f5f"
            },
            "baxis": {
             "endlinecolor": "#2a3f5f",
             "gridcolor": "white",
             "linecolor": "white",
             "minorgridcolor": "white",
             "startlinecolor": "#2a3f5f"
            },
            "type": "carpet"
           }
          ],
          "choropleth": [
           {
            "colorbar": {
             "outlinewidth": 0,
             "ticks": ""
            },
            "type": "choropleth"
           }
          ],
          "contour": [
           {
            "colorbar": {
             "outlinewidth": 0,
             "ticks": ""
            },
            "colorscale": [
             [
              0,
              "#0d0887"
             ],
             [
              0.1111111111111111,
              "#46039f"
             ],
             [
              0.2222222222222222,
              "#7201a8"
             ],
             [
              0.3333333333333333,
              "#9c179e"
             ],
             [
              0.4444444444444444,
              "#bd3786"
             ],
             [
              0.5555555555555556,
              "#d8576b"
             ],
             [
              0.6666666666666666,
              "#ed7953"
             ],
             [
              0.7777777777777778,
              "#fb9f3a"
             ],
             [
              0.8888888888888888,
              "#fdca26"
             ],
             [
              1,
              "#f0f921"
             ]
            ],
            "type": "contour"
           }
          ],
          "contourcarpet": [
           {
            "colorbar": {
             "outlinewidth": 0,
             "ticks": ""
            },
            "type": "contourcarpet"
           }
          ],
          "heatmap": [
           {
            "colorbar": {
             "outlinewidth": 0,
             "ticks": ""
            },
            "colorscale": [
             [
              0,
              "#0d0887"
             ],
             [
              0.1111111111111111,
              "#46039f"
             ],
             [
              0.2222222222222222,
              "#7201a8"
             ],
             [
              0.3333333333333333,
              "#9c179e"
             ],
             [
              0.4444444444444444,
              "#bd3786"
             ],
             [
              0.5555555555555556,
              "#d8576b"
             ],
             [
              0.6666666666666666,
              "#ed7953"
             ],
             [
              0.7777777777777778,
              "#fb9f3a"
             ],
             [
              0.8888888888888888,
              "#fdca26"
             ],
             [
              1,
              "#f0f921"
             ]
            ],
            "type": "heatmap"
           }
          ],
          "heatmapgl": [
           {
            "colorbar": {
             "outlinewidth": 0,
             "ticks": ""
            },
            "colorscale": [
             [
              0,
              "#0d0887"
             ],
             [
              0.1111111111111111,
              "#46039f"
             ],
             [
              0.2222222222222222,
              "#7201a8"
             ],
             [
              0.3333333333333333,
              "#9c179e"
             ],
             [
              0.4444444444444444,
              "#bd3786"
             ],
             [
              0.5555555555555556,
              "#d8576b"
             ],
             [
              0.6666666666666666,
              "#ed7953"
             ],
             [
              0.7777777777777778,
              "#fb9f3a"
             ],
             [
              0.8888888888888888,
              "#fdca26"
             ],
             [
              1,
              "#f0f921"
             ]
            ],
            "type": "heatmapgl"
           }
          ],
          "histogram": [
           {
            "marker": {
             "pattern": {
              "fillmode": "overlay",
              "size": 10,
              "solidity": 0.2
             }
            },
            "type": "histogram"
           }
          ],
          "histogram2d": [
           {
            "colorbar": {
             "outlinewidth": 0,
             "ticks": ""
            },
            "colorscale": [
             [
              0,
              "#0d0887"
             ],
             [
              0.1111111111111111,
              "#46039f"
             ],
             [
              0.2222222222222222,
              "#7201a8"
             ],
             [
              0.3333333333333333,
              "#9c179e"
             ],
             [
              0.4444444444444444,
              "#bd3786"
             ],
             [
              0.5555555555555556,
              "#d8576b"
             ],
             [
              0.6666666666666666,
              "#ed7953"
             ],
             [
              0.7777777777777778,
              "#fb9f3a"
             ],
             [
              0.8888888888888888,
              "#fdca26"
             ],
             [
              1,
              "#f0f921"
             ]
            ],
            "type": "histogram2d"
           }
          ],
          "histogram2dcontour": [
           {
            "colorbar": {
             "outlinewidth": 0,
             "ticks": ""
            },
            "colorscale": [
             [
              0,
              "#0d0887"
             ],
             [
              0.1111111111111111,
              "#46039f"
             ],
             [
              0.2222222222222222,
              "#7201a8"
             ],
             [
              0.3333333333333333,
              "#9c179e"
             ],
             [
              0.4444444444444444,
              "#bd3786"
             ],
             [
              0.5555555555555556,
              "#d8576b"
             ],
             [
              0.6666666666666666,
              "#ed7953"
             ],
             [
              0.7777777777777778,
              "#fb9f3a"
             ],
             [
              0.8888888888888888,
              "#fdca26"
             ],
             [
              1,
              "#f0f921"
             ]
            ],
            "type": "histogram2dcontour"
           }
          ],
          "mesh3d": [
           {
            "colorbar": {
             "outlinewidth": 0,
             "ticks": ""
            },
            "type": "mesh3d"
           }
          ],
          "parcoords": [
           {
            "line": {
             "colorbar": {
              "outlinewidth": 0,
              "ticks": ""
             }
            },
            "type": "parcoords"
           }
          ],
          "pie": [
           {
            "automargin": true,
            "type": "pie"
           }
          ],
          "scatter": [
           {
            "fillpattern": {
             "fillmode": "overlay",
             "size": 10,
             "solidity": 0.2
            },
            "type": "scatter"
           }
          ],
          "scatter3d": [
           {
            "line": {
             "colorbar": {
              "outlinewidth": 0,
              "ticks": ""
             }
            },
            "marker": {
             "colorbar": {
              "outlinewidth": 0,
              "ticks": ""
             }
            },
            "type": "scatter3d"
           }
          ],
          "scattercarpet": [
           {
            "marker": {
             "colorbar": {
              "outlinewidth": 0,
              "ticks": ""
             }
            },
            "type": "scattercarpet"
           }
          ],
          "scattergeo": [
           {
            "marker": {
             "colorbar": {
              "outlinewidth": 0,
              "ticks": ""
             }
            },
            "type": "scattergeo"
           }
          ],
          "scattergl": [
           {
            "marker": {
             "colorbar": {
              "outlinewidth": 0,
              "ticks": ""
             }
            },
            "type": "scattergl"
           }
          ],
          "scattermapbox": [
           {
            "marker": {
             "colorbar": {
              "outlinewidth": 0,
              "ticks": ""
             }
            },
            "type": "scattermapbox"
           }
          ],
          "scatterpolar": [
           {
            "marker": {
             "colorbar": {
              "outlinewidth": 0,
              "ticks": ""
             }
            },
            "type": "scatterpolar"
           }
          ],
          "scatterpolargl": [
           {
            "marker": {
             "colorbar": {
              "outlinewidth": 0,
              "ticks": ""
             }
            },
            "type": "scatterpolargl"
           }
          ],
          "scatterternary": [
           {
            "marker": {
             "colorbar": {
              "outlinewidth": 0,
              "ticks": ""
             }
            },
            "type": "scatterternary"
           }
          ],
          "surface": [
           {
            "colorbar": {
             "outlinewidth": 0,
             "ticks": ""
            },
            "colorscale": [
             [
              0,
              "#0d0887"
             ],
             [
              0.1111111111111111,
              "#46039f"
             ],
             [
              0.2222222222222222,
              "#7201a8"
             ],
             [
              0.3333333333333333,
              "#9c179e"
             ],
             [
              0.4444444444444444,
              "#bd3786"
             ],
             [
              0.5555555555555556,
              "#d8576b"
             ],
             [
              0.6666666666666666,
              "#ed7953"
             ],
             [
              0.7777777777777778,
              "#fb9f3a"
             ],
             [
              0.8888888888888888,
              "#fdca26"
             ],
             [
              1,
              "#f0f921"
             ]
            ],
            "type": "surface"
           }
          ],
          "table": [
           {
            "cells": {
             "fill": {
              "color": "#EBF0F8"
             },
             "line": {
              "color": "white"
             }
            },
            "header": {
             "fill": {
              "color": "#C8D4E3"
             },
             "line": {
              "color": "white"
             }
            },
            "type": "table"
           }
          ]
         },
         "layout": {
          "annotationdefaults": {
           "arrowcolor": "#2a3f5f",
           "arrowhead": 0,
           "arrowwidth": 1
          },
          "autotypenumbers": "strict",
          "coloraxis": {
           "colorbar": {
            "outlinewidth": 0,
            "ticks": ""
           }
          },
          "colorscale": {
           "diverging": [
            [
             0,
             "#8e0152"
            ],
            [
             0.1,
             "#c51b7d"
            ],
            [
             0.2,
             "#de77ae"
            ],
            [
             0.3,
             "#f1b6da"
            ],
            [
             0.4,
             "#fde0ef"
            ],
            [
             0.5,
             "#f7f7f7"
            ],
            [
             0.6,
             "#e6f5d0"
            ],
            [
             0.7,
             "#b8e186"
            ],
            [
             0.8,
             "#7fbc41"
            ],
            [
             0.9,
             "#4d9221"
            ],
            [
             1,
             "#276419"
            ]
           ],
           "sequential": [
            [
             0,
             "#0d0887"
            ],
            [
             0.1111111111111111,
             "#46039f"
            ],
            [
             0.2222222222222222,
             "#7201a8"
            ],
            [
             0.3333333333333333,
             "#9c179e"
            ],
            [
             0.4444444444444444,
             "#bd3786"
            ],
            [
             0.5555555555555556,
             "#d8576b"
            ],
            [
             0.6666666666666666,
             "#ed7953"
            ],
            [
             0.7777777777777778,
             "#fb9f3a"
            ],
            [
             0.8888888888888888,
             "#fdca26"
            ],
            [
             1,
             "#f0f921"
            ]
           ],
           "sequentialminus": [
            [
             0,
             "#0d0887"
            ],
            [
             0.1111111111111111,
             "#46039f"
            ],
            [
             0.2222222222222222,
             "#7201a8"
            ],
            [
             0.3333333333333333,
             "#9c179e"
            ],
            [
             0.4444444444444444,
             "#bd3786"
            ],
            [
             0.5555555555555556,
             "#d8576b"
            ],
            [
             0.6666666666666666,
             "#ed7953"
            ],
            [
             0.7777777777777778,
             "#fb9f3a"
            ],
            [
             0.8888888888888888,
             "#fdca26"
            ],
            [
             1,
             "#f0f921"
            ]
           ]
          },
          "colorway": [
           "#636efa",
           "#EF553B",
           "#00cc96",
           "#ab63fa",
           "#FFA15A",
           "#19d3f3",
           "#FF6692",
           "#B6E880",
           "#FF97FF",
           "#FECB52"
          ],
          "font": {
           "color": "#2a3f5f"
          },
          "geo": {
           "bgcolor": "white",
           "lakecolor": "white",
           "landcolor": "#E5ECF6",
           "showlakes": true,
           "showland": true,
           "subunitcolor": "white"
          },
          "hoverlabel": {
           "align": "left"
          },
          "hovermode": "closest",
          "mapbox": {
           "style": "light"
          },
          "paper_bgcolor": "white",
          "plot_bgcolor": "#E5ECF6",
          "polar": {
           "angularaxis": {
            "gridcolor": "white",
            "linecolor": "white",
            "ticks": ""
           },
           "bgcolor": "#E5ECF6",
           "radialaxis": {
            "gridcolor": "white",
            "linecolor": "white",
            "ticks": ""
           }
          },
          "scene": {
           "xaxis": {
            "backgroundcolor": "#E5ECF6",
            "gridcolor": "white",
            "gridwidth": 2,
            "linecolor": "white",
            "showbackground": true,
            "ticks": "",
            "zerolinecolor": "white"
           },
           "yaxis": {
            "backgroundcolor": "#E5ECF6",
            "gridcolor": "white",
            "gridwidth": 2,
            "linecolor": "white",
            "showbackground": true,
            "ticks": "",
            "zerolinecolor": "white"
           },
           "zaxis": {
            "backgroundcolor": "#E5ECF6",
            "gridcolor": "white",
            "gridwidth": 2,
            "linecolor": "white",
            "showbackground": true,
            "ticks": "",
            "zerolinecolor": "white"
           }
          },
          "shapedefaults": {
           "line": {
            "color": "#2a3f5f"
           }
          },
          "ternary": {
           "aaxis": {
            "gridcolor": "white",
            "linecolor": "white",
            "ticks": ""
           },
           "baxis": {
            "gridcolor": "white",
            "linecolor": "white",
            "ticks": ""
           },
           "bgcolor": "#E5ECF6",
           "caxis": {
            "gridcolor": "white",
            "linecolor": "white",
            "ticks": ""
           }
          },
          "title": {
           "x": 0.05
          },
          "xaxis": {
           "automargin": true,
           "gridcolor": "white",
           "linecolor": "white",
           "ticks": "",
           "title": {
            "standoff": 15
           },
           "zerolinecolor": "white",
           "zerolinewidth": 2
          },
          "yaxis": {
           "automargin": true,
           "gridcolor": "white",
           "linecolor": "white",
           "ticks": "",
           "title": {
            "standoff": 15
           },
           "zerolinecolor": "white",
           "zerolinewidth": 2
          }
         }
        },
        "title": {
         "text": "Top 10 Years with Lowest Mean Methane Levels"
        },
        "width": 1000,
        "xaxis": {
         "title": {
          "text": "Mean Methane Levels"
         }
        },
        "yaxis": {
         "title": {
          "text": "Year"
         }
        }
       }
      },
      "text/html": [
       "<div>                            <div id=\"0fb684d7-77f7-482e-a5d5-205536d51209\" class=\"plotly-graph-div\" style=\"height:600px; width:1000px;\"></div>            <script type=\"text/javascript\">                require([\"plotly\"], function(Plotly) {                    window.PLOTLYENV=window.PLOTLYENV || {};                                    if (document.getElementById(\"0fb684d7-77f7-482e-a5d5-205536d51209\")) {                    Plotly.newPlot(                        \"0fb684d7-77f7-482e-a5d5-205536d51209\",                        [{\"marker\":{\"color\":\"skyblue\"},\"name\":\"Lowest 10 Years\",\"orientation\":\"h\",\"x\":[1644.68,1657.29,1670.08,1682.7,1693.11,1704.54,1714.42,1724.84,1735.47,1736.49],\"y\":[1984,1985,1986,1987,1988,1989,1990,1991,1992,1993],\"type\":\"bar\"}],                        {\"template\":{\"data\":{\"histogram2dcontour\":[{\"type\":\"histogram2dcontour\",\"colorbar\":{\"outlinewidth\":0,\"ticks\":\"\"},\"colorscale\":[[0.0,\"#0d0887\"],[0.1111111111111111,\"#46039f\"],[0.2222222222222222,\"#7201a8\"],[0.3333333333333333,\"#9c179e\"],[0.4444444444444444,\"#bd3786\"],[0.5555555555555556,\"#d8576b\"],[0.6666666666666666,\"#ed7953\"],[0.7777777777777778,\"#fb9f3a\"],[0.8888888888888888,\"#fdca26\"],[1.0,\"#f0f921\"]]}],\"choropleth\":[{\"type\":\"choropleth\",\"colorbar\":{\"outlinewidth\":0,\"ticks\":\"\"}}],\"histogram2d\":[{\"type\":\"histogram2d\",\"colorbar\":{\"outlinewidth\":0,\"ticks\":\"\"},\"colorscale\":[[0.0,\"#0d0887\"],[0.1111111111111111,\"#46039f\"],[0.2222222222222222,\"#7201a8\"],[0.3333333333333333,\"#9c179e\"],[0.4444444444444444,\"#bd3786\"],[0.5555555555555556,\"#d8576b\"],[0.6666666666666666,\"#ed7953\"],[0.7777777777777778,\"#fb9f3a\"],[0.8888888888888888,\"#fdca26\"],[1.0,\"#f0f921\"]]}],\"heatmap\":[{\"type\":\"heatmap\",\"colorbar\":{\"outlinewidth\":0,\"ticks\":\"\"},\"colorscale\":[[0.0,\"#0d0887\"],[0.1111111111111111,\"#46039f\"],[0.2222222222222222,\"#7201a8\"],[0.3333333333333333,\"#9c179e\"],[0.4444444444444444,\"#bd3786\"],[0.5555555555555556,\"#d8576b\"],[0.6666666666666666,\"#ed7953\"],[0.7777777777777778,\"#fb9f3a\"],[0.8888888888888888,\"#fdca26\"],[1.0,\"#f0f921\"]]}],\"heatmapgl\":[{\"type\":\"heatmapgl\",\"colorbar\":{\"outlinewidth\":0,\"ticks\":\"\"},\"colorscale\":[[0.0,\"#0d0887\"],[0.1111111111111111,\"#46039f\"],[0.2222222222222222,\"#7201a8\"],[0.3333333333333333,\"#9c179e\"],[0.4444444444444444,\"#bd3786\"],[0.5555555555555556,\"#d8576b\"],[0.6666666666666666,\"#ed7953\"],[0.7777777777777778,\"#fb9f3a\"],[0.8888888888888888,\"#fdca26\"],[1.0,\"#f0f921\"]]}],\"contourcarpet\":[{\"type\":\"contourcarpet\",\"colorbar\":{\"outlinewidth\":0,\"ticks\":\"\"}}],\"contour\":[{\"type\":\"contour\",\"colorbar\":{\"outlinewidth\":0,\"ticks\":\"\"},\"colorscale\":[[0.0,\"#0d0887\"],[0.1111111111111111,\"#46039f\"],[0.2222222222222222,\"#7201a8\"],[0.3333333333333333,\"#9c179e\"],[0.4444444444444444,\"#bd3786\"],[0.5555555555555556,\"#d8576b\"],[0.6666666666666666,\"#ed7953\"],[0.7777777777777778,\"#fb9f3a\"],[0.8888888888888888,\"#fdca26\"],[1.0,\"#f0f921\"]]}],\"surface\":[{\"type\":\"surface\",\"colorbar\":{\"outlinewidth\":0,\"ticks\":\"\"},\"colorscale\":[[0.0,\"#0d0887\"],[0.1111111111111111,\"#46039f\"],[0.2222222222222222,\"#7201a8\"],[0.3333333333333333,\"#9c179e\"],[0.4444444444444444,\"#bd3786\"],[0.5555555555555556,\"#d8576b\"],[0.6666666666666666,\"#ed7953\"],[0.7777777777777778,\"#fb9f3a\"],[0.8888888888888888,\"#fdca26\"],[1.0,\"#f0f921\"]]}],\"mesh3d\":[{\"type\":\"mesh3d\",\"colorbar\":{\"outlinewidth\":0,\"ticks\":\"\"}}],\"scatter\":[{\"fillpattern\":{\"fillmode\":\"overlay\",\"size\":10,\"solidity\":0.2},\"type\":\"scatter\"}],\"parcoords\":[{\"type\":\"parcoords\",\"line\":{\"colorbar\":{\"outlinewidth\":0,\"ticks\":\"\"}}}],\"scatterpolargl\":[{\"type\":\"scatterpolargl\",\"marker\":{\"colorbar\":{\"outlinewidth\":0,\"ticks\":\"\"}}}],\"bar\":[{\"error_x\":{\"color\":\"#2a3f5f\"},\"error_y\":{\"color\":\"#2a3f5f\"},\"marker\":{\"line\":{\"color\":\"#E5ECF6\",\"width\":0.5},\"pattern\":{\"fillmode\":\"overlay\",\"size\":10,\"solidity\":0.2}},\"type\":\"bar\"}],\"scattergeo\":[{\"type\":\"scattergeo\",\"marker\":{\"colorbar\":{\"outlinewidth\":0,\"ticks\":\"\"}}}],\"scatterpolar\":[{\"type\":\"scatterpolar\",\"marker\":{\"colorbar\":{\"outlinewidth\":0,\"ticks\":\"\"}}}],\"histogram\":[{\"marker\":{\"pattern\":{\"fillmode\":\"overlay\",\"size\":10,\"solidity\":0.2}},\"type\":\"histogram\"}],\"scattergl\":[{\"type\":\"scattergl\",\"marker\":{\"colorbar\":{\"outlinewidth\":0,\"ticks\":\"\"}}}],\"scatter3d\":[{\"type\":\"scatter3d\",\"line\":{\"colorbar\":{\"outlinewidth\":0,\"ticks\":\"\"}},\"marker\":{\"colorbar\":{\"outlinewidth\":0,\"ticks\":\"\"}}}],\"scattermapbox\":[{\"type\":\"scattermapbox\",\"marker\":{\"colorbar\":{\"outlinewidth\":0,\"ticks\":\"\"}}}],\"scatterternary\":[{\"type\":\"scatterternary\",\"marker\":{\"colorbar\":{\"outlinewidth\":0,\"ticks\":\"\"}}}],\"scattercarpet\":[{\"type\":\"scattercarpet\",\"marker\":{\"colorbar\":{\"outlinewidth\":0,\"ticks\":\"\"}}}],\"carpet\":[{\"aaxis\":{\"endlinecolor\":\"#2a3f5f\",\"gridcolor\":\"white\",\"linecolor\":\"white\",\"minorgridcolor\":\"white\",\"startlinecolor\":\"#2a3f5f\"},\"baxis\":{\"endlinecolor\":\"#2a3f5f\",\"gridcolor\":\"white\",\"linecolor\":\"white\",\"minorgridcolor\":\"white\",\"startlinecolor\":\"#2a3f5f\"},\"type\":\"carpet\"}],\"table\":[{\"cells\":{\"fill\":{\"color\":\"#EBF0F8\"},\"line\":{\"color\":\"white\"}},\"header\":{\"fill\":{\"color\":\"#C8D4E3\"},\"line\":{\"color\":\"white\"}},\"type\":\"table\"}],\"barpolar\":[{\"marker\":{\"line\":{\"color\":\"#E5ECF6\",\"width\":0.5},\"pattern\":{\"fillmode\":\"overlay\",\"size\":10,\"solidity\":0.2}},\"type\":\"barpolar\"}],\"pie\":[{\"automargin\":true,\"type\":\"pie\"}]},\"layout\":{\"autotypenumbers\":\"strict\",\"colorway\":[\"#636efa\",\"#EF553B\",\"#00cc96\",\"#ab63fa\",\"#FFA15A\",\"#19d3f3\",\"#FF6692\",\"#B6E880\",\"#FF97FF\",\"#FECB52\"],\"font\":{\"color\":\"#2a3f5f\"},\"hovermode\":\"closest\",\"hoverlabel\":{\"align\":\"left\"},\"paper_bgcolor\":\"white\",\"plot_bgcolor\":\"#E5ECF6\",\"polar\":{\"bgcolor\":\"#E5ECF6\",\"angularaxis\":{\"gridcolor\":\"white\",\"linecolor\":\"white\",\"ticks\":\"\"},\"radialaxis\":{\"gridcolor\":\"white\",\"linecolor\":\"white\",\"ticks\":\"\"}},\"ternary\":{\"bgcolor\":\"#E5ECF6\",\"aaxis\":{\"gridcolor\":\"white\",\"linecolor\":\"white\",\"ticks\":\"\"},\"baxis\":{\"gridcolor\":\"white\",\"linecolor\":\"white\",\"ticks\":\"\"},\"caxis\":{\"gridcolor\":\"white\",\"linecolor\":\"white\",\"ticks\":\"\"}},\"coloraxis\":{\"colorbar\":{\"outlinewidth\":0,\"ticks\":\"\"}},\"colorscale\":{\"sequential\":[[0.0,\"#0d0887\"],[0.1111111111111111,\"#46039f\"],[0.2222222222222222,\"#7201a8\"],[0.3333333333333333,\"#9c179e\"],[0.4444444444444444,\"#bd3786\"],[0.5555555555555556,\"#d8576b\"],[0.6666666666666666,\"#ed7953\"],[0.7777777777777778,\"#fb9f3a\"],[0.8888888888888888,\"#fdca26\"],[1.0,\"#f0f921\"]],\"sequentialminus\":[[0.0,\"#0d0887\"],[0.1111111111111111,\"#46039f\"],[0.2222222222222222,\"#7201a8\"],[0.3333333333333333,\"#9c179e\"],[0.4444444444444444,\"#bd3786\"],[0.5555555555555556,\"#d8576b\"],[0.6666666666666666,\"#ed7953\"],[0.7777777777777778,\"#fb9f3a\"],[0.8888888888888888,\"#fdca26\"],[1.0,\"#f0f921\"]],\"diverging\":[[0,\"#8e0152\"],[0.1,\"#c51b7d\"],[0.2,\"#de77ae\"],[0.3,\"#f1b6da\"],[0.4,\"#fde0ef\"],[0.5,\"#f7f7f7\"],[0.6,\"#e6f5d0\"],[0.7,\"#b8e186\"],[0.8,\"#7fbc41\"],[0.9,\"#4d9221\"],[1,\"#276419\"]]},\"xaxis\":{\"gridcolor\":\"white\",\"linecolor\":\"white\",\"ticks\":\"\",\"title\":{\"standoff\":15},\"zerolinecolor\":\"white\",\"automargin\":true,\"zerolinewidth\":2},\"yaxis\":{\"gridcolor\":\"white\",\"linecolor\":\"white\",\"ticks\":\"\",\"title\":{\"standoff\":15},\"zerolinecolor\":\"white\",\"automargin\":true,\"zerolinewidth\":2},\"scene\":{\"xaxis\":{\"backgroundcolor\":\"#E5ECF6\",\"gridcolor\":\"white\",\"linecolor\":\"white\",\"showbackground\":true,\"ticks\":\"\",\"zerolinecolor\":\"white\",\"gridwidth\":2},\"yaxis\":{\"backgroundcolor\":\"#E5ECF6\",\"gridcolor\":\"white\",\"linecolor\":\"white\",\"showbackground\":true,\"ticks\":\"\",\"zerolinecolor\":\"white\",\"gridwidth\":2},\"zaxis\":{\"backgroundcolor\":\"#E5ECF6\",\"gridcolor\":\"white\",\"linecolor\":\"white\",\"showbackground\":true,\"ticks\":\"\",\"zerolinecolor\":\"white\",\"gridwidth\":2}},\"shapedefaults\":{\"line\":{\"color\":\"#2a3f5f\"}},\"annotationdefaults\":{\"arrowcolor\":\"#2a3f5f\",\"arrowhead\":0,\"arrowwidth\":1},\"geo\":{\"bgcolor\":\"white\",\"landcolor\":\"#E5ECF6\",\"subunitcolor\":\"white\",\"showland\":true,\"showlakes\":true,\"lakecolor\":\"white\"},\"title\":{\"x\":0.05},\"mapbox\":{\"style\":\"light\"}}},\"title\":{\"text\":\"Top 10 Years with Lowest Mean Methane Levels\"},\"xaxis\":{\"title\":{\"text\":\"Mean Methane Levels\"}},\"yaxis\":{\"title\":{\"text\":\"Year\"}},\"height\":600,\"width\":1000},                        {\"responsive\": true}                    ).then(function(){\n",
       "                            \n",
       "var gd = document.getElementById('0fb684d7-77f7-482e-a5d5-205536d51209');\n",
       "var x = new MutationObserver(function (mutations, observer) {{\n",
       "        var display = window.getComputedStyle(gd).display;\n",
       "        if (!display || display === 'none') {{\n",
       "            console.log([gd, 'removed!']);\n",
       "            Plotly.purge(gd);\n",
       "            observer.disconnect();\n",
       "        }}\n",
       "}});\n",
       "\n",
       "// Listen for the removal of the full notebook cells\n",
       "var notebookContainer = gd.closest('#notebook-container');\n",
       "if (notebookContainer) {{\n",
       "    x.observe(notebookContainer, {childList: true});\n",
       "}}\n",
       "\n",
       "// Listen for the clearing of the current output cell\n",
       "var outputEl = gd.closest('.output');\n",
       "if (outputEl) {{\n",
       "    x.observe(outputEl, {childList: true});\n",
       "}}\n",
       "\n",
       "                        })                };                });            </script>        </div>"
      ]
     },
     "metadata": {},
     "output_type": "display_data"
    }
   ],
   "source": [
    "# Sort the methane_levels DataFrame by mean methane levels in ascending order to get the lowest 10 years using plotly\n",
    "lowest_10_years = methane_levels_df.sort_values(by='mean').head(10)\n",
    "\n",
    "# Create the figure\n",
    "fig_lowest = go.Figure()\n",
    "\n",
    "# Add bar trace for lowest 10 years\n",
    "fig_lowest.add_trace(go.Bar(\n",
    "    y=lowest_10_years['year'],\n",
    "    x=lowest_10_years['mean'],\n",
    "    orientation='h',\n",
    "    name='Lowest 10 Years',\n",
    "    marker=dict(color='skyblue')\n",
    "))\n",
    "\n",
    "# Update layout\n",
    "fig_lowest.update_layout(\n",
    "    title='Top 10 Years with Lowest Mean Methane Levels',\n",
    "    xaxis_title='Mean Methane Levels',\n",
    "    yaxis_title='Year',\n",
    "    height=600,\n",
    "    width=1000\n",
    ")\n",
    "\n",
    "# Save the plot as an image file\n",
    "# fig_lowest.write_image(\"top_10_lowest_methane_levels.png\")\n",
    "\n"
   ]
  },
  {
   "cell_type": "code",
   "execution_count": 79,
   "id": "5592aa62",
   "metadata": {},
   "outputs": [
    {
     "data": {
      "application/vnd.plotly.v1+json": {
       "config": {
        "plotlyServerURL": "https://plot.ly"
       },
       "data": [
        {
         "marker": {
          "color": "salmon"
         },
         "name": "Highest 10 Years",
         "orientation": "h",
         "type": "bar",
         "x": [
          1922.56,
          1911.81,
          1895.28,
          1878.93,
          1866.58,
          1857.33,
          1849.67,
          1843.12,
          1834.27,
          1822.57
         ],
         "y": [
          2023,
          2022,
          2021,
          2020,
          2019,
          2018,
          2017,
          2016,
          2015,
          2014
         ]
        }
       ],
       "layout": {
        "height": 600,
        "template": {
         "data": {
          "bar": [
           {
            "error_x": {
             "color": "#2a3f5f"
            },
            "error_y": {
             "color": "#2a3f5f"
            },
            "marker": {
             "line": {
              "color": "#E5ECF6",
              "width": 0.5
             },
             "pattern": {
              "fillmode": "overlay",
              "size": 10,
              "solidity": 0.2
             }
            },
            "type": "bar"
           }
          ],
          "barpolar": [
           {
            "marker": {
             "line": {
              "color": "#E5ECF6",
              "width": 0.5
             },
             "pattern": {
              "fillmode": "overlay",
              "size": 10,
              "solidity": 0.2
             }
            },
            "type": "barpolar"
           }
          ],
          "carpet": [
           {
            "aaxis": {
             "endlinecolor": "#2a3f5f",
             "gridcolor": "white",
             "linecolor": "white",
             "minorgridcolor": "white",
             "startlinecolor": "#2a3f5f"
            },
            "baxis": {
             "endlinecolor": "#2a3f5f",
             "gridcolor": "white",
             "linecolor": "white",
             "minorgridcolor": "white",
             "startlinecolor": "#2a3f5f"
            },
            "type": "carpet"
           }
          ],
          "choropleth": [
           {
            "colorbar": {
             "outlinewidth": 0,
             "ticks": ""
            },
            "type": "choropleth"
           }
          ],
          "contour": [
           {
            "colorbar": {
             "outlinewidth": 0,
             "ticks": ""
            },
            "colorscale": [
             [
              0,
              "#0d0887"
             ],
             [
              0.1111111111111111,
              "#46039f"
             ],
             [
              0.2222222222222222,
              "#7201a8"
             ],
             [
              0.3333333333333333,
              "#9c179e"
             ],
             [
              0.4444444444444444,
              "#bd3786"
             ],
             [
              0.5555555555555556,
              "#d8576b"
             ],
             [
              0.6666666666666666,
              "#ed7953"
             ],
             [
              0.7777777777777778,
              "#fb9f3a"
             ],
             [
              0.8888888888888888,
              "#fdca26"
             ],
             [
              1,
              "#f0f921"
             ]
            ],
            "type": "contour"
           }
          ],
          "contourcarpet": [
           {
            "colorbar": {
             "outlinewidth": 0,
             "ticks": ""
            },
            "type": "contourcarpet"
           }
          ],
          "heatmap": [
           {
            "colorbar": {
             "outlinewidth": 0,
             "ticks": ""
            },
            "colorscale": [
             [
              0,
              "#0d0887"
             ],
             [
              0.1111111111111111,
              "#46039f"
             ],
             [
              0.2222222222222222,
              "#7201a8"
             ],
             [
              0.3333333333333333,
              "#9c179e"
             ],
             [
              0.4444444444444444,
              "#bd3786"
             ],
             [
              0.5555555555555556,
              "#d8576b"
             ],
             [
              0.6666666666666666,
              "#ed7953"
             ],
             [
              0.7777777777777778,
              "#fb9f3a"
             ],
             [
              0.8888888888888888,
              "#fdca26"
             ],
             [
              1,
              "#f0f921"
             ]
            ],
            "type": "heatmap"
           }
          ],
          "heatmapgl": [
           {
            "colorbar": {
             "outlinewidth": 0,
             "ticks": ""
            },
            "colorscale": [
             [
              0,
              "#0d0887"
             ],
             [
              0.1111111111111111,
              "#46039f"
             ],
             [
              0.2222222222222222,
              "#7201a8"
             ],
             [
              0.3333333333333333,
              "#9c179e"
             ],
             [
              0.4444444444444444,
              "#bd3786"
             ],
             [
              0.5555555555555556,
              "#d8576b"
             ],
             [
              0.6666666666666666,
              "#ed7953"
             ],
             [
              0.7777777777777778,
              "#fb9f3a"
             ],
             [
              0.8888888888888888,
              "#fdca26"
             ],
             [
              1,
              "#f0f921"
             ]
            ],
            "type": "heatmapgl"
           }
          ],
          "histogram": [
           {
            "marker": {
             "pattern": {
              "fillmode": "overlay",
              "size": 10,
              "solidity": 0.2
             }
            },
            "type": "histogram"
           }
          ],
          "histogram2d": [
           {
            "colorbar": {
             "outlinewidth": 0,
             "ticks": ""
            },
            "colorscale": [
             [
              0,
              "#0d0887"
             ],
             [
              0.1111111111111111,
              "#46039f"
             ],
             [
              0.2222222222222222,
              "#7201a8"
             ],
             [
              0.3333333333333333,
              "#9c179e"
             ],
             [
              0.4444444444444444,
              "#bd3786"
             ],
             [
              0.5555555555555556,
              "#d8576b"
             ],
             [
              0.6666666666666666,
              "#ed7953"
             ],
             [
              0.7777777777777778,
              "#fb9f3a"
             ],
             [
              0.8888888888888888,
              "#fdca26"
             ],
             [
              1,
              "#f0f921"
             ]
            ],
            "type": "histogram2d"
           }
          ],
          "histogram2dcontour": [
           {
            "colorbar": {
             "outlinewidth": 0,
             "ticks": ""
            },
            "colorscale": [
             [
              0,
              "#0d0887"
             ],
             [
              0.1111111111111111,
              "#46039f"
             ],
             [
              0.2222222222222222,
              "#7201a8"
             ],
             [
              0.3333333333333333,
              "#9c179e"
             ],
             [
              0.4444444444444444,
              "#bd3786"
             ],
             [
              0.5555555555555556,
              "#d8576b"
             ],
             [
              0.6666666666666666,
              "#ed7953"
             ],
             [
              0.7777777777777778,
              "#fb9f3a"
             ],
             [
              0.8888888888888888,
              "#fdca26"
             ],
             [
              1,
              "#f0f921"
             ]
            ],
            "type": "histogram2dcontour"
           }
          ],
          "mesh3d": [
           {
            "colorbar": {
             "outlinewidth": 0,
             "ticks": ""
            },
            "type": "mesh3d"
           }
          ],
          "parcoords": [
           {
            "line": {
             "colorbar": {
              "outlinewidth": 0,
              "ticks": ""
             }
            },
            "type": "parcoords"
           }
          ],
          "pie": [
           {
            "automargin": true,
            "type": "pie"
           }
          ],
          "scatter": [
           {
            "fillpattern": {
             "fillmode": "overlay",
             "size": 10,
             "solidity": 0.2
            },
            "type": "scatter"
           }
          ],
          "scatter3d": [
           {
            "line": {
             "colorbar": {
              "outlinewidth": 0,
              "ticks": ""
             }
            },
            "marker": {
             "colorbar": {
              "outlinewidth": 0,
              "ticks": ""
             }
            },
            "type": "scatter3d"
           }
          ],
          "scattercarpet": [
           {
            "marker": {
             "colorbar": {
              "outlinewidth": 0,
              "ticks": ""
             }
            },
            "type": "scattercarpet"
           }
          ],
          "scattergeo": [
           {
            "marker": {
             "colorbar": {
              "outlinewidth": 0,
              "ticks": ""
             }
            },
            "type": "scattergeo"
           }
          ],
          "scattergl": [
           {
            "marker": {
             "colorbar": {
              "outlinewidth": 0,
              "ticks": ""
             }
            },
            "type": "scattergl"
           }
          ],
          "scattermapbox": [
           {
            "marker": {
             "colorbar": {
              "outlinewidth": 0,
              "ticks": ""
             }
            },
            "type": "scattermapbox"
           }
          ],
          "scatterpolar": [
           {
            "marker": {
             "colorbar": {
              "outlinewidth": 0,
              "ticks": ""
             }
            },
            "type": "scatterpolar"
           }
          ],
          "scatterpolargl": [
           {
            "marker": {
             "colorbar": {
              "outlinewidth": 0,
              "ticks": ""
             }
            },
            "type": "scatterpolargl"
           }
          ],
          "scatterternary": [
           {
            "marker": {
             "colorbar": {
              "outlinewidth": 0,
              "ticks": ""
             }
            },
            "type": "scatterternary"
           }
          ],
          "surface": [
           {
            "colorbar": {
             "outlinewidth": 0,
             "ticks": ""
            },
            "colorscale": [
             [
              0,
              "#0d0887"
             ],
             [
              0.1111111111111111,
              "#46039f"
             ],
             [
              0.2222222222222222,
              "#7201a8"
             ],
             [
              0.3333333333333333,
              "#9c179e"
             ],
             [
              0.4444444444444444,
              "#bd3786"
             ],
             [
              0.5555555555555556,
              "#d8576b"
             ],
             [
              0.6666666666666666,
              "#ed7953"
             ],
             [
              0.7777777777777778,
              "#fb9f3a"
             ],
             [
              0.8888888888888888,
              "#fdca26"
             ],
             [
              1,
              "#f0f921"
             ]
            ],
            "type": "surface"
           }
          ],
          "table": [
           {
            "cells": {
             "fill": {
              "color": "#EBF0F8"
             },
             "line": {
              "color": "white"
             }
            },
            "header": {
             "fill": {
              "color": "#C8D4E3"
             },
             "line": {
              "color": "white"
             }
            },
            "type": "table"
           }
          ]
         },
         "layout": {
          "annotationdefaults": {
           "arrowcolor": "#2a3f5f",
           "arrowhead": 0,
           "arrowwidth": 1
          },
          "autotypenumbers": "strict",
          "coloraxis": {
           "colorbar": {
            "outlinewidth": 0,
            "ticks": ""
           }
          },
          "colorscale": {
           "diverging": [
            [
             0,
             "#8e0152"
            ],
            [
             0.1,
             "#c51b7d"
            ],
            [
             0.2,
             "#de77ae"
            ],
            [
             0.3,
             "#f1b6da"
            ],
            [
             0.4,
             "#fde0ef"
            ],
            [
             0.5,
             "#f7f7f7"
            ],
            [
             0.6,
             "#e6f5d0"
            ],
            [
             0.7,
             "#b8e186"
            ],
            [
             0.8,
             "#7fbc41"
            ],
            [
             0.9,
             "#4d9221"
            ],
            [
             1,
             "#276419"
            ]
           ],
           "sequential": [
            [
             0,
             "#0d0887"
            ],
            [
             0.1111111111111111,
             "#46039f"
            ],
            [
             0.2222222222222222,
             "#7201a8"
            ],
            [
             0.3333333333333333,
             "#9c179e"
            ],
            [
             0.4444444444444444,
             "#bd3786"
            ],
            [
             0.5555555555555556,
             "#d8576b"
            ],
            [
             0.6666666666666666,
             "#ed7953"
            ],
            [
             0.7777777777777778,
             "#fb9f3a"
            ],
            [
             0.8888888888888888,
             "#fdca26"
            ],
            [
             1,
             "#f0f921"
            ]
           ],
           "sequentialminus": [
            [
             0,
             "#0d0887"
            ],
            [
             0.1111111111111111,
             "#46039f"
            ],
            [
             0.2222222222222222,
             "#7201a8"
            ],
            [
             0.3333333333333333,
             "#9c179e"
            ],
            [
             0.4444444444444444,
             "#bd3786"
            ],
            [
             0.5555555555555556,
             "#d8576b"
            ],
            [
             0.6666666666666666,
             "#ed7953"
            ],
            [
             0.7777777777777778,
             "#fb9f3a"
            ],
            [
             0.8888888888888888,
             "#fdca26"
            ],
            [
             1,
             "#f0f921"
            ]
           ]
          },
          "colorway": [
           "#636efa",
           "#EF553B",
           "#00cc96",
           "#ab63fa",
           "#FFA15A",
           "#19d3f3",
           "#FF6692",
           "#B6E880",
           "#FF97FF",
           "#FECB52"
          ],
          "font": {
           "color": "#2a3f5f"
          },
          "geo": {
           "bgcolor": "white",
           "lakecolor": "white",
           "landcolor": "#E5ECF6",
           "showlakes": true,
           "showland": true,
           "subunitcolor": "white"
          },
          "hoverlabel": {
           "align": "left"
          },
          "hovermode": "closest",
          "mapbox": {
           "style": "light"
          },
          "paper_bgcolor": "white",
          "plot_bgcolor": "#E5ECF6",
          "polar": {
           "angularaxis": {
            "gridcolor": "white",
            "linecolor": "white",
            "ticks": ""
           },
           "bgcolor": "#E5ECF6",
           "radialaxis": {
            "gridcolor": "white",
            "linecolor": "white",
            "ticks": ""
           }
          },
          "scene": {
           "xaxis": {
            "backgroundcolor": "#E5ECF6",
            "gridcolor": "white",
            "gridwidth": 2,
            "linecolor": "white",
            "showbackground": true,
            "ticks": "",
            "zerolinecolor": "white"
           },
           "yaxis": {
            "backgroundcolor": "#E5ECF6",
            "gridcolor": "white",
            "gridwidth": 2,
            "linecolor": "white",
            "showbackground": true,
            "ticks": "",
            "zerolinecolor": "white"
           },
           "zaxis": {
            "backgroundcolor": "#E5ECF6",
            "gridcolor": "white",
            "gridwidth": 2,
            "linecolor": "white",
            "showbackground": true,
            "ticks": "",
            "zerolinecolor": "white"
           }
          },
          "shapedefaults": {
           "line": {
            "color": "#2a3f5f"
           }
          },
          "ternary": {
           "aaxis": {
            "gridcolor": "white",
            "linecolor": "white",
            "ticks": ""
           },
           "baxis": {
            "gridcolor": "white",
            "linecolor": "white",
            "ticks": ""
           },
           "bgcolor": "#E5ECF6",
           "caxis": {
            "gridcolor": "white",
            "linecolor": "white",
            "ticks": ""
           }
          },
          "title": {
           "x": 0.05
          },
          "xaxis": {
           "automargin": true,
           "gridcolor": "white",
           "linecolor": "white",
           "ticks": "",
           "title": {
            "standoff": 15
           },
           "zerolinecolor": "white",
           "zerolinewidth": 2
          },
          "yaxis": {
           "automargin": true,
           "gridcolor": "white",
           "linecolor": "white",
           "ticks": "",
           "title": {
            "standoff": 15
           },
           "zerolinecolor": "white",
           "zerolinewidth": 2
          }
         }
        },
        "title": {
         "text": "Top 10 Years with Highest Mean Methane Levels"
        },
        "width": 1000,
        "xaxis": {
         "title": {
          "text": "Mean Methane Levels"
         }
        },
        "yaxis": {
         "title": {
          "text": "Year"
         }
        }
       }
      },
      "text/html": [
       "<div>                            <div id=\"79401a20-e467-4b91-b00b-1a4989d78fe5\" class=\"plotly-graph-div\" style=\"height:600px; width:1000px;\"></div>            <script type=\"text/javascript\">                require([\"plotly\"], function(Plotly) {                    window.PLOTLYENV=window.PLOTLYENV || {};                                    if (document.getElementById(\"79401a20-e467-4b91-b00b-1a4989d78fe5\")) {                    Plotly.newPlot(                        \"79401a20-e467-4b91-b00b-1a4989d78fe5\",                        [{\"marker\":{\"color\":\"salmon\"},\"name\":\"Highest 10 Years\",\"orientation\":\"h\",\"x\":[1922.56,1911.81,1895.28,1878.93,1866.58,1857.33,1849.67,1843.12,1834.27,1822.57],\"y\":[2023,2022,2021,2020,2019,2018,2017,2016,2015,2014],\"type\":\"bar\"}],                        {\"template\":{\"data\":{\"histogram2dcontour\":[{\"type\":\"histogram2dcontour\",\"colorbar\":{\"outlinewidth\":0,\"ticks\":\"\"},\"colorscale\":[[0.0,\"#0d0887\"],[0.1111111111111111,\"#46039f\"],[0.2222222222222222,\"#7201a8\"],[0.3333333333333333,\"#9c179e\"],[0.4444444444444444,\"#bd3786\"],[0.5555555555555556,\"#d8576b\"],[0.6666666666666666,\"#ed7953\"],[0.7777777777777778,\"#fb9f3a\"],[0.8888888888888888,\"#fdca26\"],[1.0,\"#f0f921\"]]}],\"choropleth\":[{\"type\":\"choropleth\",\"colorbar\":{\"outlinewidth\":0,\"ticks\":\"\"}}],\"histogram2d\":[{\"type\":\"histogram2d\",\"colorbar\":{\"outlinewidth\":0,\"ticks\":\"\"},\"colorscale\":[[0.0,\"#0d0887\"],[0.1111111111111111,\"#46039f\"],[0.2222222222222222,\"#7201a8\"],[0.3333333333333333,\"#9c179e\"],[0.4444444444444444,\"#bd3786\"],[0.5555555555555556,\"#d8576b\"],[0.6666666666666666,\"#ed7953\"],[0.7777777777777778,\"#fb9f3a\"],[0.8888888888888888,\"#fdca26\"],[1.0,\"#f0f921\"]]}],\"heatmap\":[{\"type\":\"heatmap\",\"colorbar\":{\"outlinewidth\":0,\"ticks\":\"\"},\"colorscale\":[[0.0,\"#0d0887\"],[0.1111111111111111,\"#46039f\"],[0.2222222222222222,\"#7201a8\"],[0.3333333333333333,\"#9c179e\"],[0.4444444444444444,\"#bd3786\"],[0.5555555555555556,\"#d8576b\"],[0.6666666666666666,\"#ed7953\"],[0.7777777777777778,\"#fb9f3a\"],[0.8888888888888888,\"#fdca26\"],[1.0,\"#f0f921\"]]}],\"heatmapgl\":[{\"type\":\"heatmapgl\",\"colorbar\":{\"outlinewidth\":0,\"ticks\":\"\"},\"colorscale\":[[0.0,\"#0d0887\"],[0.1111111111111111,\"#46039f\"],[0.2222222222222222,\"#7201a8\"],[0.3333333333333333,\"#9c179e\"],[0.4444444444444444,\"#bd3786\"],[0.5555555555555556,\"#d8576b\"],[0.6666666666666666,\"#ed7953\"],[0.7777777777777778,\"#fb9f3a\"],[0.8888888888888888,\"#fdca26\"],[1.0,\"#f0f921\"]]}],\"contourcarpet\":[{\"type\":\"contourcarpet\",\"colorbar\":{\"outlinewidth\":0,\"ticks\":\"\"}}],\"contour\":[{\"type\":\"contour\",\"colorbar\":{\"outlinewidth\":0,\"ticks\":\"\"},\"colorscale\":[[0.0,\"#0d0887\"],[0.1111111111111111,\"#46039f\"],[0.2222222222222222,\"#7201a8\"],[0.3333333333333333,\"#9c179e\"],[0.4444444444444444,\"#bd3786\"],[0.5555555555555556,\"#d8576b\"],[0.6666666666666666,\"#ed7953\"],[0.7777777777777778,\"#fb9f3a\"],[0.8888888888888888,\"#fdca26\"],[1.0,\"#f0f921\"]]}],\"surface\":[{\"type\":\"surface\",\"colorbar\":{\"outlinewidth\":0,\"ticks\":\"\"},\"colorscale\":[[0.0,\"#0d0887\"],[0.1111111111111111,\"#46039f\"],[0.2222222222222222,\"#7201a8\"],[0.3333333333333333,\"#9c179e\"],[0.4444444444444444,\"#bd3786\"],[0.5555555555555556,\"#d8576b\"],[0.6666666666666666,\"#ed7953\"],[0.7777777777777778,\"#fb9f3a\"],[0.8888888888888888,\"#fdca26\"],[1.0,\"#f0f921\"]]}],\"mesh3d\":[{\"type\":\"mesh3d\",\"colorbar\":{\"outlinewidth\":0,\"ticks\":\"\"}}],\"scatter\":[{\"fillpattern\":{\"fillmode\":\"overlay\",\"size\":10,\"solidity\":0.2},\"type\":\"scatter\"}],\"parcoords\":[{\"type\":\"parcoords\",\"line\":{\"colorbar\":{\"outlinewidth\":0,\"ticks\":\"\"}}}],\"scatterpolargl\":[{\"type\":\"scatterpolargl\",\"marker\":{\"colorbar\":{\"outlinewidth\":0,\"ticks\":\"\"}}}],\"bar\":[{\"error_x\":{\"color\":\"#2a3f5f\"},\"error_y\":{\"color\":\"#2a3f5f\"},\"marker\":{\"line\":{\"color\":\"#E5ECF6\",\"width\":0.5},\"pattern\":{\"fillmode\":\"overlay\",\"size\":10,\"solidity\":0.2}},\"type\":\"bar\"}],\"scattergeo\":[{\"type\":\"scattergeo\",\"marker\":{\"colorbar\":{\"outlinewidth\":0,\"ticks\":\"\"}}}],\"scatterpolar\":[{\"type\":\"scatterpolar\",\"marker\":{\"colorbar\":{\"outlinewidth\":0,\"ticks\":\"\"}}}],\"histogram\":[{\"marker\":{\"pattern\":{\"fillmode\":\"overlay\",\"size\":10,\"solidity\":0.2}},\"type\":\"histogram\"}],\"scattergl\":[{\"type\":\"scattergl\",\"marker\":{\"colorbar\":{\"outlinewidth\":0,\"ticks\":\"\"}}}],\"scatter3d\":[{\"type\":\"scatter3d\",\"line\":{\"colorbar\":{\"outlinewidth\":0,\"ticks\":\"\"}},\"marker\":{\"colorbar\":{\"outlinewidth\":0,\"ticks\":\"\"}}}],\"scattermapbox\":[{\"type\":\"scattermapbox\",\"marker\":{\"colorbar\":{\"outlinewidth\":0,\"ticks\":\"\"}}}],\"scatterternary\":[{\"type\":\"scatterternary\",\"marker\":{\"colorbar\":{\"outlinewidth\":0,\"ticks\":\"\"}}}],\"scattercarpet\":[{\"type\":\"scattercarpet\",\"marker\":{\"colorbar\":{\"outlinewidth\":0,\"ticks\":\"\"}}}],\"carpet\":[{\"aaxis\":{\"endlinecolor\":\"#2a3f5f\",\"gridcolor\":\"white\",\"linecolor\":\"white\",\"minorgridcolor\":\"white\",\"startlinecolor\":\"#2a3f5f\"},\"baxis\":{\"endlinecolor\":\"#2a3f5f\",\"gridcolor\":\"white\",\"linecolor\":\"white\",\"minorgridcolor\":\"white\",\"startlinecolor\":\"#2a3f5f\"},\"type\":\"carpet\"}],\"table\":[{\"cells\":{\"fill\":{\"color\":\"#EBF0F8\"},\"line\":{\"color\":\"white\"}},\"header\":{\"fill\":{\"color\":\"#C8D4E3\"},\"line\":{\"color\":\"white\"}},\"type\":\"table\"}],\"barpolar\":[{\"marker\":{\"line\":{\"color\":\"#E5ECF6\",\"width\":0.5},\"pattern\":{\"fillmode\":\"overlay\",\"size\":10,\"solidity\":0.2}},\"type\":\"barpolar\"}],\"pie\":[{\"automargin\":true,\"type\":\"pie\"}]},\"layout\":{\"autotypenumbers\":\"strict\",\"colorway\":[\"#636efa\",\"#EF553B\",\"#00cc96\",\"#ab63fa\",\"#FFA15A\",\"#19d3f3\",\"#FF6692\",\"#B6E880\",\"#FF97FF\",\"#FECB52\"],\"font\":{\"color\":\"#2a3f5f\"},\"hovermode\":\"closest\",\"hoverlabel\":{\"align\":\"left\"},\"paper_bgcolor\":\"white\",\"plot_bgcolor\":\"#E5ECF6\",\"polar\":{\"bgcolor\":\"#E5ECF6\",\"angularaxis\":{\"gridcolor\":\"white\",\"linecolor\":\"white\",\"ticks\":\"\"},\"radialaxis\":{\"gridcolor\":\"white\",\"linecolor\":\"white\",\"ticks\":\"\"}},\"ternary\":{\"bgcolor\":\"#E5ECF6\",\"aaxis\":{\"gridcolor\":\"white\",\"linecolor\":\"white\",\"ticks\":\"\"},\"baxis\":{\"gridcolor\":\"white\",\"linecolor\":\"white\",\"ticks\":\"\"},\"caxis\":{\"gridcolor\":\"white\",\"linecolor\":\"white\",\"ticks\":\"\"}},\"coloraxis\":{\"colorbar\":{\"outlinewidth\":0,\"ticks\":\"\"}},\"colorscale\":{\"sequential\":[[0.0,\"#0d0887\"],[0.1111111111111111,\"#46039f\"],[0.2222222222222222,\"#7201a8\"],[0.3333333333333333,\"#9c179e\"],[0.4444444444444444,\"#bd3786\"],[0.5555555555555556,\"#d8576b\"],[0.6666666666666666,\"#ed7953\"],[0.7777777777777778,\"#fb9f3a\"],[0.8888888888888888,\"#fdca26\"],[1.0,\"#f0f921\"]],\"sequentialminus\":[[0.0,\"#0d0887\"],[0.1111111111111111,\"#46039f\"],[0.2222222222222222,\"#7201a8\"],[0.3333333333333333,\"#9c179e\"],[0.4444444444444444,\"#bd3786\"],[0.5555555555555556,\"#d8576b\"],[0.6666666666666666,\"#ed7953\"],[0.7777777777777778,\"#fb9f3a\"],[0.8888888888888888,\"#fdca26\"],[1.0,\"#f0f921\"]],\"diverging\":[[0,\"#8e0152\"],[0.1,\"#c51b7d\"],[0.2,\"#de77ae\"],[0.3,\"#f1b6da\"],[0.4,\"#fde0ef\"],[0.5,\"#f7f7f7\"],[0.6,\"#e6f5d0\"],[0.7,\"#b8e186\"],[0.8,\"#7fbc41\"],[0.9,\"#4d9221\"],[1,\"#276419\"]]},\"xaxis\":{\"gridcolor\":\"white\",\"linecolor\":\"white\",\"ticks\":\"\",\"title\":{\"standoff\":15},\"zerolinecolor\":\"white\",\"automargin\":true,\"zerolinewidth\":2},\"yaxis\":{\"gridcolor\":\"white\",\"linecolor\":\"white\",\"ticks\":\"\",\"title\":{\"standoff\":15},\"zerolinecolor\":\"white\",\"automargin\":true,\"zerolinewidth\":2},\"scene\":{\"xaxis\":{\"backgroundcolor\":\"#E5ECF6\",\"gridcolor\":\"white\",\"linecolor\":\"white\",\"showbackground\":true,\"ticks\":\"\",\"zerolinecolor\":\"white\",\"gridwidth\":2},\"yaxis\":{\"backgroundcolor\":\"#E5ECF6\",\"gridcolor\":\"white\",\"linecolor\":\"white\",\"showbackground\":true,\"ticks\":\"\",\"zerolinecolor\":\"white\",\"gridwidth\":2},\"zaxis\":{\"backgroundcolor\":\"#E5ECF6\",\"gridcolor\":\"white\",\"linecolor\":\"white\",\"showbackground\":true,\"ticks\":\"\",\"zerolinecolor\":\"white\",\"gridwidth\":2}},\"shapedefaults\":{\"line\":{\"color\":\"#2a3f5f\"}},\"annotationdefaults\":{\"arrowcolor\":\"#2a3f5f\",\"arrowhead\":0,\"arrowwidth\":1},\"geo\":{\"bgcolor\":\"white\",\"landcolor\":\"#E5ECF6\",\"subunitcolor\":\"white\",\"showland\":true,\"showlakes\":true,\"lakecolor\":\"white\"},\"title\":{\"x\":0.05},\"mapbox\":{\"style\":\"light\"}}},\"title\":{\"text\":\"Top 10 Years with Highest Mean Methane Levels\"},\"xaxis\":{\"title\":{\"text\":\"Mean Methane Levels\"}},\"yaxis\":{\"title\":{\"text\":\"Year\"}},\"height\":600,\"width\":1000},                        {\"responsive\": true}                    ).then(function(){\n",
       "                            \n",
       "var gd = document.getElementById('79401a20-e467-4b91-b00b-1a4989d78fe5');\n",
       "var x = new MutationObserver(function (mutations, observer) {{\n",
       "        var display = window.getComputedStyle(gd).display;\n",
       "        if (!display || display === 'none') {{\n",
       "            console.log([gd, 'removed!']);\n",
       "            Plotly.purge(gd);\n",
       "            observer.disconnect();\n",
       "        }}\n",
       "}});\n",
       "\n",
       "// Listen for the removal of the full notebook cells\n",
       "var notebookContainer = gd.closest('#notebook-container');\n",
       "if (notebookContainer) {{\n",
       "    x.observe(notebookContainer, {childList: true});\n",
       "}}\n",
       "\n",
       "// Listen for the clearing of the current output cell\n",
       "var outputEl = gd.closest('.output');\n",
       "if (outputEl) {{\n",
       "    x.observe(outputEl, {childList: true});\n",
       "}}\n",
       "\n",
       "                        })                };                });            </script>        </div>"
      ]
     },
     "metadata": {},
     "output_type": "display_data"
    }
   ],
   "source": [
    "\n",
    "# Sort the methane_levels DataFrame by mean methane levels in descending order to get the highest 10 years using plotly\n",
    "highest_10_years = methane_levels_df.sort_values(by='mean', ascending=False).head(10)\n",
    "\n",
    "# Create the figure\n",
    "fig_highest = go.Figure()\n",
    "\n",
    "# Add bar trace for highest 10 years\n",
    "fig_highest.add_trace(go.Bar(\n",
    "    y=highest_10_years['year'],\n",
    "    x=highest_10_years['mean'],\n",
    "    orientation='h',\n",
    "    name='Highest 10 Years',\n",
    "    marker=dict(color='salmon')\n",
    "))\n",
    "\n",
    "# Update layout\n",
    "fig_highest.update_layout(\n",
    "    title='Top 10 Years with Highest Mean Methane Levels',\n",
    "    xaxis_title='Mean Methane Levels',\n",
    "    yaxis_title='Year',\n",
    "    height=600,\n",
    "    width=1000\n",
    ")\n",
    "\n",
    "# Save the plot as an image file\n",
    "# fig_highest.write_image(\"top_10_highest_methane_levels.png\")\n"
   ]
  },
  {
   "cell_type": "code",
   "execution_count": 80,
   "id": "3145be62",
   "metadata": {},
   "outputs": [
    {
     "data": {
      "text/html": [
       "<div>\n",
       "<style scoped>\n",
       "    .dataframe tbody tr th:only-of-type {\n",
       "        vertical-align: middle;\n",
       "    }\n",
       "\n",
       "    .dataframe tbody tr th {\n",
       "        vertical-align: top;\n",
       "    }\n",
       "\n",
       "    .dataframe thead th {\n",
       "        text-align: right;\n",
       "    }\n",
       "</style>\n",
       "<table border=\"1\" class=\"dataframe\">\n",
       "  <thead>\n",
       "    <tr style=\"text-align: right;\">\n",
       "      <th></th>\n",
       "      <th>State</th>\n",
       "      <th>1990</th>\n",
       "      <th>1991</th>\n",
       "      <th>1992</th>\n",
       "      <th>1993</th>\n",
       "      <th>1994</th>\n",
       "      <th>1995</th>\n",
       "      <th>1996</th>\n",
       "      <th>1997</th>\n",
       "      <th>1998</th>\n",
       "      <th>...</th>\n",
       "      <th>2012</th>\n",
       "      <th>2013</th>\n",
       "      <th>2014</th>\n",
       "      <th>2015</th>\n",
       "      <th>2016</th>\n",
       "      <th>2017</th>\n",
       "      <th>2018</th>\n",
       "      <th>2019</th>\n",
       "      <th>2020</th>\n",
       "      <th>2021</th>\n",
       "    </tr>\n",
       "  </thead>\n",
       "  <tbody>\n",
       "    <tr>\n",
       "      <th>0</th>\n",
       "      <td>Texas</td>\n",
       "      <td>769.428559</td>\n",
       "      <td>765.481765</td>\n",
       "      <td>768.990297</td>\n",
       "      <td>783.811505</td>\n",
       "      <td>794.173268</td>\n",
       "      <td>799.716048</td>\n",
       "      <td>843.692709</td>\n",
       "      <td>849.406999</td>\n",
       "      <td>850.167559</td>\n",
       "      <td>...</td>\n",
       "      <td>824.500900</td>\n",
       "      <td>873.055260</td>\n",
       "      <td>871.676409</td>\n",
       "      <td>867.446510</td>\n",
       "      <td>840.231093</td>\n",
       "      <td>856.336462</td>\n",
       "      <td>888.675695</td>\n",
       "      <td>893.843084</td>\n",
       "      <td>826.288454</td>\n",
       "      <td>873.111539</td>\n",
       "    </tr>\n",
       "    <tr>\n",
       "      <th>1</th>\n",
       "      <td>California</td>\n",
       "      <td>439.398118</td>\n",
       "      <td>426.194349</td>\n",
       "      <td>438.998438</td>\n",
       "      <td>423.329160</td>\n",
       "      <td>438.153103</td>\n",
       "      <td>426.688029</td>\n",
       "      <td>428.107017</td>\n",
       "      <td>431.040902</td>\n",
       "      <td>441.153078</td>\n",
       "      <td>...</td>\n",
       "      <td>417.064830</td>\n",
       "      <td>419.847387</td>\n",
       "      <td>414.560614</td>\n",
       "      <td>419.879307</td>\n",
       "      <td>416.035538</td>\n",
       "      <td>418.208025</td>\n",
       "      <td>418.190503</td>\n",
       "      <td>421.601359</td>\n",
       "      <td>373.767695</td>\n",
       "      <td>393.353676</td>\n",
       "    </tr>\n",
       "    <tr>\n",
       "      <th>2</th>\n",
       "      <td>Florida</td>\n",
       "      <td>215.191470</td>\n",
       "      <td>215.013382</td>\n",
       "      <td>218.273206</td>\n",
       "      <td>225.860117</td>\n",
       "      <td>230.902397</td>\n",
       "      <td>236.294155</td>\n",
       "      <td>243.619286</td>\n",
       "      <td>246.747366</td>\n",
       "      <td>259.082168</td>\n",
       "      <td>...</td>\n",
       "      <td>261.944999</td>\n",
       "      <td>260.570527</td>\n",
       "      <td>266.830699</td>\n",
       "      <td>270.668309</td>\n",
       "      <td>276.985293</td>\n",
       "      <td>277.536753</td>\n",
       "      <td>282.910424</td>\n",
       "      <td>274.710201</td>\n",
       "      <td>253.678081</td>\n",
       "      <td>269.966159</td>\n",
       "    </tr>\n",
       "    <tr>\n",
       "      <th>3</th>\n",
       "      <td>Pennsylvania</td>\n",
       "      <td>303.251839</td>\n",
       "      <td>301.546747</td>\n",
       "      <td>306.073218</td>\n",
       "      <td>311.193376</td>\n",
       "      <td>310.839823</td>\n",
       "      <td>315.060961</td>\n",
       "      <td>324.300896</td>\n",
       "      <td>325.308529</td>\n",
       "      <td>321.618778</td>\n",
       "      <td>...</td>\n",
       "      <td>286.189617</td>\n",
       "      <td>299.850180</td>\n",
       "      <td>297.937608</td>\n",
       "      <td>283.629116</td>\n",
       "      <td>270.766996</td>\n",
       "      <td>275.144722</td>\n",
       "      <td>280.941451</td>\n",
       "      <td>277.227680</td>\n",
       "      <td>251.813293</td>\n",
       "      <td>267.725164</td>\n",
       "    </tr>\n",
       "    <tr>\n",
       "      <th>4</th>\n",
       "      <td>Ohio</td>\n",
       "      <td>301.030972</td>\n",
       "      <td>298.711137</td>\n",
       "      <td>303.877790</td>\n",
       "      <td>308.294479</td>\n",
       "      <td>305.184804</td>\n",
       "      <td>311.363650</td>\n",
       "      <td>321.938450</td>\n",
       "      <td>316.142136</td>\n",
       "      <td>316.229152</td>\n",
       "      <td>...</td>\n",
       "      <td>252.755064</td>\n",
       "      <td>265.350095</td>\n",
       "      <td>264.868608</td>\n",
       "      <td>249.194132</td>\n",
       "      <td>240.674894</td>\n",
       "      <td>242.297796</td>\n",
       "      <td>249.354767</td>\n",
       "      <td>232.372100</td>\n",
       "      <td>222.791865</td>\n",
       "      <td>235.415359</td>\n",
       "    </tr>\n",
       "  </tbody>\n",
       "</table>\n",
       "<p>5 rows × 33 columns</p>\n",
       "</div>"
      ],
      "text/plain": [
       "          State        1990        1991        1992        1993        1994  \\\n",
       "0         Texas  769.428559  765.481765  768.990297  783.811505  794.173268   \n",
       "1    California  439.398118  426.194349  438.998438  423.329160  438.153103   \n",
       "2       Florida  215.191470  215.013382  218.273206  225.860117  230.902397   \n",
       "3  Pennsylvania  303.251839  301.546747  306.073218  311.193376  310.839823   \n",
       "4          Ohio  301.030972  298.711137  303.877790  308.294479  305.184804   \n",
       "\n",
       "         1995        1996        1997        1998  ...        2012  \\\n",
       "0  799.716048  843.692709  849.406999  850.167559  ...  824.500900   \n",
       "1  426.688029  428.107017  431.040902  441.153078  ...  417.064830   \n",
       "2  236.294155  243.619286  246.747366  259.082168  ...  261.944999   \n",
       "3  315.060961  324.300896  325.308529  321.618778  ...  286.189617   \n",
       "4  311.363650  321.938450  316.142136  316.229152  ...  252.755064   \n",
       "\n",
       "         2013        2014        2015        2016        2017        2018  \\\n",
       "0  873.055260  871.676409  867.446510  840.231093  856.336462  888.675695   \n",
       "1  419.847387  414.560614  419.879307  416.035538  418.208025  418.190503   \n",
       "2  260.570527  266.830699  270.668309  276.985293  277.536753  282.910424   \n",
       "3  299.850180  297.937608  283.629116  270.766996  275.144722  280.941451   \n",
       "4  265.350095  264.868608  249.194132  240.674894  242.297796  249.354767   \n",
       "\n",
       "         2019        2020        2021  \n",
       "0  893.843084  826.288454  873.111539  \n",
       "1  421.601359  373.767695  393.353676  \n",
       "2  274.710201  253.678081  269.966159  \n",
       "3  277.227680  251.813293  267.725164  \n",
       "4  232.372100  222.791865  235.415359  \n",
       "\n",
       "[5 rows x 33 columns]"
      ]
     },
     "execution_count": 80,
     "metadata": {},
     "output_type": "execute_result"
    }
   ],
   "source": [
    "# Define the mapping for renaming the columns  for \n",
    "greenhouse_gas_df.shape\n",
    "\n",
    "# Rename the first column to 'state'\n",
    "greenhouse_gas_df.rename(columns={'Greenhouse Gas Gross Total, MMT CO2 eq.': 'State'}, inplace=True)\n",
    "\n",
    "# Drop any rows with null values\n",
    "greenhouse_gas_df.dropna(inplace=True)\n",
    "\n",
    "greenhouse_gas_df.head()\n"
   ]
  },
  {
   "cell_type": "code",
   "execution_count": 81,
   "id": "aac16f43",
   "metadata": {},
   "outputs": [
    {
     "data": {
      "text/plain": [
       "Index(['State', '1990', '1991', '1992', '1993', '1994', '1995', '1996', '1997',\n",
       "       '1998', '1999', '2000', '2001', '2002', '2003', '2004', '2005', '2006',\n",
       "       '2007', '2008', '2009', '2010', '2011', '2012', '2013', '2014', '2015',\n",
       "       '2016', '2017', '2018', '2019', '2020', '2021'],\n",
       "      dtype='object')"
      ]
     },
     "execution_count": 81,
     "metadata": {},
     "output_type": "execute_result"
    }
   ],
   "source": [
    "greenhouse_gas_df.columns "
   ]
  },
  {
   "cell_type": "code",
   "execution_count": 82,
   "id": "158c71b0",
   "metadata": {},
   "outputs": [
    {
     "data": {
      "text/plain": [
       "array(['Texas', 'California', 'Florida', 'Pennsylvania', 'Ohio',\n",
       "       'Louisiana', 'Illinois', 'Indiana', 'New York', 'Michigan',\n",
       "       'Missouri', 'Georgia', 'North Carolina', 'Kentucky', 'Alabama',\n",
       "       'Oklahoma', 'Minnesota', 'Wisconsin', 'Colorado', 'Virginia',\n",
       "       'West Virginia', 'Iowa', 'Tennessee', 'Kansas', 'Arizona',\n",
       "       'New Jersey', 'North Dakota', 'Arkansas', 'Washington', 'Nebraska',\n",
       "       'Wyoming', 'South Carolina', 'Mississippi', 'Utah', 'New Mexico',\n",
       "       'Maryland', 'Massachusetts', 'Montana', 'Oregon', 'Nevada',\n",
       "       'South Dakota', 'Connecticut', 'Alaska', 'Idaho', 'Hawaii',\n",
       "       'Maine', 'New Hampshire', 'Delaware', 'Rhode Island', 'Vermont',\n",
       "       'District Of Columbia'], dtype=object)"
      ]
     },
     "execution_count": 82,
     "metadata": {},
     "output_type": "execute_result"
    }
   ],
   "source": [
    "greenhouse_gas_df['State'].unique()"
   ]
  },
  {
   "cell_type": "code",
   "execution_count": 83,
   "id": "2a5524ff",
   "metadata": {},
   "outputs": [
    {
     "name": "stdout",
     "output_type": "stream",
     "text": [
      "Top 5 states with the highest carbon emissions:\n",
      "['Texas', 'California', 'Pennsylvania', 'Ohio', 'Illinois']\n",
      "\n",
      "Bottom 5 states with the lowest carbon emissions:\n",
      "['Delaware', 'New Hampshire', 'Rhode Island', 'Vermont', 'District Of Columbia']\n"
     ]
    }
   ],
   "source": [
    "# Sort the DataFrame by carbon emissions in descending order\n",
    "sorted_df = greenhouse_gas_df.sort_values(by='1990', ascending=False)\n",
    "\n",
    "# Select the top 5 states with the highest carbon emissions\n",
    "top_5_states_highest_emissions = sorted_df.head(5)['State'].tolist()\n",
    "\n",
    "# Select the bottom 5 states with the lowest carbon emissions\n",
    "bottom_5_states_lowest_emissions = sorted_df.tail(5)['State'].tolist()\n",
    "\n",
    "# Print the top 5 states with the highest carbon emissions\n",
    "print(\"Top 5 states with the highest carbon emissions:\")\n",
    "print(top_5_states_highest_emissions)\n",
    "\n",
    "# Print the bottom 5 states with the lowest carbon emissions\n",
    "print(\"\\nBottom 5 states with the lowest carbon emissions:\")\n",
    "print(bottom_5_states_lowest_emissions)"
   ]
  },
  {
   "cell_type": "code",
   "execution_count": 84,
   "id": "58672f64",
   "metadata": {},
   "outputs": [],
   "source": [
    "\n",
    "# Sort the DataFrame by carbon emissions in descending order\n",
    "sorted_df = greenhouse_gas_df.sort_values(by='1990', ascending=False)\n",
    "\n",
    "# Select the top 5 states with the highest carbon emissions and their corresponding emissions values\n",
    "top_5_states_highest_emissions = sorted_df.head(5)[['State', '1990']].values\n",
    "\n",
    "# Select the bottom 5 states with the lowest carbon emissions and their corresponding emissions values\n",
    "bottom_5_states_lowest_emissions = sorted_df.tail(5)[['State', '1990']].values\n",
    "\n"
   ]
  },
  {
   "cell_type": "code",
   "execution_count": 85,
   "id": "a8aaeb89",
   "metadata": {},
   "outputs": [
    {
     "name": "stdout",
     "output_type": "stream",
     "text": [
      "\n",
      "Bottom 5 states with the lowest carbon emissions:\n"
     ]
    },
    {
     "data": {
      "text/html": [
       "<div>\n",
       "<style scoped>\n",
       "    .dataframe tbody tr th:only-of-type {\n",
       "        vertical-align: middle;\n",
       "    }\n",
       "\n",
       "    .dataframe tbody tr th {\n",
       "        vertical-align: top;\n",
       "    }\n",
       "\n",
       "    .dataframe thead th {\n",
       "        text-align: right;\n",
       "    }\n",
       "</style>\n",
       "<table border=\"1\" class=\"dataframe\">\n",
       "  <thead>\n",
       "    <tr style=\"text-align: right;\">\n",
       "      <th></th>\n",
       "      <th>State</th>\n",
       "      <th>Emissions</th>\n",
       "    </tr>\n",
       "  </thead>\n",
       "  <tbody>\n",
       "    <tr>\n",
       "      <th>0</th>\n",
       "      <td>District Of Columbia</td>\n",
       "      <td>4.908217</td>\n",
       "    </tr>\n",
       "    <tr>\n",
       "      <th>1</th>\n",
       "      <td>Vermont</td>\n",
       "      <td>7.649251</td>\n",
       "    </tr>\n",
       "    <tr>\n",
       "      <th>2</th>\n",
       "      <td>Rhode Island</td>\n",
       "      <td>10.241029</td>\n",
       "    </tr>\n",
       "    <tr>\n",
       "      <th>3</th>\n",
       "      <td>New Hampshire</td>\n",
       "      <td>16.872164</td>\n",
       "    </tr>\n",
       "    <tr>\n",
       "      <th>4</th>\n",
       "      <td>Delaware</td>\n",
       "      <td>19.713099</td>\n",
       "    </tr>\n",
       "  </tbody>\n",
       "</table>\n",
       "</div>"
      ],
      "text/plain": [
       "                  State  Emissions\n",
       "0  District Of Columbia   4.908217\n",
       "1               Vermont   7.649251\n",
       "2          Rhode Island  10.241029\n",
       "3         New Hampshire  16.872164\n",
       "4              Delaware  19.713099"
      ]
     },
     "execution_count": 85,
     "metadata": {},
     "output_type": "execute_result"
    }
   ],
   "source": [
    "# create df to use for plotting \n",
    "top_5_states_highest_emissions_data = [\n",
    "    ['Texas', 769.4285588063276],\n",
    "    ['California', 439.39811845295],\n",
    "    ['Pennsylvania', 303.25183939006087],\n",
    "    ['Ohio', 301.03097232999573],\n",
    "    ['Illinois', 253.8883962714412]\n",
    "]\n",
    "\n",
    "bottom_5_states_lowest_emissions_data = [\n",
    "    ['District Of Columbia', 4.9082174496745],\n",
    "    ['Vermont', 7.649251162936002],\n",
    "    ['Rhode Island', 10.2410289278132],\n",
    "    ['New Hampshire', 16.8721642445757],\n",
    "    ['Delaware', 19.7130992749581]\n",
    "]\n",
    "\n",
    "# Create DataFrames\n",
    "top_5_states_df = pd.DataFrame(top_5_states_highest_emissions_data, columns=['State', 'Emissions'])\n",
    "bottom_5_states_df = pd.DataFrame(bottom_5_states_lowest_emissions_data, columns=['State', 'Emissions'])\n",
    "\n",
    "# Displaying DataFrames\n",
    "print(\"\\nBottom 5 states with the lowest carbon emissions:\")\n",
    "bottom_5_states_df\n"
   ]
  },
  {
   "cell_type": "code",
   "execution_count": 86,
   "id": "db13b549",
   "metadata": {},
   "outputs": [
    {
     "name": "stdout",
     "output_type": "stream",
     "text": [
      "Top 5 states with the highest carbon emissions:\n"
     ]
    },
    {
     "data": {
      "text/html": [
       "<div>\n",
       "<style scoped>\n",
       "    .dataframe tbody tr th:only-of-type {\n",
       "        vertical-align: middle;\n",
       "    }\n",
       "\n",
       "    .dataframe tbody tr th {\n",
       "        vertical-align: top;\n",
       "    }\n",
       "\n",
       "    .dataframe thead th {\n",
       "        text-align: right;\n",
       "    }\n",
       "</style>\n",
       "<table border=\"1\" class=\"dataframe\">\n",
       "  <thead>\n",
       "    <tr style=\"text-align: right;\">\n",
       "      <th></th>\n",
       "      <th>State</th>\n",
       "      <th>Emissions</th>\n",
       "    </tr>\n",
       "  </thead>\n",
       "  <tbody>\n",
       "    <tr>\n",
       "      <th>0</th>\n",
       "      <td>Texas</td>\n",
       "      <td>769.428559</td>\n",
       "    </tr>\n",
       "    <tr>\n",
       "      <th>1</th>\n",
       "      <td>California</td>\n",
       "      <td>439.398118</td>\n",
       "    </tr>\n",
       "    <tr>\n",
       "      <th>2</th>\n",
       "      <td>Pennsylvania</td>\n",
       "      <td>303.251839</td>\n",
       "    </tr>\n",
       "    <tr>\n",
       "      <th>3</th>\n",
       "      <td>Ohio</td>\n",
       "      <td>301.030972</td>\n",
       "    </tr>\n",
       "    <tr>\n",
       "      <th>4</th>\n",
       "      <td>Illinois</td>\n",
       "      <td>253.888396</td>\n",
       "    </tr>\n",
       "  </tbody>\n",
       "</table>\n",
       "</div>"
      ],
      "text/plain": [
       "          State   Emissions\n",
       "0         Texas  769.428559\n",
       "1    California  439.398118\n",
       "2  Pennsylvania  303.251839\n",
       "3          Ohio  301.030972\n",
       "4      Illinois  253.888396"
      ]
     },
     "execution_count": 86,
     "metadata": {},
     "output_type": "execute_result"
    }
   ],
   "source": [
    "# Displaying DataFrames\n",
    "print(\"Top 5 states with the highest carbon emissions:\")\n",
    "top_5_states_df"
   ]
  },
  {
   "cell_type": "code",
   "execution_count": 87,
   "id": "56a3d005",
   "metadata": {},
   "outputs": [
    {
     "data": {
      "image/png": "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",
      "text/plain": [
       "<Figure size 1000x500 with 2 Axes>"
      ]
     },
     "metadata": {},
     "output_type": "display_data"
    }
   ],
   "source": [
    "# Plot pie chart for top 5 highest CO2 emissions\n",
    "plt.figure(figsize=(10, 5))\n",
    "plt.subplot(1, 2, 1)\n",
    "plt.pie(top_5_states_df['Emissions'], labels=top_5_states_df['State'], autopct='%1.1f%%', startangle=140)\n",
    "plt.title('Top 5 States with Highest CO2 Emissions')\n",
    "\n",
    "# Plot pie chart for top 5 lowest CO2 emissions\n",
    "plt.subplot(1, 2, 2)\n",
    "plt.pie(bottom_5_states_df['Emissions'], labels=bottom_5_states_df['State'], autopct='%1.1f%%', startangle=140)\n",
    "plt.title('Top 5 States with Lowest CO2 Emissions')\n",
    "\n",
    "plt.tight_layout()\n",
    "\n",
    "# Save the plot as an image\n",
    "# plt.savefig('top_5_states_CO2_emissions_pie_chart.png')\n",
    "\n",
    "plt.show()\n"
   ]
  },
  {
   "cell_type": "code",
   "execution_count": 88,
   "id": "3c2f4db6",
   "metadata": {},
   "outputs": [
    {
     "data": {
      "application/vnd.plotly.v1+json": {
       "config": {
        "plotlyServerURL": "https://plot.ly"
       },
       "data": [
        {
         "hole": 0.3,
         "labels": [
          "Texas",
          "California",
          "Pennsylvania",
          "Ohio",
          "Illinois"
         ],
         "type": "pie",
         "values": [
          769.4285588063276,
          439.39811845295,
          303.25183939006087,
          301.03097232999573,
          253.8883962714412
         ]
        }
       ],
       "layout": {
        "template": {
         "data": {
          "bar": [
           {
            "error_x": {
             "color": "#2a3f5f"
            },
            "error_y": {
             "color": "#2a3f5f"
            },
            "marker": {
             "line": {
              "color": "#E5ECF6",
              "width": 0.5
             },
             "pattern": {
              "fillmode": "overlay",
              "size": 10,
              "solidity": 0.2
             }
            },
            "type": "bar"
           }
          ],
          "barpolar": [
           {
            "marker": {
             "line": {
              "color": "#E5ECF6",
              "width": 0.5
             },
             "pattern": {
              "fillmode": "overlay",
              "size": 10,
              "solidity": 0.2
             }
            },
            "type": "barpolar"
           }
          ],
          "carpet": [
           {
            "aaxis": {
             "endlinecolor": "#2a3f5f",
             "gridcolor": "white",
             "linecolor": "white",
             "minorgridcolor": "white",
             "startlinecolor": "#2a3f5f"
            },
            "baxis": {
             "endlinecolor": "#2a3f5f",
             "gridcolor": "white",
             "linecolor": "white",
             "minorgridcolor": "white",
             "startlinecolor": "#2a3f5f"
            },
            "type": "carpet"
           }
          ],
          "choropleth": [
           {
            "colorbar": {
             "outlinewidth": 0,
             "ticks": ""
            },
            "type": "choropleth"
           }
          ],
          "contour": [
           {
            "colorbar": {
             "outlinewidth": 0,
             "ticks": ""
            },
            "colorscale": [
             [
              0,
              "#0d0887"
             ],
             [
              0.1111111111111111,
              "#46039f"
             ],
             [
              0.2222222222222222,
              "#7201a8"
             ],
             [
              0.3333333333333333,
              "#9c179e"
             ],
             [
              0.4444444444444444,
              "#bd3786"
             ],
             [
              0.5555555555555556,
              "#d8576b"
             ],
             [
              0.6666666666666666,
              "#ed7953"
             ],
             [
              0.7777777777777778,
              "#fb9f3a"
             ],
             [
              0.8888888888888888,
              "#fdca26"
             ],
             [
              1,
              "#f0f921"
             ]
            ],
            "type": "contour"
           }
          ],
          "contourcarpet": [
           {
            "colorbar": {
             "outlinewidth": 0,
             "ticks": ""
            },
            "type": "contourcarpet"
           }
          ],
          "heatmap": [
           {
            "colorbar": {
             "outlinewidth": 0,
             "ticks": ""
            },
            "colorscale": [
             [
              0,
              "#0d0887"
             ],
             [
              0.1111111111111111,
              "#46039f"
             ],
             [
              0.2222222222222222,
              "#7201a8"
             ],
             [
              0.3333333333333333,
              "#9c179e"
             ],
             [
              0.4444444444444444,
              "#bd3786"
             ],
             [
              0.5555555555555556,
              "#d8576b"
             ],
             [
              0.6666666666666666,
              "#ed7953"
             ],
             [
              0.7777777777777778,
              "#fb9f3a"
             ],
             [
              0.8888888888888888,
              "#fdca26"
             ],
             [
              1,
              "#f0f921"
             ]
            ],
            "type": "heatmap"
           }
          ],
          "heatmapgl": [
           {
            "colorbar": {
             "outlinewidth": 0,
             "ticks": ""
            },
            "colorscale": [
             [
              0,
              "#0d0887"
             ],
             [
              0.1111111111111111,
              "#46039f"
             ],
             [
              0.2222222222222222,
              "#7201a8"
             ],
             [
              0.3333333333333333,
              "#9c179e"
             ],
             [
              0.4444444444444444,
              "#bd3786"
             ],
             [
              0.5555555555555556,
              "#d8576b"
             ],
             [
              0.6666666666666666,
              "#ed7953"
             ],
             [
              0.7777777777777778,
              "#fb9f3a"
             ],
             [
              0.8888888888888888,
              "#fdca26"
             ],
             [
              1,
              "#f0f921"
             ]
            ],
            "type": "heatmapgl"
           }
          ],
          "histogram": [
           {
            "marker": {
             "pattern": {
              "fillmode": "overlay",
              "size": 10,
              "solidity": 0.2
             }
            },
            "type": "histogram"
           }
          ],
          "histogram2d": [
           {
            "colorbar": {
             "outlinewidth": 0,
             "ticks": ""
            },
            "colorscale": [
             [
              0,
              "#0d0887"
             ],
             [
              0.1111111111111111,
              "#46039f"
             ],
             [
              0.2222222222222222,
              "#7201a8"
             ],
             [
              0.3333333333333333,
              "#9c179e"
             ],
             [
              0.4444444444444444,
              "#bd3786"
             ],
             [
              0.5555555555555556,
              "#d8576b"
             ],
             [
              0.6666666666666666,
              "#ed7953"
             ],
             [
              0.7777777777777778,
              "#fb9f3a"
             ],
             [
              0.8888888888888888,
              "#fdca26"
             ],
             [
              1,
              "#f0f921"
             ]
            ],
            "type": "histogram2d"
           }
          ],
          "histogram2dcontour": [
           {
            "colorbar": {
             "outlinewidth": 0,
             "ticks": ""
            },
            "colorscale": [
             [
              0,
              "#0d0887"
             ],
             [
              0.1111111111111111,
              "#46039f"
             ],
             [
              0.2222222222222222,
              "#7201a8"
             ],
             [
              0.3333333333333333,
              "#9c179e"
             ],
             [
              0.4444444444444444,
              "#bd3786"
             ],
             [
              0.5555555555555556,
              "#d8576b"
             ],
             [
              0.6666666666666666,
              "#ed7953"
             ],
             [
              0.7777777777777778,
              "#fb9f3a"
             ],
             [
              0.8888888888888888,
              "#fdca26"
             ],
             [
              1,
              "#f0f921"
             ]
            ],
            "type": "histogram2dcontour"
           }
          ],
          "mesh3d": [
           {
            "colorbar": {
             "outlinewidth": 0,
             "ticks": ""
            },
            "type": "mesh3d"
           }
          ],
          "parcoords": [
           {
            "line": {
             "colorbar": {
              "outlinewidth": 0,
              "ticks": ""
             }
            },
            "type": "parcoords"
           }
          ],
          "pie": [
           {
            "automargin": true,
            "type": "pie"
           }
          ],
          "scatter": [
           {
            "fillpattern": {
             "fillmode": "overlay",
             "size": 10,
             "solidity": 0.2
            },
            "type": "scatter"
           }
          ],
          "scatter3d": [
           {
            "line": {
             "colorbar": {
              "outlinewidth": 0,
              "ticks": ""
             }
            },
            "marker": {
             "colorbar": {
              "outlinewidth": 0,
              "ticks": ""
             }
            },
            "type": "scatter3d"
           }
          ],
          "scattercarpet": [
           {
            "marker": {
             "colorbar": {
              "outlinewidth": 0,
              "ticks": ""
             }
            },
            "type": "scattercarpet"
           }
          ],
          "scattergeo": [
           {
            "marker": {
             "colorbar": {
              "outlinewidth": 0,
              "ticks": ""
             }
            },
            "type": "scattergeo"
           }
          ],
          "scattergl": [
           {
            "marker": {
             "colorbar": {
              "outlinewidth": 0,
              "ticks": ""
             }
            },
            "type": "scattergl"
           }
          ],
          "scattermapbox": [
           {
            "marker": {
             "colorbar": {
              "outlinewidth": 0,
              "ticks": ""
             }
            },
            "type": "scattermapbox"
           }
          ],
          "scatterpolar": [
           {
            "marker": {
             "colorbar": {
              "outlinewidth": 0,
              "ticks": ""
             }
            },
            "type": "scatterpolar"
           }
          ],
          "scatterpolargl": [
           {
            "marker": {
             "colorbar": {
              "outlinewidth": 0,
              "ticks": ""
             }
            },
            "type": "scatterpolargl"
           }
          ],
          "scatterternary": [
           {
            "marker": {
             "colorbar": {
              "outlinewidth": 0,
              "ticks": ""
             }
            },
            "type": "scatterternary"
           }
          ],
          "surface": [
           {
            "colorbar": {
             "outlinewidth": 0,
             "ticks": ""
            },
            "colorscale": [
             [
              0,
              "#0d0887"
             ],
             [
              0.1111111111111111,
              "#46039f"
             ],
             [
              0.2222222222222222,
              "#7201a8"
             ],
             [
              0.3333333333333333,
              "#9c179e"
             ],
             [
              0.4444444444444444,
              "#bd3786"
             ],
             [
              0.5555555555555556,
              "#d8576b"
             ],
             [
              0.6666666666666666,
              "#ed7953"
             ],
             [
              0.7777777777777778,
              "#fb9f3a"
             ],
             [
              0.8888888888888888,
              "#fdca26"
             ],
             [
              1,
              "#f0f921"
             ]
            ],
            "type": "surface"
           }
          ],
          "table": [
           {
            "cells": {
             "fill": {
              "color": "#EBF0F8"
             },
             "line": {
              "color": "white"
             }
            },
            "header": {
             "fill": {
              "color": "#C8D4E3"
             },
             "line": {
              "color": "white"
             }
            },
            "type": "table"
           }
          ]
         },
         "layout": {
          "annotationdefaults": {
           "arrowcolor": "#2a3f5f",
           "arrowhead": 0,
           "arrowwidth": 1
          },
          "autotypenumbers": "strict",
          "coloraxis": {
           "colorbar": {
            "outlinewidth": 0,
            "ticks": ""
           }
          },
          "colorscale": {
           "diverging": [
            [
             0,
             "#8e0152"
            ],
            [
             0.1,
             "#c51b7d"
            ],
            [
             0.2,
             "#de77ae"
            ],
            [
             0.3,
             "#f1b6da"
            ],
            [
             0.4,
             "#fde0ef"
            ],
            [
             0.5,
             "#f7f7f7"
            ],
            [
             0.6,
             "#e6f5d0"
            ],
            [
             0.7,
             "#b8e186"
            ],
            [
             0.8,
             "#7fbc41"
            ],
            [
             0.9,
             "#4d9221"
            ],
            [
             1,
             "#276419"
            ]
           ],
           "sequential": [
            [
             0,
             "#0d0887"
            ],
            [
             0.1111111111111111,
             "#46039f"
            ],
            [
             0.2222222222222222,
             "#7201a8"
            ],
            [
             0.3333333333333333,
             "#9c179e"
            ],
            [
             0.4444444444444444,
             "#bd3786"
            ],
            [
             0.5555555555555556,
             "#d8576b"
            ],
            [
             0.6666666666666666,
             "#ed7953"
            ],
            [
             0.7777777777777778,
             "#fb9f3a"
            ],
            [
             0.8888888888888888,
             "#fdca26"
            ],
            [
             1,
             "#f0f921"
            ]
           ],
           "sequentialminus": [
            [
             0,
             "#0d0887"
            ],
            [
             0.1111111111111111,
             "#46039f"
            ],
            [
             0.2222222222222222,
             "#7201a8"
            ],
            [
             0.3333333333333333,
             "#9c179e"
            ],
            [
             0.4444444444444444,
             "#bd3786"
            ],
            [
             0.5555555555555556,
             "#d8576b"
            ],
            [
             0.6666666666666666,
             "#ed7953"
            ],
            [
             0.7777777777777778,
             "#fb9f3a"
            ],
            [
             0.8888888888888888,
             "#fdca26"
            ],
            [
             1,
             "#f0f921"
            ]
           ]
          },
          "colorway": [
           "#636efa",
           "#EF553B",
           "#00cc96",
           "#ab63fa",
           "#FFA15A",
           "#19d3f3",
           "#FF6692",
           "#B6E880",
           "#FF97FF",
           "#FECB52"
          ],
          "font": {
           "color": "#2a3f5f"
          },
          "geo": {
           "bgcolor": "white",
           "lakecolor": "white",
           "landcolor": "#E5ECF6",
           "showlakes": true,
           "showland": true,
           "subunitcolor": "white"
          },
          "hoverlabel": {
           "align": "left"
          },
          "hovermode": "closest",
          "mapbox": {
           "style": "light"
          },
          "paper_bgcolor": "white",
          "plot_bgcolor": "#E5ECF6",
          "polar": {
           "angularaxis": {
            "gridcolor": "white",
            "linecolor": "white",
            "ticks": ""
           },
           "bgcolor": "#E5ECF6",
           "radialaxis": {
            "gridcolor": "white",
            "linecolor": "white",
            "ticks": ""
           }
          },
          "scene": {
           "xaxis": {
            "backgroundcolor": "#E5ECF6",
            "gridcolor": "white",
            "gridwidth": 2,
            "linecolor": "white",
            "showbackground": true,
            "ticks": "",
            "zerolinecolor": "white"
           },
           "yaxis": {
            "backgroundcolor": "#E5ECF6",
            "gridcolor": "white",
            "gridwidth": 2,
            "linecolor": "white",
            "showbackground": true,
            "ticks": "",
            "zerolinecolor": "white"
           },
           "zaxis": {
            "backgroundcolor": "#E5ECF6",
            "gridcolor": "white",
            "gridwidth": 2,
            "linecolor": "white",
            "showbackground": true,
            "ticks": "",
            "zerolinecolor": "white"
           }
          },
          "shapedefaults": {
           "line": {
            "color": "#2a3f5f"
           }
          },
          "ternary": {
           "aaxis": {
            "gridcolor": "white",
            "linecolor": "white",
            "ticks": ""
           },
           "baxis": {
            "gridcolor": "white",
            "linecolor": "white",
            "ticks": ""
           },
           "bgcolor": "#E5ECF6",
           "caxis": {
            "gridcolor": "white",
            "linecolor": "white",
            "ticks": ""
           }
          },
          "title": {
           "x": 0.05
          },
          "xaxis": {
           "automargin": true,
           "gridcolor": "white",
           "linecolor": "white",
           "ticks": "",
           "title": {
            "standoff": 15
           },
           "zerolinecolor": "white",
           "zerolinewidth": 2
          },
          "yaxis": {
           "automargin": true,
           "gridcolor": "white",
           "linecolor": "white",
           "ticks": "",
           "title": {
            "standoff": 15
           },
           "zerolinecolor": "white",
           "zerolinewidth": 2
          }
         }
        },
        "title": {
         "text": "Top 5 States with Highest CO2 Emissions"
        }
       }
      },
      "text/html": [
       "<div>                            <div id=\"3726b956-c28b-4caf-a7ac-dd23d878891e\" class=\"plotly-graph-div\" style=\"height:525px; width:100%;\"></div>            <script type=\"text/javascript\">                require([\"plotly\"], function(Plotly) {                    window.PLOTLYENV=window.PLOTLYENV || {};                                    if (document.getElementById(\"3726b956-c28b-4caf-a7ac-dd23d878891e\")) {                    Plotly.newPlot(                        \"3726b956-c28b-4caf-a7ac-dd23d878891e\",                        [{\"hole\":0.3,\"labels\":[\"Texas\",\"California\",\"Pennsylvania\",\"Ohio\",\"Illinois\"],\"values\":[769.4285588063276,439.39811845295,303.25183939006087,301.03097232999573,253.8883962714412],\"type\":\"pie\"}],                        {\"template\":{\"data\":{\"histogram2dcontour\":[{\"type\":\"histogram2dcontour\",\"colorbar\":{\"outlinewidth\":0,\"ticks\":\"\"},\"colorscale\":[[0.0,\"#0d0887\"],[0.1111111111111111,\"#46039f\"],[0.2222222222222222,\"#7201a8\"],[0.3333333333333333,\"#9c179e\"],[0.4444444444444444,\"#bd3786\"],[0.5555555555555556,\"#d8576b\"],[0.6666666666666666,\"#ed7953\"],[0.7777777777777778,\"#fb9f3a\"],[0.8888888888888888,\"#fdca26\"],[1.0,\"#f0f921\"]]}],\"choropleth\":[{\"type\":\"choropleth\",\"colorbar\":{\"outlinewidth\":0,\"ticks\":\"\"}}],\"histogram2d\":[{\"type\":\"histogram2d\",\"colorbar\":{\"outlinewidth\":0,\"ticks\":\"\"},\"colorscale\":[[0.0,\"#0d0887\"],[0.1111111111111111,\"#46039f\"],[0.2222222222222222,\"#7201a8\"],[0.3333333333333333,\"#9c179e\"],[0.4444444444444444,\"#bd3786\"],[0.5555555555555556,\"#d8576b\"],[0.6666666666666666,\"#ed7953\"],[0.7777777777777778,\"#fb9f3a\"],[0.8888888888888888,\"#fdca26\"],[1.0,\"#f0f921\"]]}],\"heatmap\":[{\"type\":\"heatmap\",\"colorbar\":{\"outlinewidth\":0,\"ticks\":\"\"},\"colorscale\":[[0.0,\"#0d0887\"],[0.1111111111111111,\"#46039f\"],[0.2222222222222222,\"#7201a8\"],[0.3333333333333333,\"#9c179e\"],[0.4444444444444444,\"#bd3786\"],[0.5555555555555556,\"#d8576b\"],[0.6666666666666666,\"#ed7953\"],[0.7777777777777778,\"#fb9f3a\"],[0.8888888888888888,\"#fdca26\"],[1.0,\"#f0f921\"]]}],\"heatmapgl\":[{\"type\":\"heatmapgl\",\"colorbar\":{\"outlinewidth\":0,\"ticks\":\"\"},\"colorscale\":[[0.0,\"#0d0887\"],[0.1111111111111111,\"#46039f\"],[0.2222222222222222,\"#7201a8\"],[0.3333333333333333,\"#9c179e\"],[0.4444444444444444,\"#bd3786\"],[0.5555555555555556,\"#d8576b\"],[0.6666666666666666,\"#ed7953\"],[0.7777777777777778,\"#fb9f3a\"],[0.8888888888888888,\"#fdca26\"],[1.0,\"#f0f921\"]]}],\"contourcarpet\":[{\"type\":\"contourcarpet\",\"colorbar\":{\"outlinewidth\":0,\"ticks\":\"\"}}],\"contour\":[{\"type\":\"contour\",\"colorbar\":{\"outlinewidth\":0,\"ticks\":\"\"},\"colorscale\":[[0.0,\"#0d0887\"],[0.1111111111111111,\"#46039f\"],[0.2222222222222222,\"#7201a8\"],[0.3333333333333333,\"#9c179e\"],[0.4444444444444444,\"#bd3786\"],[0.5555555555555556,\"#d8576b\"],[0.6666666666666666,\"#ed7953\"],[0.7777777777777778,\"#fb9f3a\"],[0.8888888888888888,\"#fdca26\"],[1.0,\"#f0f921\"]]}],\"surface\":[{\"type\":\"surface\",\"colorbar\":{\"outlinewidth\":0,\"ticks\":\"\"},\"colorscale\":[[0.0,\"#0d0887\"],[0.1111111111111111,\"#46039f\"],[0.2222222222222222,\"#7201a8\"],[0.3333333333333333,\"#9c179e\"],[0.4444444444444444,\"#bd3786\"],[0.5555555555555556,\"#d8576b\"],[0.6666666666666666,\"#ed7953\"],[0.7777777777777778,\"#fb9f3a\"],[0.8888888888888888,\"#fdca26\"],[1.0,\"#f0f921\"]]}],\"mesh3d\":[{\"type\":\"mesh3d\",\"colorbar\":{\"outlinewidth\":0,\"ticks\":\"\"}}],\"scatter\":[{\"fillpattern\":{\"fillmode\":\"overlay\",\"size\":10,\"solidity\":0.2},\"type\":\"scatter\"}],\"parcoords\":[{\"type\":\"parcoords\",\"line\":{\"colorbar\":{\"outlinewidth\":0,\"ticks\":\"\"}}}],\"scatterpolargl\":[{\"type\":\"scatterpolargl\",\"marker\":{\"colorbar\":{\"outlinewidth\":0,\"ticks\":\"\"}}}],\"bar\":[{\"error_x\":{\"color\":\"#2a3f5f\"},\"error_y\":{\"color\":\"#2a3f5f\"},\"marker\":{\"line\":{\"color\":\"#E5ECF6\",\"width\":0.5},\"pattern\":{\"fillmode\":\"overlay\",\"size\":10,\"solidity\":0.2}},\"type\":\"bar\"}],\"scattergeo\":[{\"type\":\"scattergeo\",\"marker\":{\"colorbar\":{\"outlinewidth\":0,\"ticks\":\"\"}}}],\"scatterpolar\":[{\"type\":\"scatterpolar\",\"marker\":{\"colorbar\":{\"outlinewidth\":0,\"ticks\":\"\"}}}],\"histogram\":[{\"marker\":{\"pattern\":{\"fillmode\":\"overlay\",\"size\":10,\"solidity\":0.2}},\"type\":\"histogram\"}],\"scattergl\":[{\"type\":\"scattergl\",\"marker\":{\"colorbar\":{\"outlinewidth\":0,\"ticks\":\"\"}}}],\"scatter3d\":[{\"type\":\"scatter3d\",\"line\":{\"colorbar\":{\"outlinewidth\":0,\"ticks\":\"\"}},\"marker\":{\"colorbar\":{\"outlinewidth\":0,\"ticks\":\"\"}}}],\"scattermapbox\":[{\"type\":\"scattermapbox\",\"marker\":{\"colorbar\":{\"outlinewidth\":0,\"ticks\":\"\"}}}],\"scatterternary\":[{\"type\":\"scatterternary\",\"marker\":{\"colorbar\":{\"outlinewidth\":0,\"ticks\":\"\"}}}],\"scattercarpet\":[{\"type\":\"scattercarpet\",\"marker\":{\"colorbar\":{\"outlinewidth\":0,\"ticks\":\"\"}}}],\"carpet\":[{\"aaxis\":{\"endlinecolor\":\"#2a3f5f\",\"gridcolor\":\"white\",\"linecolor\":\"white\",\"minorgridcolor\":\"white\",\"startlinecolor\":\"#2a3f5f\"},\"baxis\":{\"endlinecolor\":\"#2a3f5f\",\"gridcolor\":\"white\",\"linecolor\":\"white\",\"minorgridcolor\":\"white\",\"startlinecolor\":\"#2a3f5f\"},\"type\":\"carpet\"}],\"table\":[{\"cells\":{\"fill\":{\"color\":\"#EBF0F8\"},\"line\":{\"color\":\"white\"}},\"header\":{\"fill\":{\"color\":\"#C8D4E3\"},\"line\":{\"color\":\"white\"}},\"type\":\"table\"}],\"barpolar\":[{\"marker\":{\"line\":{\"color\":\"#E5ECF6\",\"width\":0.5},\"pattern\":{\"fillmode\":\"overlay\",\"size\":10,\"solidity\":0.2}},\"type\":\"barpolar\"}],\"pie\":[{\"automargin\":true,\"type\":\"pie\"}]},\"layout\":{\"autotypenumbers\":\"strict\",\"colorway\":[\"#636efa\",\"#EF553B\",\"#00cc96\",\"#ab63fa\",\"#FFA15A\",\"#19d3f3\",\"#FF6692\",\"#B6E880\",\"#FF97FF\",\"#FECB52\"],\"font\":{\"color\":\"#2a3f5f\"},\"hovermode\":\"closest\",\"hoverlabel\":{\"align\":\"left\"},\"paper_bgcolor\":\"white\",\"plot_bgcolor\":\"#E5ECF6\",\"polar\":{\"bgcolor\":\"#E5ECF6\",\"angularaxis\":{\"gridcolor\":\"white\",\"linecolor\":\"white\",\"ticks\":\"\"},\"radialaxis\":{\"gridcolor\":\"white\",\"linecolor\":\"white\",\"ticks\":\"\"}},\"ternary\":{\"bgcolor\":\"#E5ECF6\",\"aaxis\":{\"gridcolor\":\"white\",\"linecolor\":\"white\",\"ticks\":\"\"},\"baxis\":{\"gridcolor\":\"white\",\"linecolor\":\"white\",\"ticks\":\"\"},\"caxis\":{\"gridcolor\":\"white\",\"linecolor\":\"white\",\"ticks\":\"\"}},\"coloraxis\":{\"colorbar\":{\"outlinewidth\":0,\"ticks\":\"\"}},\"colorscale\":{\"sequential\":[[0.0,\"#0d0887\"],[0.1111111111111111,\"#46039f\"],[0.2222222222222222,\"#7201a8\"],[0.3333333333333333,\"#9c179e\"],[0.4444444444444444,\"#bd3786\"],[0.5555555555555556,\"#d8576b\"],[0.6666666666666666,\"#ed7953\"],[0.7777777777777778,\"#fb9f3a\"],[0.8888888888888888,\"#fdca26\"],[1.0,\"#f0f921\"]],\"sequentialminus\":[[0.0,\"#0d0887\"],[0.1111111111111111,\"#46039f\"],[0.2222222222222222,\"#7201a8\"],[0.3333333333333333,\"#9c179e\"],[0.4444444444444444,\"#bd3786\"],[0.5555555555555556,\"#d8576b\"],[0.6666666666666666,\"#ed7953\"],[0.7777777777777778,\"#fb9f3a\"],[0.8888888888888888,\"#fdca26\"],[1.0,\"#f0f921\"]],\"diverging\":[[0,\"#8e0152\"],[0.1,\"#c51b7d\"],[0.2,\"#de77ae\"],[0.3,\"#f1b6da\"],[0.4,\"#fde0ef\"],[0.5,\"#f7f7f7\"],[0.6,\"#e6f5d0\"],[0.7,\"#b8e186\"],[0.8,\"#7fbc41\"],[0.9,\"#4d9221\"],[1,\"#276419\"]]},\"xaxis\":{\"gridcolor\":\"white\",\"linecolor\":\"white\",\"ticks\":\"\",\"title\":{\"standoff\":15},\"zerolinecolor\":\"white\",\"automargin\":true,\"zerolinewidth\":2},\"yaxis\":{\"gridcolor\":\"white\",\"linecolor\":\"white\",\"ticks\":\"\",\"title\":{\"standoff\":15},\"zerolinecolor\":\"white\",\"automargin\":true,\"zerolinewidth\":2},\"scene\":{\"xaxis\":{\"backgroundcolor\":\"#E5ECF6\",\"gridcolor\":\"white\",\"linecolor\":\"white\",\"showbackground\":true,\"ticks\":\"\",\"zerolinecolor\":\"white\",\"gridwidth\":2},\"yaxis\":{\"backgroundcolor\":\"#E5ECF6\",\"gridcolor\":\"white\",\"linecolor\":\"white\",\"showbackground\":true,\"ticks\":\"\",\"zerolinecolor\":\"white\",\"gridwidth\":2},\"zaxis\":{\"backgroundcolor\":\"#E5ECF6\",\"gridcolor\":\"white\",\"linecolor\":\"white\",\"showbackground\":true,\"ticks\":\"\",\"zerolinecolor\":\"white\",\"gridwidth\":2}},\"shapedefaults\":{\"line\":{\"color\":\"#2a3f5f\"}},\"annotationdefaults\":{\"arrowcolor\":\"#2a3f5f\",\"arrowhead\":0,\"arrowwidth\":1},\"geo\":{\"bgcolor\":\"white\",\"landcolor\":\"#E5ECF6\",\"subunitcolor\":\"white\",\"showland\":true,\"showlakes\":true,\"lakecolor\":\"white\"},\"title\":{\"x\":0.05},\"mapbox\":{\"style\":\"light\"}}},\"title\":{\"text\":\"Top 5 States with Highest CO2 Emissions\"}},                        {\"responsive\": true}                    ).then(function(){\n",
       "                            \n",
       "var gd = document.getElementById('3726b956-c28b-4caf-a7ac-dd23d878891e');\n",
       "var x = new MutationObserver(function (mutations, observer) {{\n",
       "        var display = window.getComputedStyle(gd).display;\n",
       "        if (!display || display === 'none') {{\n",
       "            console.log([gd, 'removed!']);\n",
       "            Plotly.purge(gd);\n",
       "            observer.disconnect();\n",
       "        }}\n",
       "}});\n",
       "\n",
       "// Listen for the removal of the full notebook cells\n",
       "var notebookContainer = gd.closest('#notebook-container');\n",
       "if (notebookContainer) {{\n",
       "    x.observe(notebookContainer, {childList: true});\n",
       "}}\n",
       "\n",
       "// Listen for the clearing of the current output cell\n",
       "var outputEl = gd.closest('.output');\n",
       "if (outputEl) {{\n",
       "    x.observe(outputEl, {childList: true});\n",
       "}}\n",
       "\n",
       "                        })                };                });            </script>        </div>"
      ]
     },
     "metadata": {},
     "output_type": "display_data"
    }
   ],
   "source": [
    "# Plot pie chart for top 5 highest CO2 emissions using plotly \n",
    "top_5_states_df = pd.DataFrame(top_5_states_highest_emissions_data, columns=['State', 'Emissions'])\n",
    "\n",
    "# Plot pie chart for top 5 highest CO2 emissions using plotly\n",
    "fig1 = go.Figure(data=[go.Pie(labels=top_5_states_df['State'], values=top_5_states_df['Emissions'], hole=.3)])\n",
    "fig1.update_layout(title_text='Top 5 States with Highest CO2 Emissions')\n",
    "\n",
    "# Save the figure as an image\n",
    "# fig1.write_image(\"top_5_highest_CO2_emissions.png\")"
   ]
  },
  {
   "cell_type": "code",
   "execution_count": 89,
   "id": "7f4343a8",
   "metadata": {},
   "outputs": [
    {
     "data": {
      "application/vnd.plotly.v1+json": {
       "config": {
        "plotlyServerURL": "https://plot.ly"
       },
       "data": [
        {
         "hole": 0.3,
         "labels": [
          "District Of Columbia",
          "Vermont",
          "Rhode Island",
          "New Hampshire",
          "Delaware"
         ],
         "type": "pie",
         "values": [
          4.9082174496745,
          7.649251162936002,
          10.2410289278132,
          16.8721642445757,
          19.7130992749581
         ]
        }
       ],
       "layout": {
        "template": {
         "data": {
          "bar": [
           {
            "error_x": {
             "color": "#2a3f5f"
            },
            "error_y": {
             "color": "#2a3f5f"
            },
            "marker": {
             "line": {
              "color": "#E5ECF6",
              "width": 0.5
             },
             "pattern": {
              "fillmode": "overlay",
              "size": 10,
              "solidity": 0.2
             }
            },
            "type": "bar"
           }
          ],
          "barpolar": [
           {
            "marker": {
             "line": {
              "color": "#E5ECF6",
              "width": 0.5
             },
             "pattern": {
              "fillmode": "overlay",
              "size": 10,
              "solidity": 0.2
             }
            },
            "type": "barpolar"
           }
          ],
          "carpet": [
           {
            "aaxis": {
             "endlinecolor": "#2a3f5f",
             "gridcolor": "white",
             "linecolor": "white",
             "minorgridcolor": "white",
             "startlinecolor": "#2a3f5f"
            },
            "baxis": {
             "endlinecolor": "#2a3f5f",
             "gridcolor": "white",
             "linecolor": "white",
             "minorgridcolor": "white",
             "startlinecolor": "#2a3f5f"
            },
            "type": "carpet"
           }
          ],
          "choropleth": [
           {
            "colorbar": {
             "outlinewidth": 0,
             "ticks": ""
            },
            "type": "choropleth"
           }
          ],
          "contour": [
           {
            "colorbar": {
             "outlinewidth": 0,
             "ticks": ""
            },
            "colorscale": [
             [
              0,
              "#0d0887"
             ],
             [
              0.1111111111111111,
              "#46039f"
             ],
             [
              0.2222222222222222,
              "#7201a8"
             ],
             [
              0.3333333333333333,
              "#9c179e"
             ],
             [
              0.4444444444444444,
              "#bd3786"
             ],
             [
              0.5555555555555556,
              "#d8576b"
             ],
             [
              0.6666666666666666,
              "#ed7953"
             ],
             [
              0.7777777777777778,
              "#fb9f3a"
             ],
             [
              0.8888888888888888,
              "#fdca26"
             ],
             [
              1,
              "#f0f921"
             ]
            ],
            "type": "contour"
           }
          ],
          "contourcarpet": [
           {
            "colorbar": {
             "outlinewidth": 0,
             "ticks": ""
            },
            "type": "contourcarpet"
           }
          ],
          "heatmap": [
           {
            "colorbar": {
             "outlinewidth": 0,
             "ticks": ""
            },
            "colorscale": [
             [
              0,
              "#0d0887"
             ],
             [
              0.1111111111111111,
              "#46039f"
             ],
             [
              0.2222222222222222,
              "#7201a8"
             ],
             [
              0.3333333333333333,
              "#9c179e"
             ],
             [
              0.4444444444444444,
              "#bd3786"
             ],
             [
              0.5555555555555556,
              "#d8576b"
             ],
             [
              0.6666666666666666,
              "#ed7953"
             ],
             [
              0.7777777777777778,
              "#fb9f3a"
             ],
             [
              0.8888888888888888,
              "#fdca26"
             ],
             [
              1,
              "#f0f921"
             ]
            ],
            "type": "heatmap"
           }
          ],
          "heatmapgl": [
           {
            "colorbar": {
             "outlinewidth": 0,
             "ticks": ""
            },
            "colorscale": [
             [
              0,
              "#0d0887"
             ],
             [
              0.1111111111111111,
              "#46039f"
             ],
             [
              0.2222222222222222,
              "#7201a8"
             ],
             [
              0.3333333333333333,
              "#9c179e"
             ],
             [
              0.4444444444444444,
              "#bd3786"
             ],
             [
              0.5555555555555556,
              "#d8576b"
             ],
             [
              0.6666666666666666,
              "#ed7953"
             ],
             [
              0.7777777777777778,
              "#fb9f3a"
             ],
             [
              0.8888888888888888,
              "#fdca26"
             ],
             [
              1,
              "#f0f921"
             ]
            ],
            "type": "heatmapgl"
           }
          ],
          "histogram": [
           {
            "marker": {
             "pattern": {
              "fillmode": "overlay",
              "size": 10,
              "solidity": 0.2
             }
            },
            "type": "histogram"
           }
          ],
          "histogram2d": [
           {
            "colorbar": {
             "outlinewidth": 0,
             "ticks": ""
            },
            "colorscale": [
             [
              0,
              "#0d0887"
             ],
             [
              0.1111111111111111,
              "#46039f"
             ],
             [
              0.2222222222222222,
              "#7201a8"
             ],
             [
              0.3333333333333333,
              "#9c179e"
             ],
             [
              0.4444444444444444,
              "#bd3786"
             ],
             [
              0.5555555555555556,
              "#d8576b"
             ],
             [
              0.6666666666666666,
              "#ed7953"
             ],
             [
              0.7777777777777778,
              "#fb9f3a"
             ],
             [
              0.8888888888888888,
              "#fdca26"
             ],
             [
              1,
              "#f0f921"
             ]
            ],
            "type": "histogram2d"
           }
          ],
          "histogram2dcontour": [
           {
            "colorbar": {
             "outlinewidth": 0,
             "ticks": ""
            },
            "colorscale": [
             [
              0,
              "#0d0887"
             ],
             [
              0.1111111111111111,
              "#46039f"
             ],
             [
              0.2222222222222222,
              "#7201a8"
             ],
             [
              0.3333333333333333,
              "#9c179e"
             ],
             [
              0.4444444444444444,
              "#bd3786"
             ],
             [
              0.5555555555555556,
              "#d8576b"
             ],
             [
              0.6666666666666666,
              "#ed7953"
             ],
             [
              0.7777777777777778,
              "#fb9f3a"
             ],
             [
              0.8888888888888888,
              "#fdca26"
             ],
             [
              1,
              "#f0f921"
             ]
            ],
            "type": "histogram2dcontour"
           }
          ],
          "mesh3d": [
           {
            "colorbar": {
             "outlinewidth": 0,
             "ticks": ""
            },
            "type": "mesh3d"
           }
          ],
          "parcoords": [
           {
            "line": {
             "colorbar": {
              "outlinewidth": 0,
              "ticks": ""
             }
            },
            "type": "parcoords"
           }
          ],
          "pie": [
           {
            "automargin": true,
            "type": "pie"
           }
          ],
          "scatter": [
           {
            "fillpattern": {
             "fillmode": "overlay",
             "size": 10,
             "solidity": 0.2
            },
            "type": "scatter"
           }
          ],
          "scatter3d": [
           {
            "line": {
             "colorbar": {
              "outlinewidth": 0,
              "ticks": ""
             }
            },
            "marker": {
             "colorbar": {
              "outlinewidth": 0,
              "ticks": ""
             }
            },
            "type": "scatter3d"
           }
          ],
          "scattercarpet": [
           {
            "marker": {
             "colorbar": {
              "outlinewidth": 0,
              "ticks": ""
             }
            },
            "type": "scattercarpet"
           }
          ],
          "scattergeo": [
           {
            "marker": {
             "colorbar": {
              "outlinewidth": 0,
              "ticks": ""
             }
            },
            "type": "scattergeo"
           }
          ],
          "scattergl": [
           {
            "marker": {
             "colorbar": {
              "outlinewidth": 0,
              "ticks": ""
             }
            },
            "type": "scattergl"
           }
          ],
          "scattermapbox": [
           {
            "marker": {
             "colorbar": {
              "outlinewidth": 0,
              "ticks": ""
             }
            },
            "type": "scattermapbox"
           }
          ],
          "scatterpolar": [
           {
            "marker": {
             "colorbar": {
              "outlinewidth": 0,
              "ticks": ""
             }
            },
            "type": "scatterpolar"
           }
          ],
          "scatterpolargl": [
           {
            "marker": {
             "colorbar": {
              "outlinewidth": 0,
              "ticks": ""
             }
            },
            "type": "scatterpolargl"
           }
          ],
          "scatterternary": [
           {
            "marker": {
             "colorbar": {
              "outlinewidth": 0,
              "ticks": ""
             }
            },
            "type": "scatterternary"
           }
          ],
          "surface": [
           {
            "colorbar": {
             "outlinewidth": 0,
             "ticks": ""
            },
            "colorscale": [
             [
              0,
              "#0d0887"
             ],
             [
              0.1111111111111111,
              "#46039f"
             ],
             [
              0.2222222222222222,
              "#7201a8"
             ],
             [
              0.3333333333333333,
              "#9c179e"
             ],
             [
              0.4444444444444444,
              "#bd3786"
             ],
             [
              0.5555555555555556,
              "#d8576b"
             ],
             [
              0.6666666666666666,
              "#ed7953"
             ],
             [
              0.7777777777777778,
              "#fb9f3a"
             ],
             [
              0.8888888888888888,
              "#fdca26"
             ],
             [
              1,
              "#f0f921"
             ]
            ],
            "type": "surface"
           }
          ],
          "table": [
           {
            "cells": {
             "fill": {
              "color": "#EBF0F8"
             },
             "line": {
              "color": "white"
             }
            },
            "header": {
             "fill": {
              "color": "#C8D4E3"
             },
             "line": {
              "color": "white"
             }
            },
            "type": "table"
           }
          ]
         },
         "layout": {
          "annotationdefaults": {
           "arrowcolor": "#2a3f5f",
           "arrowhead": 0,
           "arrowwidth": 1
          },
          "autotypenumbers": "strict",
          "coloraxis": {
           "colorbar": {
            "outlinewidth": 0,
            "ticks": ""
           }
          },
          "colorscale": {
           "diverging": [
            [
             0,
             "#8e0152"
            ],
            [
             0.1,
             "#c51b7d"
            ],
            [
             0.2,
             "#de77ae"
            ],
            [
             0.3,
             "#f1b6da"
            ],
            [
             0.4,
             "#fde0ef"
            ],
            [
             0.5,
             "#f7f7f7"
            ],
            [
             0.6,
             "#e6f5d0"
            ],
            [
             0.7,
             "#b8e186"
            ],
            [
             0.8,
             "#7fbc41"
            ],
            [
             0.9,
             "#4d9221"
            ],
            [
             1,
             "#276419"
            ]
           ],
           "sequential": [
            [
             0,
             "#0d0887"
            ],
            [
             0.1111111111111111,
             "#46039f"
            ],
            [
             0.2222222222222222,
             "#7201a8"
            ],
            [
             0.3333333333333333,
             "#9c179e"
            ],
            [
             0.4444444444444444,
             "#bd3786"
            ],
            [
             0.5555555555555556,
             "#d8576b"
            ],
            [
             0.6666666666666666,
             "#ed7953"
            ],
            [
             0.7777777777777778,
             "#fb9f3a"
            ],
            [
             0.8888888888888888,
             "#fdca26"
            ],
            [
             1,
             "#f0f921"
            ]
           ],
           "sequentialminus": [
            [
             0,
             "#0d0887"
            ],
            [
             0.1111111111111111,
             "#46039f"
            ],
            [
             0.2222222222222222,
             "#7201a8"
            ],
            [
             0.3333333333333333,
             "#9c179e"
            ],
            [
             0.4444444444444444,
             "#bd3786"
            ],
            [
             0.5555555555555556,
             "#d8576b"
            ],
            [
             0.6666666666666666,
             "#ed7953"
            ],
            [
             0.7777777777777778,
             "#fb9f3a"
            ],
            [
             0.8888888888888888,
             "#fdca26"
            ],
            [
             1,
             "#f0f921"
            ]
           ]
          },
          "colorway": [
           "#636efa",
           "#EF553B",
           "#00cc96",
           "#ab63fa",
           "#FFA15A",
           "#19d3f3",
           "#FF6692",
           "#B6E880",
           "#FF97FF",
           "#FECB52"
          ],
          "font": {
           "color": "#2a3f5f"
          },
          "geo": {
           "bgcolor": "white",
           "lakecolor": "white",
           "landcolor": "#E5ECF6",
           "showlakes": true,
           "showland": true,
           "subunitcolor": "white"
          },
          "hoverlabel": {
           "align": "left"
          },
          "hovermode": "closest",
          "mapbox": {
           "style": "light"
          },
          "paper_bgcolor": "white",
          "plot_bgcolor": "#E5ECF6",
          "polar": {
           "angularaxis": {
            "gridcolor": "white",
            "linecolor": "white",
            "ticks": ""
           },
           "bgcolor": "#E5ECF6",
           "radialaxis": {
            "gridcolor": "white",
            "linecolor": "white",
            "ticks": ""
           }
          },
          "scene": {
           "xaxis": {
            "backgroundcolor": "#E5ECF6",
            "gridcolor": "white",
            "gridwidth": 2,
            "linecolor": "white",
            "showbackground": true,
            "ticks": "",
            "zerolinecolor": "white"
           },
           "yaxis": {
            "backgroundcolor": "#E5ECF6",
            "gridcolor": "white",
            "gridwidth": 2,
            "linecolor": "white",
            "showbackground": true,
            "ticks": "",
            "zerolinecolor": "white"
           },
           "zaxis": {
            "backgroundcolor": "#E5ECF6",
            "gridcolor": "white",
            "gridwidth": 2,
            "linecolor": "white",
            "showbackground": true,
            "ticks": "",
            "zerolinecolor": "white"
           }
          },
          "shapedefaults": {
           "line": {
            "color": "#2a3f5f"
           }
          },
          "ternary": {
           "aaxis": {
            "gridcolor": "white",
            "linecolor": "white",
            "ticks": ""
           },
           "baxis": {
            "gridcolor": "white",
            "linecolor": "white",
            "ticks": ""
           },
           "bgcolor": "#E5ECF6",
           "caxis": {
            "gridcolor": "white",
            "linecolor": "white",
            "ticks": ""
           }
          },
          "title": {
           "x": 0.05
          },
          "xaxis": {
           "automargin": true,
           "gridcolor": "white",
           "linecolor": "white",
           "ticks": "",
           "title": {
            "standoff": 15
           },
           "zerolinecolor": "white",
           "zerolinewidth": 2
          },
          "yaxis": {
           "automargin": true,
           "gridcolor": "white",
           "linecolor": "white",
           "ticks": "",
           "title": {
            "standoff": 15
           },
           "zerolinecolor": "white",
           "zerolinewidth": 2
          }
         }
        },
        "title": {
         "text": "Top 5 States with Lowest CO2 Emissions"
        }
       }
      },
      "text/html": [
       "<div>                            <div id=\"073a60a2-26ff-4dd5-97dc-d1eb0d6ece84\" class=\"plotly-graph-div\" style=\"height:525px; width:100%;\"></div>            <script type=\"text/javascript\">                require([\"plotly\"], function(Plotly) {                    window.PLOTLYENV=window.PLOTLYENV || {};                                    if (document.getElementById(\"073a60a2-26ff-4dd5-97dc-d1eb0d6ece84\")) {                    Plotly.newPlot(                        \"073a60a2-26ff-4dd5-97dc-d1eb0d6ece84\",                        [{\"hole\":0.3,\"labels\":[\"District Of Columbia\",\"Vermont\",\"Rhode Island\",\"New Hampshire\",\"Delaware\"],\"values\":[4.9082174496745,7.649251162936002,10.2410289278132,16.8721642445757,19.7130992749581],\"type\":\"pie\"}],                        {\"template\":{\"data\":{\"histogram2dcontour\":[{\"type\":\"histogram2dcontour\",\"colorbar\":{\"outlinewidth\":0,\"ticks\":\"\"},\"colorscale\":[[0.0,\"#0d0887\"],[0.1111111111111111,\"#46039f\"],[0.2222222222222222,\"#7201a8\"],[0.3333333333333333,\"#9c179e\"],[0.4444444444444444,\"#bd3786\"],[0.5555555555555556,\"#d8576b\"],[0.6666666666666666,\"#ed7953\"],[0.7777777777777778,\"#fb9f3a\"],[0.8888888888888888,\"#fdca26\"],[1.0,\"#f0f921\"]]}],\"choropleth\":[{\"type\":\"choropleth\",\"colorbar\":{\"outlinewidth\":0,\"ticks\":\"\"}}],\"histogram2d\":[{\"type\":\"histogram2d\",\"colorbar\":{\"outlinewidth\":0,\"ticks\":\"\"},\"colorscale\":[[0.0,\"#0d0887\"],[0.1111111111111111,\"#46039f\"],[0.2222222222222222,\"#7201a8\"],[0.3333333333333333,\"#9c179e\"],[0.4444444444444444,\"#bd3786\"],[0.5555555555555556,\"#d8576b\"],[0.6666666666666666,\"#ed7953\"],[0.7777777777777778,\"#fb9f3a\"],[0.8888888888888888,\"#fdca26\"],[1.0,\"#f0f921\"]]}],\"heatmap\":[{\"type\":\"heatmap\",\"colorbar\":{\"outlinewidth\":0,\"ticks\":\"\"},\"colorscale\":[[0.0,\"#0d0887\"],[0.1111111111111111,\"#46039f\"],[0.2222222222222222,\"#7201a8\"],[0.3333333333333333,\"#9c179e\"],[0.4444444444444444,\"#bd3786\"],[0.5555555555555556,\"#d8576b\"],[0.6666666666666666,\"#ed7953\"],[0.7777777777777778,\"#fb9f3a\"],[0.8888888888888888,\"#fdca26\"],[1.0,\"#f0f921\"]]}],\"heatmapgl\":[{\"type\":\"heatmapgl\",\"colorbar\":{\"outlinewidth\":0,\"ticks\":\"\"},\"colorscale\":[[0.0,\"#0d0887\"],[0.1111111111111111,\"#46039f\"],[0.2222222222222222,\"#7201a8\"],[0.3333333333333333,\"#9c179e\"],[0.4444444444444444,\"#bd3786\"],[0.5555555555555556,\"#d8576b\"],[0.6666666666666666,\"#ed7953\"],[0.7777777777777778,\"#fb9f3a\"],[0.8888888888888888,\"#fdca26\"],[1.0,\"#f0f921\"]]}],\"contourcarpet\":[{\"type\":\"contourcarpet\",\"colorbar\":{\"outlinewidth\":0,\"ticks\":\"\"}}],\"contour\":[{\"type\":\"contour\",\"colorbar\":{\"outlinewidth\":0,\"ticks\":\"\"},\"colorscale\":[[0.0,\"#0d0887\"],[0.1111111111111111,\"#46039f\"],[0.2222222222222222,\"#7201a8\"],[0.3333333333333333,\"#9c179e\"],[0.4444444444444444,\"#bd3786\"],[0.5555555555555556,\"#d8576b\"],[0.6666666666666666,\"#ed7953\"],[0.7777777777777778,\"#fb9f3a\"],[0.8888888888888888,\"#fdca26\"],[1.0,\"#f0f921\"]]}],\"surface\":[{\"type\":\"surface\",\"colorbar\":{\"outlinewidth\":0,\"ticks\":\"\"},\"colorscale\":[[0.0,\"#0d0887\"],[0.1111111111111111,\"#46039f\"],[0.2222222222222222,\"#7201a8\"],[0.3333333333333333,\"#9c179e\"],[0.4444444444444444,\"#bd3786\"],[0.5555555555555556,\"#d8576b\"],[0.6666666666666666,\"#ed7953\"],[0.7777777777777778,\"#fb9f3a\"],[0.8888888888888888,\"#fdca26\"],[1.0,\"#f0f921\"]]}],\"mesh3d\":[{\"type\":\"mesh3d\",\"colorbar\":{\"outlinewidth\":0,\"ticks\":\"\"}}],\"scatter\":[{\"fillpattern\":{\"fillmode\":\"overlay\",\"size\":10,\"solidity\":0.2},\"type\":\"scatter\"}],\"parcoords\":[{\"type\":\"parcoords\",\"line\":{\"colorbar\":{\"outlinewidth\":0,\"ticks\":\"\"}}}],\"scatterpolargl\":[{\"type\":\"scatterpolargl\",\"marker\":{\"colorbar\":{\"outlinewidth\":0,\"ticks\":\"\"}}}],\"bar\":[{\"error_x\":{\"color\":\"#2a3f5f\"},\"error_y\":{\"color\":\"#2a3f5f\"},\"marker\":{\"line\":{\"color\":\"#E5ECF6\",\"width\":0.5},\"pattern\":{\"fillmode\":\"overlay\",\"size\":10,\"solidity\":0.2}},\"type\":\"bar\"}],\"scattergeo\":[{\"type\":\"scattergeo\",\"marker\":{\"colorbar\":{\"outlinewidth\":0,\"ticks\":\"\"}}}],\"scatterpolar\":[{\"type\":\"scatterpolar\",\"marker\":{\"colorbar\":{\"outlinewidth\":0,\"ticks\":\"\"}}}],\"histogram\":[{\"marker\":{\"pattern\":{\"fillmode\":\"overlay\",\"size\":10,\"solidity\":0.2}},\"type\":\"histogram\"}],\"scattergl\":[{\"type\":\"scattergl\",\"marker\":{\"colorbar\":{\"outlinewidth\":0,\"ticks\":\"\"}}}],\"scatter3d\":[{\"type\":\"scatter3d\",\"line\":{\"colorbar\":{\"outlinewidth\":0,\"ticks\":\"\"}},\"marker\":{\"colorbar\":{\"outlinewidth\":0,\"ticks\":\"\"}}}],\"scattermapbox\":[{\"type\":\"scattermapbox\",\"marker\":{\"colorbar\":{\"outlinewidth\":0,\"ticks\":\"\"}}}],\"scatterternary\":[{\"type\":\"scatterternary\",\"marker\":{\"colorbar\":{\"outlinewidth\":0,\"ticks\":\"\"}}}],\"scattercarpet\":[{\"type\":\"scattercarpet\",\"marker\":{\"colorbar\":{\"outlinewidth\":0,\"ticks\":\"\"}}}],\"carpet\":[{\"aaxis\":{\"endlinecolor\":\"#2a3f5f\",\"gridcolor\":\"white\",\"linecolor\":\"white\",\"minorgridcolor\":\"white\",\"startlinecolor\":\"#2a3f5f\"},\"baxis\":{\"endlinecolor\":\"#2a3f5f\",\"gridcolor\":\"white\",\"linecolor\":\"white\",\"minorgridcolor\":\"white\",\"startlinecolor\":\"#2a3f5f\"},\"type\":\"carpet\"}],\"table\":[{\"cells\":{\"fill\":{\"color\":\"#EBF0F8\"},\"line\":{\"color\":\"white\"}},\"header\":{\"fill\":{\"color\":\"#C8D4E3\"},\"line\":{\"color\":\"white\"}},\"type\":\"table\"}],\"barpolar\":[{\"marker\":{\"line\":{\"color\":\"#E5ECF6\",\"width\":0.5},\"pattern\":{\"fillmode\":\"overlay\",\"size\":10,\"solidity\":0.2}},\"type\":\"barpolar\"}],\"pie\":[{\"automargin\":true,\"type\":\"pie\"}]},\"layout\":{\"autotypenumbers\":\"strict\",\"colorway\":[\"#636efa\",\"#EF553B\",\"#00cc96\",\"#ab63fa\",\"#FFA15A\",\"#19d3f3\",\"#FF6692\",\"#B6E880\",\"#FF97FF\",\"#FECB52\"],\"font\":{\"color\":\"#2a3f5f\"},\"hovermode\":\"closest\",\"hoverlabel\":{\"align\":\"left\"},\"paper_bgcolor\":\"white\",\"plot_bgcolor\":\"#E5ECF6\",\"polar\":{\"bgcolor\":\"#E5ECF6\",\"angularaxis\":{\"gridcolor\":\"white\",\"linecolor\":\"white\",\"ticks\":\"\"},\"radialaxis\":{\"gridcolor\":\"white\",\"linecolor\":\"white\",\"ticks\":\"\"}},\"ternary\":{\"bgcolor\":\"#E5ECF6\",\"aaxis\":{\"gridcolor\":\"white\",\"linecolor\":\"white\",\"ticks\":\"\"},\"baxis\":{\"gridcolor\":\"white\",\"linecolor\":\"white\",\"ticks\":\"\"},\"caxis\":{\"gridcolor\":\"white\",\"linecolor\":\"white\",\"ticks\":\"\"}},\"coloraxis\":{\"colorbar\":{\"outlinewidth\":0,\"ticks\":\"\"}},\"colorscale\":{\"sequential\":[[0.0,\"#0d0887\"],[0.1111111111111111,\"#46039f\"],[0.2222222222222222,\"#7201a8\"],[0.3333333333333333,\"#9c179e\"],[0.4444444444444444,\"#bd3786\"],[0.5555555555555556,\"#d8576b\"],[0.6666666666666666,\"#ed7953\"],[0.7777777777777778,\"#fb9f3a\"],[0.8888888888888888,\"#fdca26\"],[1.0,\"#f0f921\"]],\"sequentialminus\":[[0.0,\"#0d0887\"],[0.1111111111111111,\"#46039f\"],[0.2222222222222222,\"#7201a8\"],[0.3333333333333333,\"#9c179e\"],[0.4444444444444444,\"#bd3786\"],[0.5555555555555556,\"#d8576b\"],[0.6666666666666666,\"#ed7953\"],[0.7777777777777778,\"#fb9f3a\"],[0.8888888888888888,\"#fdca26\"],[1.0,\"#f0f921\"]],\"diverging\":[[0,\"#8e0152\"],[0.1,\"#c51b7d\"],[0.2,\"#de77ae\"],[0.3,\"#f1b6da\"],[0.4,\"#fde0ef\"],[0.5,\"#f7f7f7\"],[0.6,\"#e6f5d0\"],[0.7,\"#b8e186\"],[0.8,\"#7fbc41\"],[0.9,\"#4d9221\"],[1,\"#276419\"]]},\"xaxis\":{\"gridcolor\":\"white\",\"linecolor\":\"white\",\"ticks\":\"\",\"title\":{\"standoff\":15},\"zerolinecolor\":\"white\",\"automargin\":true,\"zerolinewidth\":2},\"yaxis\":{\"gridcolor\":\"white\",\"linecolor\":\"white\",\"ticks\":\"\",\"title\":{\"standoff\":15},\"zerolinecolor\":\"white\",\"automargin\":true,\"zerolinewidth\":2},\"scene\":{\"xaxis\":{\"backgroundcolor\":\"#E5ECF6\",\"gridcolor\":\"white\",\"linecolor\":\"white\",\"showbackground\":true,\"ticks\":\"\",\"zerolinecolor\":\"white\",\"gridwidth\":2},\"yaxis\":{\"backgroundcolor\":\"#E5ECF6\",\"gridcolor\":\"white\",\"linecolor\":\"white\",\"showbackground\":true,\"ticks\":\"\",\"zerolinecolor\":\"white\",\"gridwidth\":2},\"zaxis\":{\"backgroundcolor\":\"#E5ECF6\",\"gridcolor\":\"white\",\"linecolor\":\"white\",\"showbackground\":true,\"ticks\":\"\",\"zerolinecolor\":\"white\",\"gridwidth\":2}},\"shapedefaults\":{\"line\":{\"color\":\"#2a3f5f\"}},\"annotationdefaults\":{\"arrowcolor\":\"#2a3f5f\",\"arrowhead\":0,\"arrowwidth\":1},\"geo\":{\"bgcolor\":\"white\",\"landcolor\":\"#E5ECF6\",\"subunitcolor\":\"white\",\"showland\":true,\"showlakes\":true,\"lakecolor\":\"white\"},\"title\":{\"x\":0.05},\"mapbox\":{\"style\":\"light\"}}},\"title\":{\"text\":\"Top 5 States with Lowest CO2 Emissions\"}},                        {\"responsive\": true}                    ).then(function(){\n",
       "                            \n",
       "var gd = document.getElementById('073a60a2-26ff-4dd5-97dc-d1eb0d6ece84');\n",
       "var x = new MutationObserver(function (mutations, observer) {{\n",
       "        var display = window.getComputedStyle(gd).display;\n",
       "        if (!display || display === 'none') {{\n",
       "            console.log([gd, 'removed!']);\n",
       "            Plotly.purge(gd);\n",
       "            observer.disconnect();\n",
       "        }}\n",
       "}});\n",
       "\n",
       "// Listen for the removal of the full notebook cells\n",
       "var notebookContainer = gd.closest('#notebook-container');\n",
       "if (notebookContainer) {{\n",
       "    x.observe(notebookContainer, {childList: true});\n",
       "}}\n",
       "\n",
       "// Listen for the clearing of the current output cell\n",
       "var outputEl = gd.closest('.output');\n",
       "if (outputEl) {{\n",
       "    x.observe(outputEl, {childList: true});\n",
       "}}\n",
       "\n",
       "                        })                };                });            </script>        </div>"
      ]
     },
     "metadata": {},
     "output_type": "display_data"
    }
   ],
   "source": [
    "# Plot pie chart for top 5 lowest CO2 emissions using plotly\n",
    "bottom_5_states_df = pd.DataFrame(bottom_5_states_lowest_emissions_data, columns=['State', 'Emissions'])\n",
    "\n",
    "# Plot pie chart for top 5 lowest CO2 emissions using plotly\n",
    "fig2 = go.Figure(data=[go.Pie(labels=bottom_5_states_df['State'], values=bottom_5_states_df['Emissions'], hole=.3)])\n",
    "fig2.update_layout(title_text='Top 5 States with Lowest CO2 Emissions')\n",
    "\n",
    "# Save the figure as an image\n",
    "# fig2.write_image(\"top_5_lowest_CO2_emissions.png\")\n",
    "\n"
   ]
  },
  {
   "cell_type": "code",
   "execution_count": 90,
   "id": "94cd0789",
   "metadata": {},
   "outputs": [
    {
     "data": {
      "application/vnd.plotly.v1+json": {
       "config": {
        "linkText": "Export to plot.ly",
        "plotlyServerURL": "https://plot.ly",
        "showLink": false
       },
       "data": [
        {
         "hole": 0.3,
         "labels": [
          "Texas",
          "California",
          "Pennsylvania",
          "Ohio",
          "Illinois"
         ],
         "textinfo": "label+percent",
         "type": "pie",
         "values": [
          769.4285588063276,
          439.39811845295,
          303.25183939006087,
          301.03097232999573,
          253.8883962714412
         ],
         "visible": true
        },
        {
         "hole": 0.3,
         "labels": [
          "District Of Columbia",
          "Vermont",
          "Rhode Island",
          "New Hampshire",
          "Delaware"
         ],
         "textinfo": "label+percent",
         "type": "pie",
         "values": [
          4.9082174496745,
          7.649251162936002,
          10.2410289278132,
          16.8721642445757,
          19.7130992749581
         ],
         "visible": false
        }
       ],
       "layout": {
        "template": {
         "data": {
          "bar": [
           {
            "error_x": {
             "color": "#2a3f5f"
            },
            "error_y": {
             "color": "#2a3f5f"
            },
            "marker": {
             "line": {
              "color": "#E5ECF6",
              "width": 0.5
             },
             "pattern": {
              "fillmode": "overlay",
              "size": 10,
              "solidity": 0.2
             }
            },
            "type": "bar"
           }
          ],
          "barpolar": [
           {
            "marker": {
             "line": {
              "color": "#E5ECF6",
              "width": 0.5
             },
             "pattern": {
              "fillmode": "overlay",
              "size": 10,
              "solidity": 0.2
             }
            },
            "type": "barpolar"
           }
          ],
          "carpet": [
           {
            "aaxis": {
             "endlinecolor": "#2a3f5f",
             "gridcolor": "white",
             "linecolor": "white",
             "minorgridcolor": "white",
             "startlinecolor": "#2a3f5f"
            },
            "baxis": {
             "endlinecolor": "#2a3f5f",
             "gridcolor": "white",
             "linecolor": "white",
             "minorgridcolor": "white",
             "startlinecolor": "#2a3f5f"
            },
            "type": "carpet"
           }
          ],
          "choropleth": [
           {
            "colorbar": {
             "outlinewidth": 0,
             "ticks": ""
            },
            "type": "choropleth"
           }
          ],
          "contour": [
           {
            "colorbar": {
             "outlinewidth": 0,
             "ticks": ""
            },
            "colorscale": [
             [
              0,
              "#0d0887"
             ],
             [
              0.1111111111111111,
              "#46039f"
             ],
             [
              0.2222222222222222,
              "#7201a8"
             ],
             [
              0.3333333333333333,
              "#9c179e"
             ],
             [
              0.4444444444444444,
              "#bd3786"
             ],
             [
              0.5555555555555556,
              "#d8576b"
             ],
             [
              0.6666666666666666,
              "#ed7953"
             ],
             [
              0.7777777777777778,
              "#fb9f3a"
             ],
             [
              0.8888888888888888,
              "#fdca26"
             ],
             [
              1,
              "#f0f921"
             ]
            ],
            "type": "contour"
           }
          ],
          "contourcarpet": [
           {
            "colorbar": {
             "outlinewidth": 0,
             "ticks": ""
            },
            "type": "contourcarpet"
           }
          ],
          "heatmap": [
           {
            "colorbar": {
             "outlinewidth": 0,
             "ticks": ""
            },
            "colorscale": [
             [
              0,
              "#0d0887"
             ],
             [
              0.1111111111111111,
              "#46039f"
             ],
             [
              0.2222222222222222,
              "#7201a8"
             ],
             [
              0.3333333333333333,
              "#9c179e"
             ],
             [
              0.4444444444444444,
              "#bd3786"
             ],
             [
              0.5555555555555556,
              "#d8576b"
             ],
             [
              0.6666666666666666,
              "#ed7953"
             ],
             [
              0.7777777777777778,
              "#fb9f3a"
             ],
             [
              0.8888888888888888,
              "#fdca26"
             ],
             [
              1,
              "#f0f921"
             ]
            ],
            "type": "heatmap"
           }
          ],
          "heatmapgl": [
           {
            "colorbar": {
             "outlinewidth": 0,
             "ticks": ""
            },
            "colorscale": [
             [
              0,
              "#0d0887"
             ],
             [
              0.1111111111111111,
              "#46039f"
             ],
             [
              0.2222222222222222,
              "#7201a8"
             ],
             [
              0.3333333333333333,
              "#9c179e"
             ],
             [
              0.4444444444444444,
              "#bd3786"
             ],
             [
              0.5555555555555556,
              "#d8576b"
             ],
             [
              0.6666666666666666,
              "#ed7953"
             ],
             [
              0.7777777777777778,
              "#fb9f3a"
             ],
             [
              0.8888888888888888,
              "#fdca26"
             ],
             [
              1,
              "#f0f921"
             ]
            ],
            "type": "heatmapgl"
           }
          ],
          "histogram": [
           {
            "marker": {
             "pattern": {
              "fillmode": "overlay",
              "size": 10,
              "solidity": 0.2
             }
            },
            "type": "histogram"
           }
          ],
          "histogram2d": [
           {
            "colorbar": {
             "outlinewidth": 0,
             "ticks": ""
            },
            "colorscale": [
             [
              0,
              "#0d0887"
             ],
             [
              0.1111111111111111,
              "#46039f"
             ],
             [
              0.2222222222222222,
              "#7201a8"
             ],
             [
              0.3333333333333333,
              "#9c179e"
             ],
             [
              0.4444444444444444,
              "#bd3786"
             ],
             [
              0.5555555555555556,
              "#d8576b"
             ],
             [
              0.6666666666666666,
              "#ed7953"
             ],
             [
              0.7777777777777778,
              "#fb9f3a"
             ],
             [
              0.8888888888888888,
              "#fdca26"
             ],
             [
              1,
              "#f0f921"
             ]
            ],
            "type": "histogram2d"
           }
          ],
          "histogram2dcontour": [
           {
            "colorbar": {
             "outlinewidth": 0,
             "ticks": ""
            },
            "colorscale": [
             [
              0,
              "#0d0887"
             ],
             [
              0.1111111111111111,
              "#46039f"
             ],
             [
              0.2222222222222222,
              "#7201a8"
             ],
             [
              0.3333333333333333,
              "#9c179e"
             ],
             [
              0.4444444444444444,
              "#bd3786"
             ],
             [
              0.5555555555555556,
              "#d8576b"
             ],
             [
              0.6666666666666666,
              "#ed7953"
             ],
             [
              0.7777777777777778,
              "#fb9f3a"
             ],
             [
              0.8888888888888888,
              "#fdca26"
             ],
             [
              1,
              "#f0f921"
             ]
            ],
            "type": "histogram2dcontour"
           }
          ],
          "mesh3d": [
           {
            "colorbar": {
             "outlinewidth": 0,
             "ticks": ""
            },
            "type": "mesh3d"
           }
          ],
          "parcoords": [
           {
            "line": {
             "colorbar": {
              "outlinewidth": 0,
              "ticks": ""
             }
            },
            "type": "parcoords"
           }
          ],
          "pie": [
           {
            "automargin": true,
            "type": "pie"
           }
          ],
          "scatter": [
           {
            "fillpattern": {
             "fillmode": "overlay",
             "size": 10,
             "solidity": 0.2
            },
            "type": "scatter"
           }
          ],
          "scatter3d": [
           {
            "line": {
             "colorbar": {
              "outlinewidth": 0,
              "ticks": ""
             }
            },
            "marker": {
             "colorbar": {
              "outlinewidth": 0,
              "ticks": ""
             }
            },
            "type": "scatter3d"
           }
          ],
          "scattercarpet": [
           {
            "marker": {
             "colorbar": {
              "outlinewidth": 0,
              "ticks": ""
             }
            },
            "type": "scattercarpet"
           }
          ],
          "scattergeo": [
           {
            "marker": {
             "colorbar": {
              "outlinewidth": 0,
              "ticks": ""
             }
            },
            "type": "scattergeo"
           }
          ],
          "scattergl": [
           {
            "marker": {
             "colorbar": {
              "outlinewidth": 0,
              "ticks": ""
             }
            },
            "type": "scattergl"
           }
          ],
          "scattermapbox": [
           {
            "marker": {
             "colorbar": {
              "outlinewidth": 0,
              "ticks": ""
             }
            },
            "type": "scattermapbox"
           }
          ],
          "scatterpolar": [
           {
            "marker": {
             "colorbar": {
              "outlinewidth": 0,
              "ticks": ""
             }
            },
            "type": "scatterpolar"
           }
          ],
          "scatterpolargl": [
           {
            "marker": {
             "colorbar": {
              "outlinewidth": 0,
              "ticks": ""
             }
            },
            "type": "scatterpolargl"
           }
          ],
          "scatterternary": [
           {
            "marker": {
             "colorbar": {
              "outlinewidth": 0,
              "ticks": ""
             }
            },
            "type": "scatterternary"
           }
          ],
          "surface": [
           {
            "colorbar": {
             "outlinewidth": 0,
             "ticks": ""
            },
            "colorscale": [
             [
              0,
              "#0d0887"
             ],
             [
              0.1111111111111111,
              "#46039f"
             ],
             [
              0.2222222222222222,
              "#7201a8"
             ],
             [
              0.3333333333333333,
              "#9c179e"
             ],
             [
              0.4444444444444444,
              "#bd3786"
             ],
             [
              0.5555555555555556,
              "#d8576b"
             ],
             [
              0.6666666666666666,
              "#ed7953"
             ],
             [
              0.7777777777777778,
              "#fb9f3a"
             ],
             [
              0.8888888888888888,
              "#fdca26"
             ],
             [
              1,
              "#f0f921"
             ]
            ],
            "type": "surface"
           }
          ],
          "table": [
           {
            "cells": {
             "fill": {
              "color": "#EBF0F8"
             },
             "line": {
              "color": "white"
             }
            },
            "header": {
             "fill": {
              "color": "#C8D4E3"
             },
             "line": {
              "color": "white"
             }
            },
            "type": "table"
           }
          ]
         },
         "layout": {
          "annotationdefaults": {
           "arrowcolor": "#2a3f5f",
           "arrowhead": 0,
           "arrowwidth": 1
          },
          "autotypenumbers": "strict",
          "coloraxis": {
           "colorbar": {
            "outlinewidth": 0,
            "ticks": ""
           }
          },
          "colorscale": {
           "diverging": [
            [
             0,
             "#8e0152"
            ],
            [
             0.1,
             "#c51b7d"
            ],
            [
             0.2,
             "#de77ae"
            ],
            [
             0.3,
             "#f1b6da"
            ],
            [
             0.4,
             "#fde0ef"
            ],
            [
             0.5,
             "#f7f7f7"
            ],
            [
             0.6,
             "#e6f5d0"
            ],
            [
             0.7,
             "#b8e186"
            ],
            [
             0.8,
             "#7fbc41"
            ],
            [
             0.9,
             "#4d9221"
            ],
            [
             1,
             "#276419"
            ]
           ],
           "sequential": [
            [
             0,
             "#0d0887"
            ],
            [
             0.1111111111111111,
             "#46039f"
            ],
            [
             0.2222222222222222,
             "#7201a8"
            ],
            [
             0.3333333333333333,
             "#9c179e"
            ],
            [
             0.4444444444444444,
             "#bd3786"
            ],
            [
             0.5555555555555556,
             "#d8576b"
            ],
            [
             0.6666666666666666,
             "#ed7953"
            ],
            [
             0.7777777777777778,
             "#fb9f3a"
            ],
            [
             0.8888888888888888,
             "#fdca26"
            ],
            [
             1,
             "#f0f921"
            ]
           ],
           "sequentialminus": [
            [
             0,
             "#0d0887"
            ],
            [
             0.1111111111111111,
             "#46039f"
            ],
            [
             0.2222222222222222,
             "#7201a8"
            ],
            [
             0.3333333333333333,
             "#9c179e"
            ],
            [
             0.4444444444444444,
             "#bd3786"
            ],
            [
             0.5555555555555556,
             "#d8576b"
            ],
            [
             0.6666666666666666,
             "#ed7953"
            ],
            [
             0.7777777777777778,
             "#fb9f3a"
            ],
            [
             0.8888888888888888,
             "#fdca26"
            ],
            [
             1,
             "#f0f921"
            ]
           ]
          },
          "colorway": [
           "#636efa",
           "#EF553B",
           "#00cc96",
           "#ab63fa",
           "#FFA15A",
           "#19d3f3",
           "#FF6692",
           "#B6E880",
           "#FF97FF",
           "#FECB52"
          ],
          "font": {
           "color": "#2a3f5f"
          },
          "geo": {
           "bgcolor": "white",
           "lakecolor": "white",
           "landcolor": "#E5ECF6",
           "showlakes": true,
           "showland": true,
           "subunitcolor": "white"
          },
          "hoverlabel": {
           "align": "left"
          },
          "hovermode": "closest",
          "mapbox": {
           "style": "light"
          },
          "paper_bgcolor": "white",
          "plot_bgcolor": "#E5ECF6",
          "polar": {
           "angularaxis": {
            "gridcolor": "white",
            "linecolor": "white",
            "ticks": ""
           },
           "bgcolor": "#E5ECF6",
           "radialaxis": {
            "gridcolor": "white",
            "linecolor": "white",
            "ticks": ""
           }
          },
          "scene": {
           "xaxis": {
            "backgroundcolor": "#E5ECF6",
            "gridcolor": "white",
            "gridwidth": 2,
            "linecolor": "white",
            "showbackground": true,
            "ticks": "",
            "zerolinecolor": "white"
           },
           "yaxis": {
            "backgroundcolor": "#E5ECF6",
            "gridcolor": "white",
            "gridwidth": 2,
            "linecolor": "white",
            "showbackground": true,
            "ticks": "",
            "zerolinecolor": "white"
           },
           "zaxis": {
            "backgroundcolor": "#E5ECF6",
            "gridcolor": "white",
            "gridwidth": 2,
            "linecolor": "white",
            "showbackground": true,
            "ticks": "",
            "zerolinecolor": "white"
           }
          },
          "shapedefaults": {
           "line": {
            "color": "#2a3f5f"
           }
          },
          "ternary": {
           "aaxis": {
            "gridcolor": "white",
            "linecolor": "white",
            "ticks": ""
           },
           "baxis": {
            "gridcolor": "white",
            "linecolor": "white",
            "ticks": ""
           },
           "bgcolor": "#E5ECF6",
           "caxis": {
            "gridcolor": "white",
            "linecolor": "white",
            "ticks": ""
           }
          },
          "title": {
           "x": 0.05
          },
          "xaxis": {
           "automargin": true,
           "gridcolor": "white",
           "linecolor": "white",
           "ticks": "",
           "title": {
            "standoff": 15
           },
           "zerolinecolor": "white",
           "zerolinewidth": 2
          },
          "yaxis": {
           "automargin": true,
           "gridcolor": "white",
           "linecolor": "white",
           "ticks": "",
           "title": {
            "standoff": 15
           },
           "zerolinecolor": "white",
           "zerolinewidth": 2
          }
         }
        },
        "updatemenus": [
         {
          "buttons": [
           {
            "args": [
             {
              "visible": [
               true,
               false
              ]
             }
            ],
            "label": "Top 5",
            "method": "update"
           },
           {
            "args": [
             {
              "visible": [
               false,
               true
              ]
             }
            ],
            "label": "Bottom 5",
            "method": "update"
           }
          ],
          "direction": "down",
          "pad": {
           "r": 10,
           "t": 10
          },
          "showactive": true,
          "x": 0.1,
          "xanchor": "left",
          "y": 1.1,
          "yanchor": "top"
         }
        ]
       }
      },
      "text/html": [
       "<div>                            <div id=\"97c60fbf-b865-4113-ace5-acef946f9fdd\" class=\"plotly-graph-div\" style=\"height:525px; width:100%;\"></div>            <script type=\"text/javascript\">                require([\"plotly\"], function(Plotly) {                    window.PLOTLYENV=window.PLOTLYENV || {};                                    if (document.getElementById(\"97c60fbf-b865-4113-ace5-acef946f9fdd\")) {                    Plotly.newPlot(                        \"97c60fbf-b865-4113-ace5-acef946f9fdd\",                        [{\"hole\":0.3,\"labels\":[\"Texas\",\"California\",\"Pennsylvania\",\"Ohio\",\"Illinois\"],\"textinfo\":\"label+percent\",\"values\":[769.4285588063276,439.39811845295,303.25183939006087,301.03097232999573,253.8883962714412],\"visible\":true,\"type\":\"pie\"},{\"hole\":0.3,\"labels\":[\"District Of Columbia\",\"Vermont\",\"Rhode Island\",\"New Hampshire\",\"Delaware\"],\"textinfo\":\"label+percent\",\"values\":[4.9082174496745,7.649251162936002,10.2410289278132,16.8721642445757,19.7130992749581],\"visible\":false,\"type\":\"pie\"}],                        {\"template\":{\"data\":{\"barpolar\":[{\"marker\":{\"line\":{\"color\":\"#E5ECF6\",\"width\":0.5},\"pattern\":{\"fillmode\":\"overlay\",\"size\":10,\"solidity\":0.2}},\"type\":\"barpolar\"}],\"bar\":[{\"error_x\":{\"color\":\"#2a3f5f\"},\"error_y\":{\"color\":\"#2a3f5f\"},\"marker\":{\"line\":{\"color\":\"#E5ECF6\",\"width\":0.5},\"pattern\":{\"fillmode\":\"overlay\",\"size\":10,\"solidity\":0.2}},\"type\":\"bar\"}],\"carpet\":[{\"aaxis\":{\"endlinecolor\":\"#2a3f5f\",\"gridcolor\":\"white\",\"linecolor\":\"white\",\"minorgridcolor\":\"white\",\"startlinecolor\":\"#2a3f5f\"},\"baxis\":{\"endlinecolor\":\"#2a3f5f\",\"gridcolor\":\"white\",\"linecolor\":\"white\",\"minorgridcolor\":\"white\",\"startlinecolor\":\"#2a3f5f\"},\"type\":\"carpet\"}],\"choropleth\":[{\"colorbar\":{\"outlinewidth\":0,\"ticks\":\"\"},\"type\":\"choropleth\"}],\"contourcarpet\":[{\"colorbar\":{\"outlinewidth\":0,\"ticks\":\"\"},\"type\":\"contourcarpet\"}],\"contour\":[{\"colorbar\":{\"outlinewidth\":0,\"ticks\":\"\"},\"colorscale\":[[0.0,\"#0d0887\"],[0.1111111111111111,\"#46039f\"],[0.2222222222222222,\"#7201a8\"],[0.3333333333333333,\"#9c179e\"],[0.4444444444444444,\"#bd3786\"],[0.5555555555555556,\"#d8576b\"],[0.6666666666666666,\"#ed7953\"],[0.7777777777777778,\"#fb9f3a\"],[0.8888888888888888,\"#fdca26\"],[1.0,\"#f0f921\"]],\"type\":\"contour\"}],\"heatmapgl\":[{\"colorbar\":{\"outlinewidth\":0,\"ticks\":\"\"},\"colorscale\":[[0.0,\"#0d0887\"],[0.1111111111111111,\"#46039f\"],[0.2222222222222222,\"#7201a8\"],[0.3333333333333333,\"#9c179e\"],[0.4444444444444444,\"#bd3786\"],[0.5555555555555556,\"#d8576b\"],[0.6666666666666666,\"#ed7953\"],[0.7777777777777778,\"#fb9f3a\"],[0.8888888888888888,\"#fdca26\"],[1.0,\"#f0f921\"]],\"type\":\"heatmapgl\"}],\"heatmap\":[{\"colorbar\":{\"outlinewidth\":0,\"ticks\":\"\"},\"colorscale\":[[0.0,\"#0d0887\"],[0.1111111111111111,\"#46039f\"],[0.2222222222222222,\"#7201a8\"],[0.3333333333333333,\"#9c179e\"],[0.4444444444444444,\"#bd3786\"],[0.5555555555555556,\"#d8576b\"],[0.6666666666666666,\"#ed7953\"],[0.7777777777777778,\"#fb9f3a\"],[0.8888888888888888,\"#fdca26\"],[1.0,\"#f0f921\"]],\"type\":\"heatmap\"}],\"histogram2dcontour\":[{\"colorbar\":{\"outlinewidth\":0,\"ticks\":\"\"},\"colorscale\":[[0.0,\"#0d0887\"],[0.1111111111111111,\"#46039f\"],[0.2222222222222222,\"#7201a8\"],[0.3333333333333333,\"#9c179e\"],[0.4444444444444444,\"#bd3786\"],[0.5555555555555556,\"#d8576b\"],[0.6666666666666666,\"#ed7953\"],[0.7777777777777778,\"#fb9f3a\"],[0.8888888888888888,\"#fdca26\"],[1.0,\"#f0f921\"]],\"type\":\"histogram2dcontour\"}],\"histogram2d\":[{\"colorbar\":{\"outlinewidth\":0,\"ticks\":\"\"},\"colorscale\":[[0.0,\"#0d0887\"],[0.1111111111111111,\"#46039f\"],[0.2222222222222222,\"#7201a8\"],[0.3333333333333333,\"#9c179e\"],[0.4444444444444444,\"#bd3786\"],[0.5555555555555556,\"#d8576b\"],[0.6666666666666666,\"#ed7953\"],[0.7777777777777778,\"#fb9f3a\"],[0.8888888888888888,\"#fdca26\"],[1.0,\"#f0f921\"]],\"type\":\"histogram2d\"}],\"histogram\":[{\"marker\":{\"pattern\":{\"fillmode\":\"overlay\",\"size\":10,\"solidity\":0.2}},\"type\":\"histogram\"}],\"mesh3d\":[{\"colorbar\":{\"outlinewidth\":0,\"ticks\":\"\"},\"type\":\"mesh3d\"}],\"parcoords\":[{\"line\":{\"colorbar\":{\"outlinewidth\":0,\"ticks\":\"\"}},\"type\":\"parcoords\"}],\"pie\":[{\"automargin\":true,\"type\":\"pie\"}],\"scatter3d\":[{\"line\":{\"colorbar\":{\"outlinewidth\":0,\"ticks\":\"\"}},\"marker\":{\"colorbar\":{\"outlinewidth\":0,\"ticks\":\"\"}},\"type\":\"scatter3d\"}],\"scattercarpet\":[{\"marker\":{\"colorbar\":{\"outlinewidth\":0,\"ticks\":\"\"}},\"type\":\"scattercarpet\"}],\"scattergeo\":[{\"marker\":{\"colorbar\":{\"outlinewidth\":0,\"ticks\":\"\"}},\"type\":\"scattergeo\"}],\"scattergl\":[{\"marker\":{\"colorbar\":{\"outlinewidth\":0,\"ticks\":\"\"}},\"type\":\"scattergl\"}],\"scattermapbox\":[{\"marker\":{\"colorbar\":{\"outlinewidth\":0,\"ticks\":\"\"}},\"type\":\"scattermapbox\"}],\"scatterpolargl\":[{\"marker\":{\"colorbar\":{\"outlinewidth\":0,\"ticks\":\"\"}},\"type\":\"scatterpolargl\"}],\"scatterpolar\":[{\"marker\":{\"colorbar\":{\"outlinewidth\":0,\"ticks\":\"\"}},\"type\":\"scatterpolar\"}],\"scatter\":[{\"fillpattern\":{\"fillmode\":\"overlay\",\"size\":10,\"solidity\":0.2},\"type\":\"scatter\"}],\"scatterternary\":[{\"marker\":{\"colorbar\":{\"outlinewidth\":0,\"ticks\":\"\"}},\"type\":\"scatterternary\"}],\"surface\":[{\"colorbar\":{\"outlinewidth\":0,\"ticks\":\"\"},\"colorscale\":[[0.0,\"#0d0887\"],[0.1111111111111111,\"#46039f\"],[0.2222222222222222,\"#7201a8\"],[0.3333333333333333,\"#9c179e\"],[0.4444444444444444,\"#bd3786\"],[0.5555555555555556,\"#d8576b\"],[0.6666666666666666,\"#ed7953\"],[0.7777777777777778,\"#fb9f3a\"],[0.8888888888888888,\"#fdca26\"],[1.0,\"#f0f921\"]],\"type\":\"surface\"}],\"table\":[{\"cells\":{\"fill\":{\"color\":\"#EBF0F8\"},\"line\":{\"color\":\"white\"}},\"header\":{\"fill\":{\"color\":\"#C8D4E3\"},\"line\":{\"color\":\"white\"}},\"type\":\"table\"}]},\"layout\":{\"annotationdefaults\":{\"arrowcolor\":\"#2a3f5f\",\"arrowhead\":0,\"arrowwidth\":1},\"autotypenumbers\":\"strict\",\"coloraxis\":{\"colorbar\":{\"outlinewidth\":0,\"ticks\":\"\"}},\"colorscale\":{\"diverging\":[[0,\"#8e0152\"],[0.1,\"#c51b7d\"],[0.2,\"#de77ae\"],[0.3,\"#f1b6da\"],[0.4,\"#fde0ef\"],[0.5,\"#f7f7f7\"],[0.6,\"#e6f5d0\"],[0.7,\"#b8e186\"],[0.8,\"#7fbc41\"],[0.9,\"#4d9221\"],[1,\"#276419\"]],\"sequential\":[[0.0,\"#0d0887\"],[0.1111111111111111,\"#46039f\"],[0.2222222222222222,\"#7201a8\"],[0.3333333333333333,\"#9c179e\"],[0.4444444444444444,\"#bd3786\"],[0.5555555555555556,\"#d8576b\"],[0.6666666666666666,\"#ed7953\"],[0.7777777777777778,\"#fb9f3a\"],[0.8888888888888888,\"#fdca26\"],[1.0,\"#f0f921\"]],\"sequentialminus\":[[0.0,\"#0d0887\"],[0.1111111111111111,\"#46039f\"],[0.2222222222222222,\"#7201a8\"],[0.3333333333333333,\"#9c179e\"],[0.4444444444444444,\"#bd3786\"],[0.5555555555555556,\"#d8576b\"],[0.6666666666666666,\"#ed7953\"],[0.7777777777777778,\"#fb9f3a\"],[0.8888888888888888,\"#fdca26\"],[1.0,\"#f0f921\"]]},\"colorway\":[\"#636efa\",\"#EF553B\",\"#00cc96\",\"#ab63fa\",\"#FFA15A\",\"#19d3f3\",\"#FF6692\",\"#B6E880\",\"#FF97FF\",\"#FECB52\"],\"font\":{\"color\":\"#2a3f5f\"},\"geo\":{\"bgcolor\":\"white\",\"lakecolor\":\"white\",\"landcolor\":\"#E5ECF6\",\"showlakes\":true,\"showland\":true,\"subunitcolor\":\"white\"},\"hoverlabel\":{\"align\":\"left\"},\"hovermode\":\"closest\",\"mapbox\":{\"style\":\"light\"},\"paper_bgcolor\":\"white\",\"plot_bgcolor\":\"#E5ECF6\",\"polar\":{\"angularaxis\":{\"gridcolor\":\"white\",\"linecolor\":\"white\",\"ticks\":\"\"},\"bgcolor\":\"#E5ECF6\",\"radialaxis\":{\"gridcolor\":\"white\",\"linecolor\":\"white\",\"ticks\":\"\"}},\"scene\":{\"xaxis\":{\"backgroundcolor\":\"#E5ECF6\",\"gridcolor\":\"white\",\"gridwidth\":2,\"linecolor\":\"white\",\"showbackground\":true,\"ticks\":\"\",\"zerolinecolor\":\"white\"},\"yaxis\":{\"backgroundcolor\":\"#E5ECF6\",\"gridcolor\":\"white\",\"gridwidth\":2,\"linecolor\":\"white\",\"showbackground\":true,\"ticks\":\"\",\"zerolinecolor\":\"white\"},\"zaxis\":{\"backgroundcolor\":\"#E5ECF6\",\"gridcolor\":\"white\",\"gridwidth\":2,\"linecolor\":\"white\",\"showbackground\":true,\"ticks\":\"\",\"zerolinecolor\":\"white\"}},\"shapedefaults\":{\"line\":{\"color\":\"#2a3f5f\"}},\"ternary\":{\"aaxis\":{\"gridcolor\":\"white\",\"linecolor\":\"white\",\"ticks\":\"\"},\"baxis\":{\"gridcolor\":\"white\",\"linecolor\":\"white\",\"ticks\":\"\"},\"bgcolor\":\"#E5ECF6\",\"caxis\":{\"gridcolor\":\"white\",\"linecolor\":\"white\",\"ticks\":\"\"}},\"title\":{\"x\":0.05},\"xaxis\":{\"automargin\":true,\"gridcolor\":\"white\",\"linecolor\":\"white\",\"ticks\":\"\",\"title\":{\"standoff\":15},\"zerolinecolor\":\"white\",\"zerolinewidth\":2},\"yaxis\":{\"automargin\":true,\"gridcolor\":\"white\",\"linecolor\":\"white\",\"ticks\":\"\",\"title\":{\"standoff\":15},\"zerolinecolor\":\"white\",\"zerolinewidth\":2}}},\"updatemenus\":[{\"buttons\":[{\"args\":[{\"visible\":[true,false]}],\"label\":\"Top 5\",\"method\":\"update\"},{\"args\":[{\"visible\":[false,true]}],\"label\":\"Bottom 5\",\"method\":\"update\"}],\"direction\":\"down\",\"pad\":{\"r\":10,\"t\":10},\"showactive\":true,\"x\":0.1,\"xanchor\":\"left\",\"y\":1.1,\"yanchor\":\"top\"}]},                        {\"responsive\": true}                    ).then(function(){\n",
       "                            \n",
       "var gd = document.getElementById('97c60fbf-b865-4113-ace5-acef946f9fdd');\n",
       "var x = new MutationObserver(function (mutations, observer) {{\n",
       "        var display = window.getComputedStyle(gd).display;\n",
       "        if (!display || display === 'none') {{\n",
       "            console.log([gd, 'removed!']);\n",
       "            Plotly.purge(gd);\n",
       "            observer.disconnect();\n",
       "        }}\n",
       "}});\n",
       "\n",
       "// Listen for the removal of the full notebook cells\n",
       "var notebookContainer = gd.closest('#notebook-container');\n",
       "if (notebookContainer) {{\n",
       "    x.observe(notebookContainer, {childList: true});\n",
       "}}\n",
       "\n",
       "// Listen for the clearing of the current output cell\n",
       "var outputEl = gd.closest('.output');\n",
       "if (outputEl) {{\n",
       "    x.observe(outputEl, {childList: true});\n",
       "}}\n",
       "\n",
       "                        })                };                });            </script>        </div>"
      ]
     },
     "metadata": {},
     "output_type": "display_data"
    }
   ],
   "source": [
    "import plotly.graph_objs as go\n",
    "import plotly.offline as pyo\n",
    "\n",
    "# Create a list of options for the dropdown menu\n",
    "dropdown_options = [\n",
    "    {'label': 'Top 5 States with Highest CO2 Emissions', 'value': 'top'},\n",
    "    {'label': 'Top 5 States with Lowest CO2 Emissions', 'value': 'bottom'}\n",
    "]\n",
    "\n",
    "# Define a function to generate pie chart based on selected option\n",
    "def generate_pie_chart(option):\n",
    "    if option == 'top':\n",
    "        data = top_5_states_df\n",
    "        title = 'Top 5 States with Highest CO2 Emissions'\n",
    "    elif option == 'bottom':\n",
    "        data = bottom_5_states_df\n",
    "        title = 'Top 5 States with Lowest CO2 Emissions'\n",
    "    \n",
    "    # Create pie chart\n",
    "    fig = go.Figure(data=[go.Pie(labels=data['State'], values=data['Emissions'], \n",
    "                                  textinfo='label+percent', hole=0.3)])\n",
    "    fig.update_layout(title=title)\n",
    "    return fig\n",
    "\n",
    "# Initialize the Plotly figure\n",
    "fig = go.Figure()\n",
    "\n",
    "# Add both pie charts to the figure but make the bottom one initially invisible\n",
    "fig.add_trace(go.Pie(labels=top_5_states_df['State'], values=top_5_states_df['Emissions'], \n",
    "                     textinfo='label+percent', hole=0.3, visible=True))\n",
    "fig.add_trace(go.Pie(labels=bottom_5_states_df['State'], values=bottom_5_states_df['Emissions'], \n",
    "                     textinfo='label+percent', hole=0.3, visible=False))\n",
    "\n",
    "# Update layout to include dropdown menu\n",
    "fig.update_layout(\n",
    "    updatemenus=[\n",
    "        dict(\n",
    "            buttons=list([\n",
    "                dict(\n",
    "                    args=[{'visible': [True, False]}],\n",
    "                    label='Top 5',\n",
    "                    method='update'\n",
    "                ),\n",
    "                dict(\n",
    "                    args=[{'visible': [False, True]}],\n",
    "                    label='Bottom 5',\n",
    "                    method='update'\n",
    "                )\n",
    "            ]),\n",
    "            direction='down',\n",
    "            pad={'r': 10, 't': 10},\n",
    "            showactive=True,\n",
    "            x=0.1,\n",
    "            xanchor='left',\n",
    "            y=1.1,\n",
    "            yanchor='top'\n",
    "        )\n",
    "    ]\n",
    ")\n",
    "\n",
    "# Display the interactive plot\n",
    "pyo.iplot(fig)\n"
   ]
  },
  {
   "cell_type": "code",
   "execution_count": null,
   "id": "096cac07",
   "metadata": {},
   "outputs": [],
   "source": []
  }
 ],
 "metadata": {
  "kernelspec": {
   "display_name": "Python 3 (ipykernel)",
   "language": "python",
   "name": "python3"
  },
  "language_info": {
   "codemirror_mode": {
    "name": "ipython",
    "version": 3
   },
   "file_extension": ".py",
   "mimetype": "text/x-python",
   "name": "python",
   "nbconvert_exporter": "python",
   "pygments_lexer": "ipython3",
   "version": "3.11.5"
  }
 },
 "nbformat": 4,
 "nbformat_minor": 5
}
